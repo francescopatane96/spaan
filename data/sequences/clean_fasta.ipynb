{
 "cells": [
  {
   "cell_type": "markdown",
   "id": "e1f20959",
   "metadata": {},
   "source": [
    "# Clean and analyze datasets"
   ]
  },
  {
   "cell_type": "code",
   "execution_count": 1,
   "id": "e5b2a184",
   "metadata": {},
   "outputs": [],
   "source": [
    "from Bio import SeqIO"
   ]
  },
  {
   "cell_type": "code",
   "execution_count": 4,
   "id": "44e1621b",
   "metadata": {},
   "outputs": [],
   "source": [
    "ADH = \"./new_dataset/raw_sequences/adhesins.fa\"\n",
    "ADH_60 = './new_dataset/raw_sequences/adhesins_cleaned_0.6.fa'\n",
    "ADH_25 = './new_dataset/raw_sequences/adhesins_cleaned_0.25.fa'\n",
    "NON_ADH = './new_dataset/raw_sequences/non_adhesins.fa'\n",
    "NON_ADH_RE = './new_dataset/raw_sequences/non_adhesins_reduced.fa'\n",
    "NON_ADH_60 = './new_dataset/raw_sequences/non_adhesins_reduced_cleaned_0.6.fa'\n",
    "NON_ADH_25 = './new_dataset/raw_sequences/non_adhesins_reduced_cleaned_0.25.fa'"
   ]
  },
  {
   "cell_type": "code",
   "execution_count": 5,
   "id": "dcac07c9",
   "metadata": {},
   "outputs": [
    {
     "name": "stdout",
     "output_type": "stream",
     "text": [
      "16699 adhesins before cleaning\n",
      "12066 adhesin after 60% identity cleaning\n",
      "3714 adhesin after 25% identity cleaning\n"
     ]
    }
   ],
   "source": [
    "adhesin_sequences = list(SeqIO.parse(ADH, 'fasta'))\n",
    "adhesin_sequences_60 = list(SeqIO.parse(ADH_60, 'fasta'))\n",
    "adhesin_sequences_25 = list(SeqIO.parse(ADH_25, 'fasta'))\n",
    "\n",
    "print(f'{len(adhesin_sequences)} adhesins before cleaning\\n\\\n",
    "{len(adhesin_sequences_60)} adhesin after 60% identity cleaning\\n\\\n",
    "{len(adhesin_sequences_25)} adhesin after 25% identity cleaning')"
   ]
  },
  {
   "cell_type": "markdown",
   "id": "222383a7",
   "metadata": {},
   "source": [
    "### Random pick sequences from NON_ADH "
   ]
  },
  {
   "cell_type": "code",
   "execution_count": 87,
   "id": "f46435aa",
   "metadata": {},
   "outputs": [],
   "source": [
    "import random"
   ]
  },
  {
   "cell_type": "code",
   "execution_count": 89,
   "id": "9adb9029",
   "metadata": {},
   "outputs": [
    {
     "name": "stdout",
     "output_type": "stream",
     "text": [
      "20000 non adhesin sequences extracted\n"
     ]
    }
   ],
   "source": [
    "random.seed(42)\n",
    "non_adhesin_sequences = list(SeqIO.parse(NON_ADH, 'fasta'))\n",
    "reduced_non_adhesin_sequences = []\n",
    "for num in range(0, 20000):\n",
    "    num = random.randrange(1, len(non_adhesin_sequences))\n",
    "    reduced_non_adhesin_sequences.append(non_adhesin_sequences[num])\n",
    "print(f'{len(reduced_non_adhesin_sequences)} non adhesin sequences extracted')"
   ]
  },
  {
   "cell_type": "code",
   "execution_count": 27,
   "id": "4bd27eec",
   "metadata": {},
   "outputs": [
    {
     "data": {
      "text/plain": [
       "20000"
      ]
     },
     "execution_count": 27,
     "metadata": {},
     "output_type": "execute_result"
    }
   ],
   "source": [
    "# write outfile\n",
    "# consider similar lengh as adh dataset?\n",
    "SeqIO.write(reduced_non_adhesin_sequences, NON_ADH_RE, 'fasta')"
   ]
  },
  {
   "cell_type": "code",
   "execution_count": 52,
   "id": "2f113aab",
   "metadata": {},
   "outputs": [
    {
     "name": "stdout",
     "output_type": "stream",
     "text": [
      "11259 non adhesin sequences extracted and clustered\n"
     ]
    }
   ],
   "source": [
    "# count after clustering\n",
    "reduced_cleaned_non_adhesin_sequences = list(SeqIO.parse(NON_ADH_60, 'fasta'))\n",
    "print(f'{len(reduced_cleaned_non_adhesin_sequences)} non adhesin sequences extracted and clustered')"
   ]
  },
  {
   "cell_type": "code",
   "execution_count": 59,
   "id": "5221d330",
   "metadata": {},
   "outputs": [],
   "source": [
    "# verify sequence lengh in datasets\n",
    "import matplotlib.pyplot as plt"
   ]
  },
  {
   "cell_type": "code",
   "execution_count": 80,
   "id": "d9ba9d83",
   "metadata": {},
   "outputs": [
    {
     "data": {
      "image/png": "[encoded data removed]",
      "text/plain": [
       "<Figure size 640x480 with 1 Axes>"
      ]
     },
     "metadata": {},
     "output_type": "display_data"
    },
    {
     "name": "stdout",
     "output_type": "stream",
     "text": [
      "adhesins lengh 1166.2501346257404, non adhesin lengh 323.7590296495957\n"
     ]
    }
   ],
   "source": [
    "non_adh_25 = list(SeqIO.parse(NON_ADH_25, 'fasta'))\n",
    "adh_25 = list(SeqIO.parse(ADH_25, 'fasta'))\n",
    "\n",
    "non_adh_25_lengh=[]\n",
    "for protein in non_adh_25:\n",
    "    non_adh_25_lengh.append(len(protein.seq))\n",
    "    \n",
    "adh_25_lengh=[]\n",
    "for protein in adh_25:\n",
    "    adh_25_lengh.append(len(protein.seq))\n",
    "    \n",
    "plt.hist(non_adh_25_lengh, label='non_adh_25')\n",
    "plt.hist(adh_25_lengh, 20, alpha=0.5, label='adh_25')\n",
    "plt.legend()\n",
    "plt.show()\n",
    "\n",
    "# the mean lengh of adhesin proteins is 1200 vs 320 of non adhesins\n",
    "print(f'adhesins lengh {sum(adh_25_lengh)/len(adh_25_lengh)}, non adhesin lengh \\\n",
    "{sum(non_adh_25_lengh)/len(non_adh_25_lengh)}')"
   ]
  },
  {
   "cell_type": "markdown",
   "id": "133d1dee",
   "metadata": {},
   "source": [
    "## Count sequences per category"
   ]
  },
  {
   "cell_type": "code",
   "execution_count": 39,
   "id": "750db267",
   "metadata": {},
   "outputs": [],
   "source": [
    "from Bio import SeqIO\n",
    "import os\n",
    "import copy\n",
    "\n",
    "ADH_25 = './new_dataset/raw_sequences/adhesins_cleaned_0.25.fa'\n",
    "ADH_60 = './new_dataset/raw_sequences/adhesins_cleaned_0.6.fa'"
   ]
  },
  {
   "cell_type": "code",
   "execution_count": 40,
   "id": "ee9c0edc",
   "metadata": {},
   "outputs": [],
   "source": [
    "# initiate dictionaries with all sequences from all motifs\n",
    "sequence_dictionary_60 = {}\n",
    "dir_ = 'data/new_dataset/raw_sequences/'\n",
    "for file in os.listdir(dir_):\n",
    "    if len(file) < 11:\n",
    "        motif_name = file.split('.')[0]\n",
    "        motif_sequences = list(SeqIO.parse(os.path.join(dir_, file), 'fasta'))\n",
    "        sequence_dictionary_60[motif_name] = {seq.id:0 for seq in motif_sequences}\n",
    "sequence_dictionary_25 = copy.deepcopy(sequence_dictionary_60)"
   ]
  },
  {
   "cell_type": "code",
   "execution_count": 41,
   "id": "70013be9",
   "metadata": {},
   "outputs": [],
   "source": [
    "# fill dictionaries\n",
    "adh_25_sequences = list(SeqIO.parse(ADH_25, 'fasta'))\n",
    "for seq in adh_25_sequences:\n",
    "    for motif in sequence_dictionary_25:\n",
    "        if seq.id in sequence_dictionary_25[motif]:\n",
    "            sequence_dictionary_25[motif][seq.id] = 1\n",
    "            \n",
    "adh_60_sequences = list(SeqIO.parse(ADH_60, 'fasta'))\n",
    "for seq in adh_60_sequences:\n",
    "    for motif in sequence_dictionary_60:\n",
    "        if seq.id in sequence_dictionary_60[motif]:\n",
    "            sequence_dictionary_60[motif][seq.id] = 1"
   ]
  },
  {
   "cell_type": "code",
   "execution_count": 43,
   "id": "1dde2c1c",
   "metadata": {},
   "outputs": [
    {
     "name": "stdout",
     "output_type": "stream",
     "text": [
      "Protein count per motif at 60% and 25% cleaning:\n",
      "PF08363 44 15\n",
      "PF05737 484 153\n",
      "PF08829 2 2\n",
      "PF18220 7 5\n",
      "PF17480 1 1\n",
      "PF12799 5932 1719\n",
      "PF18573 313 158\n",
      "PF03212 431 136\n",
      "PF07979 1 1\n",
      "PF02216 5 4\n",
      "PF15403 1 1\n",
      "PF18651 121 37\n",
      "PF05658 1299 414\n",
      "PF08341 409 129\n",
      "PF07675 288 76\n",
      "PF18304 5 1\n",
      "PF09160 20 5\n",
      "PF18652 73 22\n",
      "PF09403 16 10\n",
      "PF18873 6 2\n",
      "PF18483 491 234\n",
      "PF10425 48 33\n",
      "PF11966 7 1\n",
      "PF15401 7 5\n",
      "PF07691 2089 569\n"
     ]
    }
   ],
   "source": [
    "# count\n",
    "print('Protein count per motif at 60% and 25% cleaning:')\n",
    "for motif in sequence_dictionary_25:\n",
    "    count_60 = sum(sequence_dictionary_60[motif].values())\n",
    "    count_25 = sum(sequence_dictionary_25[motif].values())\n",
    "    print(f'{motif} {count_60} {count_25}')"
   ]
  },
  {
   "cell_type": "markdown",
   "id": "730687cd",
   "metadata": {},
   "source": [
    "### Create additional negative dataset for testing purpose"
   ]
  },
  {
   "cell_type": "code",
   "execution_count": 6,
   "id": "2311eaca",
   "metadata": {},
   "outputs": [],
   "source": [
    "import random"
   ]
  },
  {
   "cell_type": "code",
   "execution_count": 7,
   "id": "8c3de386",
   "metadata": {},
   "outputs": [
    {
     "name": "stdout",
     "output_type": "stream",
     "text": [
      "40000 non adhesin sequences extracted\n"
     ]
    }
   ],
   "source": [
    "random.seed(42)\n",
    "non_adhesin_sequences = list(SeqIO.parse(NON_ADH, 'fasta'))\n",
    "reduced_non_adhesin_sequences = []\n",
    "for num in range(0, 40000):\n",
    "    num = random.randrange(1, len(non_adhesin_sequences))\n",
    "    reduced_non_adhesin_sequences.append(non_adhesin_sequences[num])\n",
    "print(f'{len(reduced_non_adhesin_sequences)} non adhesin sequences extracted')"
   ]
  },
  {
   "cell_type": "code",
   "execution_count": 9,
   "id": "2cc786b8",
   "metadata": {},
   "outputs": [
    {
     "data": {
      "text/plain": [
       "40000"
      ]
     },
     "execution_count": 9,
     "metadata": {},
     "output_type": "execute_result"
    }
   ],
   "source": [
    "SeqIO.write(reduced_non_adhesin_sequences, './new_dataset/additional_control/non_adhesins.fasta', 'fasta')"
   ]
  },
  {
   "cell_type": "markdown",
   "id": "516678e9",
   "metadata": {},
   "source": [
    "#### clean the dataset at 25% identity with CD-HIT and split it"
   ]
  },
  {
   "cell_type": "code",
   "execution_count": 10,
   "id": "ae61182d",
   "metadata": {},
   "outputs": [
    {
     "name": "stdout",
     "output_type": "stream",
     "text": [
      "5471 sequences after removing redundant sequences\n"
     ]
    }
   ],
   "source": [
    "cleaned_sequences = list(SeqIO.parse('./new_dataset/additional_control/non_adhesins_cleaned.fasta', 'fasta'))\n",
    "print(f'{len(cleaned_sequences)} sequences after removing redundant sequences')"
   ]
  },
  {
   "cell_type": "code",
   "execution_count": 11,
   "id": "26a27f2b",
   "metadata": {},
   "outputs": [
    {
     "data": {
      "text/plain": [
       "1770"
      ]
     },
     "execution_count": 11,
     "metadata": {},
     "output_type": "execute_result"
    }
   ],
   "source": [
    "# keep 3700 sequences for training/val/test, use the rest for addional test\n",
    "SeqIO.write(cleaned_sequences[:3700], './new_dataset/additional_control/negative_control.fasta', 'fasta')\n",
    "SeqIO.write(cleaned_sequences[3701:], './new_dataset/additional_control/additional_negative_control.fasta', 'fasta')"
   ]
  },
  {
   "cell_type": "markdown",
   "id": "4bb89994",
   "metadata": {},
   "source": [
    "#### featurize sequences"
   ]
  },
  {
   "cell_type": "code",
   "execution_count": 32,
   "id": "7a306c76",
   "metadata": {},
   "outputs": [],
   "source": [
    "import os\n",
    "\n",
    "def featurizer(input_fasta, output_dir, type_='neg', iFeature='iFeature/iFeature.py',\\\n",
    "              features = ['AAC', 'DPC', 'CTDC', 'CTDT', 'CTDD']):\n",
    "    \"\"\"Perform iFeature featurization of sequences\"\"\"\n",
    "    \n",
    "    for feature in features:\n",
    "        command = f'python {iFeature} --file {input_fasta} --type {feature} --out \\\n",
    "        {os.path.join(output_dir, feature.lower()+\"_cleaned_\"+type_+\".out\")}'\n",
    "        os.system(command)\n"
   ]
  },
  {
   "cell_type": "code",
   "execution_count": 33,
   "id": "36cef401",
   "metadata": {},
   "outputs": [
    {
     "name": "stdout",
     "output_type": "stream",
     "text": [
      "Descriptor type: AAC\n",
      "Descriptor type: DPC\n",
      "Descriptor type: CTDC\n",
      "Descriptor type: CTDT\n",
      "Descriptor type: CTDD\n",
      "Descriptor type: AAC\n",
      "Descriptor type: DPC\n",
      "Descriptor type: CTDC\n",
      "Descriptor type: CTDT\n",
      "Descriptor type: CTDD\n"
     ]
    }
   ],
   "source": [
    "featurizer('./new_dataset/additional_control/negative_control.fasta', './spaan/data/additional_negative/')\n",
    "featurizer('./new_dataset/additional_control/additional_negative_control.fasta',\\\n",
    "           './spaan/data/additional_negative_control/')"
   ]
  }
 ],
 "metadata": {
  "kernelspec": {
   "display_name": "Python 3 (ipykernel)",
   "language": "python",
   "name": "python3"
  },
  "language_info": {
   "codemirror_mode": {
    "name": "ipython",
    "version": 3
   },
   "file_extension": ".py",
   "mimetype": "text/x-python",
   "name": "python",
   "nbconvert_exporter": "python",
   "pygments_lexer": "ipython3",
   "version": "3.8.13"
  }
 },
 "nbformat": 4,
 "nbformat_minor": 5
}
