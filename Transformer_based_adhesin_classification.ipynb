{
  "cells": [
    {
      "cell_type": "code",
      "execution_count": 1,
      "metadata": {
        "id": "Eau1WGrJB5y6"
      },
      "outputs": [],
      "source": [
        "%%capture \n",
        "\n",
        "import tensorflow as tf\n",
        "from tensorflow import keras\n",
        "from tensorflow.keras import layers\n",
        "\n",
        "!pip install Biopython\n",
        "!rm -r iFeature\n",
        "!rm -r spaan\n",
        "!git clone https://github.com/Superzchen/iFeature\n",
        "!git clone https://github.com/nicolagulmini/spaan\n",
        "\n",
        "from Bio import SeqIO\n",
        "import numpy\n",
        "from tensorflow.keras.preprocessing.sequence import pad_sequences\n",
        "import matplotlib.pyplot as plt"
      ]
    },
    {
      "cell_type": "code",
      "execution_count": 2,
      "metadata": {
        "id": "6Orl_Ln4B5y6"
      },
      "outputs": [],
      "source": [
        "class TransformerBlock(layers.Layer):\n",
        "    def __init__(self, embed_dim, num_heads, ff_dim, rate=0.1):\n",
        "        super(TransformerBlock, self).__init__()\n",
        "        self.att = layers.MultiHeadAttention(num_heads=num_heads, key_dim=embed_dim)\n",
        "        self.ffn = keras.Sequential(\n",
        "            [layers.Dense(ff_dim, activation=\"relu\"), layers.Dense(embed_dim),]\n",
        "        )\n",
        "        self.layernorm1 = layers.LayerNormalization(epsilon=1e-6)\n",
        "        self.layernorm2 = layers.LayerNormalization(epsilon=1e-6)\n",
        "        self.dropout1 = layers.Dropout(rate)\n",
        "        self.dropout2 = layers.Dropout(rate)\n",
        "\n",
        "    def call(self, inputs, training):\n",
        "        attn_output = self.att(inputs, inputs)\n",
        "        attn_output = self.dropout1(attn_output, training=training)\n",
        "        out1 = self.layernorm1(inputs + attn_output)\n",
        "        ffn_output = self.ffn(out1)\n",
        "        ffn_output = self.dropout2(ffn_output, training=training)\n",
        "        return self.layernorm2(out1 + ffn_output)\n",
        "\n",
        "class TokenAndPositionEmbedding(layers.Layer):\n",
        "    def __init__(self, maxlen, vocab_size, embed_dim):\n",
        "        super(TokenAndPositionEmbedding, self).__init__()\n",
        "        self.token_emb = layers.Embedding(input_dim=vocab_size, output_dim=embed_dim)\n",
        "        self.pos_emb = layers.Embedding(input_dim=maxlen, output_dim=embed_dim)\n",
        "\n",
        "    def call(self, x):\n",
        "        maxlen = tf.shape(x)[-1]\n",
        "        positions = tf.range(start=0, limit=maxlen, delta=1)\n",
        "        positions = self.pos_emb(positions)\n",
        "        x = self.token_emb(x)\n",
        "        return x + positions"
      ]
    },
    {
      "cell_type": "code",
      "source": [
        "# dataset\n",
        "positive = list(SeqIO.parse(\"./spaan/data/25_similarity/positive/adhesins.fasta\", \"fasta\"))\n",
        "negative = list(SeqIO.parse(\"./spaan/data/25_similarity/negative/non_adhesins.fasta\", \"fasta\"))\n",
        "\n",
        "MAXLEN = 1000 # do some preprocessing to choose this\n",
        "    \n",
        "aa_list = [\n",
        "    'A', 'C', 'D', 'E', 'F', 'G', 'H', 'I', 'K', 'L', 'M', 'N', 'P', 'Q', 'R', 'S', 'T', 'V', 'W', 'Y', 'X', 'B', 'U', 'Z'\n",
        "    ]\n",
        "\n",
        "def seq_to_ind(seq):\n",
        "    ind_seq = []\n",
        "    for aa in seq:\n",
        "        ind_seq.append(aa_list.index(aa)+1)\n",
        "    return pad_sequences([ind_seq], maxlen=MAXLEN, padding='post', truncating='post')[0]\n",
        "\n",
        "X_seq = numpy.array([seq_to_ind(el.seq) for el in positive+negative])"
      ],
      "metadata": {
        "id": "bW05VhT7Dkel"
      },
      "execution_count": 4,
      "outputs": []
    },
    {
      "cell_type": "code",
      "source": [
        "print('data sequences shape:', X_seq.shape)\n",
        "\n",
        "y_pos = numpy.ones(len(positive))\n",
        "y_neg = numpy.zeros(len(negative))\n",
        "y = numpy.concatenate((y_pos, y_neg), axis=0)\n",
        "\n",
        "print('y shape:', y.shape)"
      ],
      "metadata": {
        "id": "-QEwuHgOEhUC",
        "outputId": "22ff2c0d-9981-442e-ef85-fb1ce9c92013",
        "colab": {
          "base_uri": "https://localhost:8080/"
        }
      },
      "execution_count": 5,
      "outputs": [
        {
          "output_type": "stream",
          "name": "stdout",
          "text": [
            "data sequences shape: (7424, 1000)\n",
            "y shape: (7424,)\n"
          ]
        }
      ]
    },
    {
      "cell_type": "code",
      "source": [
        "# permutation\n",
        "c = numpy.random.permutation(numpy.arange(y.shape[0]))\n",
        "\n",
        "y = y[c]\n",
        "X_seq = X_seq[c] "
      ],
      "metadata": {
        "id": "W4yjffTsGMwM"
      },
      "execution_count": 6,
      "outputs": []
    },
    {
      "cell_type": "code",
      "source": [
        "# remember: standardization or scaling AFTER train-test split, otherwise there's data leakage!!!\n",
        "\n",
        "X_seq_train = X_seq[:int(X_seq.shape[0]*.5)]\n",
        "X_seq_val = X_seq[int(X_seq.shape[0]*.5):int(X_seq.shape[0]*.75)]\n",
        "X_seq_test = X_seq[int(X_seq.shape[0]*.75):]\n",
        "\n",
        "y_train = y[:int(y.shape[0]*.5)]\n",
        "y_val = y[int(y.shape[0]*.5):int(y.shape[0]*.75)]\n",
        "y_test = y[int(y.shape[0]*.75):]"
      ],
      "metadata": {
        "id": "UabR4ryME0LD"
      },
      "execution_count": 7,
      "outputs": []
    },
    {
      "cell_type": "code",
      "execution_count": 8,
      "metadata": {
        "id": "Cl_k-T_yB5y8"
      },
      "outputs": [],
      "source": [
        "embed_dim = 32  # Embedding size for each token\n",
        "num_heads = 5  # Number of attention heads\n",
        "ff_dim = 32  # Hidden layer size in feed forward network inside transformer\n",
        "\n",
        "inputs = layers.Input(shape=(MAXLEN,))\n",
        "embedding_layer = TokenAndPositionEmbedding(MAXLEN, len(aa_list)+1, embed_dim)\n",
        "x = embedding_layer(inputs)\n",
        "transformer_block = TransformerBlock(embed_dim, num_heads, ff_dim)\n",
        "x = transformer_block(x)\n",
        "x = layers.GlobalAveragePooling1D()(x)\n",
        "x = layers.Dropout(0.1)(x)\n",
        "x = layers.Dense(20, activation=\"sigmoid\")(x)\n",
        "x = layers.Dense(20, activation=\"sigmoid\")(x)\n",
        "x = layers.Dropout(0.1)(x)\n",
        "outputs = layers.Dense(1, activation=\"sigmoid\")(x)\n",
        "\n",
        "model = keras.Model(inputs=inputs, outputs=outputs)"
      ]
    },
    {
      "cell_type": "code",
      "execution_count": 9,
      "metadata": {
        "id": "hW71vxUeB5y8",
        "outputId": "f8080a23-1e47-4110-ffb3-d1de61f101a1",
        "colab": {
          "base_uri": "https://localhost:8080/"
        }
      },
      "outputs": [
        {
          "output_type": "stream",
          "name": "stdout",
          "text": [
            "Epoch 1/200\n",
            "116/116 [==============================] - 649s 6s/step - loss: 0.5776 - accuracy: 0.7293 - val_loss: 0.4947 - val_accuracy: 0.7980\n",
            "Epoch 2/200\n",
            "116/116 [==============================] - 650s 6s/step - loss: 0.4562 - accuracy: 0.8192 - val_loss: 0.4278 - val_accuracy: 0.8303\n",
            "Epoch 3/200\n",
            "116/116 [==============================] - 643s 6s/step - loss: 0.3605 - accuracy: 0.8594 - val_loss: 0.3308 - val_accuracy: 0.8745\n",
            "Epoch 4/200\n",
            "116/116 [==============================] - 665s 6s/step - loss: 0.3179 - accuracy: 0.8807 - val_loss: 0.2680 - val_accuracy: 0.8987\n",
            "Epoch 5/200\n",
            "116/116 [==============================] - 676s 6s/step - loss: 0.2909 - accuracy: 0.8920 - val_loss: 0.3024 - val_accuracy: 0.8825\n",
            "Epoch 6/200\n",
            "116/116 [==============================] - 691s 6s/step - loss: 0.2776 - accuracy: 0.8930 - val_loss: 0.2615 - val_accuracy: 0.8976\n",
            "Epoch 7/200\n",
            "116/116 [==============================] - 696s 6s/step - loss: 0.2777 - accuracy: 0.8979 - val_loss: 0.2568 - val_accuracy: 0.8933\n",
            "Epoch 8/200\n",
            "116/116 [==============================] - 709s 6s/step - loss: 0.2627 - accuracy: 0.9025 - val_loss: 0.3029 - val_accuracy: 0.8825\n",
            "Epoch 9/200\n",
            "116/116 [==============================] - 698s 6s/step - loss: 0.2563 - accuracy: 0.9060 - val_loss: 0.2883 - val_accuracy: 0.8901\n",
            "Epoch 10/200\n",
            "116/116 [==============================] - 700s 6s/step - loss: 0.2584 - accuracy: 0.9009 - val_loss: 0.2390 - val_accuracy: 0.9057\n",
            "Epoch 11/200\n",
            "116/116 [==============================] - 692s 6s/step - loss: 0.2528 - accuracy: 0.9081 - val_loss: 0.2406 - val_accuracy: 0.9041\n",
            "Epoch 12/200\n",
            "116/116 [==============================] - 691s 6s/step - loss: 0.2532 - accuracy: 0.9054 - val_loss: 0.2588 - val_accuracy: 0.9019\n",
            "Epoch 13/200\n",
            "116/116 [==============================] - 700s 6s/step - loss: 0.2680 - accuracy: 0.8976 - val_loss: 0.2391 - val_accuracy: 0.9073\n",
            "Epoch 14/200\n",
            "116/116 [==============================] - 704s 6s/step - loss: 0.2473 - accuracy: 0.9033 - val_loss: 0.2369 - val_accuracy: 0.9062\n",
            "Epoch 15/200\n",
            "116/116 [==============================] - 700s 6s/step - loss: 0.2646 - accuracy: 0.9017 - val_loss: 0.2419 - val_accuracy: 0.9068\n",
            "Epoch 16/200\n",
            "116/116 [==============================] - 717s 6s/step - loss: 0.2532 - accuracy: 0.9030 - val_loss: 0.2465 - val_accuracy: 0.9046\n",
            "Epoch 17/200\n",
            "116/116 [==============================] - 713s 6s/step - loss: 0.2563 - accuracy: 0.9052 - val_loss: 0.2403 - val_accuracy: 0.9057\n",
            "Epoch 18/200\n",
            "116/116 [==============================] - 709s 6s/step - loss: 0.2522 - accuracy: 0.9052 - val_loss: 0.2568 - val_accuracy: 0.9009\n",
            "Epoch 19/200\n",
            "116/116 [==============================] - 697s 6s/step - loss: 0.2588 - accuracy: 0.9044 - val_loss: 0.2423 - val_accuracy: 0.9052\n"
          ]
        }
      ],
      "source": [
        "model.compile(\n",
        "    optimizer=\"adam\", loss=\"binary_crossentropy\", metrics=[\"accuracy\"]\n",
        ")\n",
        "\n",
        "history = model.fit(\n",
        "    x=X_seq_train, \n",
        "    y=y_train,\n",
        "    batch_size=32,\n",
        "    epochs=200,\n",
        "    verbose=1,\n",
        "    validation_data=(X_seq_val, y_val),\n",
        "    shuffle=True,\n",
        "    callbacks=[tf.keras.callbacks.EarlyStopping(\n",
        "    restore_best_weights=False,\n",
        "    patience=5\n",
        "        )]\n",
        ")"
      ]
    },
    {
      "cell_type": "code",
      "source": [
        "plt.title('Accuracy during training')\n",
        "plt.plot(range(len(history.history['loss'])), history.history['accuracy'], label='training accuracy', color='green')\n",
        "plt.plot(range(len(history.history['loss'])), history.history['val_accuracy'], label='validation accuracy', color='red')\n",
        "plt.grid(color='gray', linewidth=.4)\n",
        "\n",
        "plt.legend(loc=\"lower right\")\n",
        "plt.xlabel(\"epochs\")\n",
        "plt.ylabel(\"accuracy\")\n",
        "plt.xlim(0, len(history.history['loss'])+1)\n",
        "plt.ylim(.45, 1.)\n",
        "plt.savefig('acc.png')"
      ],
      "metadata": {
        "id": "AZpL73DkFF12",
        "outputId": "6a014c67-32f8-44da-8a0b-15e24c3cf09d",
        "colab": {
          "base_uri": "https://localhost:8080/",
          "height": 295
        }
      },
      "execution_count": 10,
      "outputs": [
        {
          "output_type": "display_data",
          "data": {
            "text/plain": [
              "<Figure size 432x288 with 1 Axes>"
            ],
            "image/png": "[encoded data removed]"
          },
          "metadata": {
            "needs_background": "light"
          }
        }
      ]
    },
    {
      "cell_type": "code",
      "source": [
        "model.evaluate(X_seq_test, y_test)"
      ],
      "metadata": {
        "colab": {
          "base_uri": "https://localhost:8080/"
        },
        "id": "W1F-WZuALoBi",
        "outputId": "719e1c75-0b85-4704-fe3c-0be61eaee987"
      },
      "execution_count": 13,
      "outputs": [
        {
          "output_type": "stream",
          "name": "stdout",
          "text": [
            "58/58 [==============================] - 146s 2s/step - loss: 0.2307 - accuracy: 0.9143\n"
          ]
        },
        {
          "output_type": "execute_result",
          "data": {
            "text/plain": [
              "[0.23065918684005737, 0.9143319129943848]"
            ]
          },
          "metadata": {},
          "execution_count": 13
        }
      ]
    },
    {
      "cell_type": "code",
      "source": [],
      "metadata": {
        "id": "-zw8doFbNBbm"
      },
      "execution_count": null,
      "outputs": []
    }
  ],
  "metadata": {
    "colab": {
      "provenance": []
    },
    "kernelspec": {
      "display_name": "Python 3",
      "language": "python",
      "name": "python3"
    },
    "language_info": {
      "codemirror_mode": {
        "name": "ipython",
        "version": 3
      },
      "file_extension": ".py",
      "mimetype": "text/x-python",
      "name": "python",
      "nbconvert_exporter": "python",
      "pygments_lexer": "ipython3",
      "version": "3.8.11"
    }
  },
  "nbformat": 4,
  "nbformat_minor": 0
}