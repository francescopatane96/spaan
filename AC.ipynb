{
  "nbformat": 4,
  "nbformat_minor": 0,
  "metadata": {
    "colab": {
      "provenance": []
    },
    "kernelspec": {
      "name": "python3",
      "display_name": "Python 3"
    },
    "language_info": {
      "name": "python"
    }
  },
  "cells": [
    {
      "cell_type": "markdown",
      "source": [
        "# Adhesin Classification"
      ],
      "metadata": {
        "id": "0n7PxHqkaz62"
      }
    },
    {
      "cell_type": "code",
      "execution_count": 4,
      "metadata": {
        "id": "PWVGuYECU5Re"
      },
      "outputs": [],
      "source": [
        "%%capture\n",
        "!pip install Biopython\n",
        "!rm -r iFeature\n",
        "!rm -r spaan\n",
        "!git clone https://github.com/Superzchen/iFeature\n",
        "!git clone https://github.com/nicolagulmini/spaan\n",
        "\n",
        "import numpy as np\n",
        "import tensorflow\n",
        "from tensorflow import keras\n",
        "import matplotlib.pyplot as plt\n",
        "from Bio import SeqIO\n",
        "\n",
        "np.random.seed(42)"
      ]
    },
    {
      "cell_type": "markdown",
      "source": [
        "## Compute features from sequences using iFeature"
      ],
      "metadata": {
        "id": "VEeoI6ARa3dL"
      }
    },
    {
      "cell_type": "code",
      "source": [
        "'''\n",
        "# put the right path\n",
        "!python iFeature/iFeature.py --file ./spaan/data/25_similarity/positive/adhesins.fasta --type AAC --out aac_cleaned_pos.out    # amino acids composition\n",
        "!python iFeature/iFeature.py --file ./spaan/data/25_similarity/positive/adhesins.fasta --type DPC --out dpc_cleaned_pos.out    # dipeptide composition\n",
        "!python iFeature/iFeature.py --file ./spaan/data/25_similarity/positive/adhesins.fasta --type CTDC --out ctdc_cleaned_pos.out  # composition\n",
        "!python iFeature/iFeature.py --file ./spaan/data/25_similarity/positive/adhesins.fasta --type CTDT --out ctdt_cleaned_pos.out  # transition\n",
        "!python iFeature/iFeature.py --file ./spaan/data/25_similarity/positive/adhesins.fasta --type CTDD --out ctdd_cleaned_pos.out  # distribution\n",
        "\n",
        "print(\"pos: DONE!\")\n",
        "\n",
        "!python iFeature/iFeature.py --file ./spaan/data/25_similarity/negative/non_adhesins.fasta --type AAC --out aac_cleaned_neg.out    # amino acids composition\n",
        "!python iFeature/iFeature.py --file ./spaan/data/25_similarity/negative/non_adhesins.fasta --type DPC --out dpc_cleaned_neg.out    # dipeptide composition\n",
        "!python iFeature/iFeature.py --file ./spaan/data/25_similarity/negative/non_adhesins.fasta --type CTDC --out ctdc_cleaned_neg.out  # composition\n",
        "!python iFeature/iFeature.py --file ./spaan/data/25_similarity/negative/non_adhesins.fasta --type CTDT --out ctdt_cleaned_neg.out  # transition\n",
        "!python iFeature/iFeature.py --file ./spaan/data/25_similarity/negative/non_adhesins.fasta --type CTDD --out ctdd_cleaned_neg.out  # distribution\n",
        "\n",
        "print(\"neg: DONE!\")\n",
        "'''"
      ],
      "metadata": {
        "id": "pzEvZQh1U7s9"
      },
      "execution_count": null,
      "outputs": []
    },
    {
      "cell_type": "code",
      "source": [
        "def from_files_to_vectors(fasta_path, positive=True):\n",
        "    if positive:\n",
        "        proteins = list(SeqIO.parse(fasta_path+'adhesins.fasta', \"fasta\"))\n",
        "    else:\n",
        "        proteins = list(SeqIO.parse(fasta_path+'non_adhesins.fasta', \"fasta\"))\n",
        "    extension = \".out\"\n",
        "    files = [\"aac\", \"dpc\", \"ctdc\", \"ctdt\", \"ctdd\"]\n",
        "    if positive:\n",
        "        names = \"_pos\"\n",
        "    else:\n",
        "        names = \"_neg\"\n",
        "    for i in range(len(files)):\n",
        "        files[i] += names\n",
        "    datasets = [[] for el in files]\n",
        "    for i in range(len(files)):\n",
        "        with open(fasta_path+files[i]+extension) as f:\n",
        "            lines = f.readlines()[1:]\n",
        "            check_prot = 0\n",
        "            for line in lines:\n",
        "                information = line.split('\\t')\n",
        "                if not information[0] == proteins[check_prot].id:\n",
        "                    print(\"Error in protein order! Return\")\n",
        "                    return datasets\n",
        "                datasets[i].append(np.array([float(el) for el in information[1:]]))\n",
        "                check_prot += 1\n",
        "        datasets[i] = np.array(datasets[i])\n",
        "    return datasets"
      ],
      "metadata": {
        "id": "IYbll8nFWFeB"
      },
      "execution_count": 5,
      "outputs": []
    },
    {
      "cell_type": "code",
      "source": [
        "# put the right path\n",
        "pos_datasets = from_files_to_vectors(\"./spaan/data/25_similarity/positive/\", positive=True)\n",
        "neg_datasets = from_files_to_vectors(\"./spaan/data/25_similarity/negative/\", positive=False)"
      ],
      "metadata": {
        "id": "UhhYXnkFd4f-"
      },
      "execution_count": 6,
      "outputs": []
    },
    {
      "cell_type": "code",
      "source": [
        "y_pos = np.ones(pos_datasets[0].shape[0])\n",
        "y_neg = np.zeros(neg_datasets[0].shape[0])"
      ],
      "metadata": {
        "id": "ygAG4O2mbTqE"
      },
      "execution_count": 7,
      "outputs": []
    },
    {
      "cell_type": "code",
      "source": [
        "# attach datasets in order to obtain a matrix of (n, 20+400+39+39+195) features\n",
        "\n",
        "# keep in mind the number of adhesins and the number of not adhesins\n",
        "rows = 0\n",
        "n_pos = y_pos.shape[0]\n",
        "n_neg = y_neg.shape[0]\n",
        "rows = n_pos + n_neg\n",
        "print('Adhesins:', n_pos)\n",
        "print('NON Adhesins:', n_neg)\n",
        "\n",
        "# feature vectors dimensions\n",
        "columns = 0\n",
        "for i in range(len(pos_datasets)):\n",
        "    tmp_dim = pos_datasets[i].shape[1]\n",
        "    print(i+1, '-th feature dim:', tmp_dim)\n",
        "    columns += tmp_dim\n",
        "\n",
        "# data matrix to process\n",
        "X = np.zeros((rows, columns))\n",
        "print('Data matrix dimension:', X.shape)\n",
        "for i in range(n_pos):\n",
        "    X[i] = np.concatenate([pos_datasets[j][i] for j in range(5)])\n",
        "for i in range(n_neg):\n",
        "    X[n_pos+i] = np.concatenate([neg_datasets[j][i] for j in range(5)])"
      ],
      "metadata": {
        "colab": {
          "base_uri": "https://localhost:8080/"
        },
        "id": "smNPp1kx8wjn",
        "outputId": "ad1f8229-4151-4f9f-9d43-a937f2bf21d4"
      },
      "execution_count": 8,
      "outputs": [
        {
          "output_type": "stream",
          "name": "stdout",
          "text": [
            "Adhesins: 3714\n",
            "NON Adhesins: 3710\n",
            "1 -th feature dim: 20\n",
            "2 -th feature dim: 400\n",
            "3 -th feature dim: 39\n",
            "4 -th feature dim: 39\n",
            "5 -th feature dim: 195\n",
            "Data matrix dimension: (7424, 693)\n"
          ]
        }
      ]
    },
    {
      "cell_type": "code",
      "source": [
        "# permutation\n",
        "y = np.concatenate((y_pos, y_neg), axis=0)\n",
        "c = np.random.permutation(np.arange(y.shape[0]))\n",
        "y = y[c]\n",
        "X = X[c] "
      ],
      "metadata": {
        "id": "Le_qOBDQbtIR"
      },
      "execution_count": 9,
      "outputs": []
    },
    {
      "cell_type": "code",
      "source": [
        "# we should remove outliers"
      ],
      "metadata": {
        "id": "C6lIL92bil0D"
      },
      "execution_count": null,
      "outputs": []
    },
    {
      "cell_type": "code",
      "source": [
        "# remember: standardization or scaling AFTER train-test split, otherwise there's data leakage!!!\n",
        "X_train = X[:int(X.shape[0]*.5)]\n",
        "X_val = X[int(X.shape[0]*.5):int(X.shape[0]*.75)]\n",
        "X_test = X[int(X.shape[0]*.75):]\n",
        "\n",
        "y_train = y[:int(y.shape[0]*.5)]\n",
        "y_val = y[int(y.shape[0]*.5):int(y.shape[0]*.75)]\n",
        "y_test = y[int(y.shape[0]*.75):]\n",
        "\n",
        "print('Training data shape:', X_train.shape, y_train.shape)\n",
        "print('Validation data shape:', X_val.shape, y_val.shape)\n",
        "print('Test data shape:', X_test.shape, y_test.shape)\n",
        "\n",
        "print('\\nTraining adhesins and not-adhesins:', int(sum(y_train)), int(y_train.shape[0]-sum(y_train)))\n",
        "print('Validation adhesins and not-adhesins:', int(sum(y_val)), int(y_val.shape[0]-sum(y_val)))\n",
        "print('Test adhesins and not-adhesins:', int(sum(y_test)), int(y_test.shape[0]-sum(y_test)))"
      ],
      "metadata": {
        "colab": {
          "base_uri": "https://localhost:8080/"
        },
        "id": "ux8mpZZwb-AD",
        "outputId": "b6d90615-f17d-483a-a583-bfbee5b2a747"
      },
      "execution_count": 10,
      "outputs": [
        {
          "output_type": "stream",
          "name": "stdout",
          "text": [
            "Training data shape: (3712, 693) (3712,)\n",
            "Validation data shape: (1856, 693) (1856,)\n",
            "Test data shape: (1856, 693) (1856,)\n",
            "\n",
            "Training adhesins and not-adhesins: 1871 1841\n",
            "Validation adhesins and not-adhesins: 915 941\n",
            "Test adhesins and not-adhesins: 928 928\n"
          ]
        }
      ]
    },
    {
      "cell_type": "markdown",
      "source": [
        "## PCA"
      ],
      "metadata": {
        "id": "A3f7wcI98ukB"
      }
    },
    {
      "cell_type": "code",
      "source": [
        "# standardize data\n",
        "\n",
        "# print some column vectors to check\n",
        "print('Before standardization:')\n",
        "print('mean of the first column:', np.mean(X_train[:,0]))\n",
        "print('mean of the second column:', np.mean(X_train[:,1]))\n",
        "print('mean of the 451-th column:', np.mean(X_train[:,450]))\n",
        "\n",
        "stdX = np.zeros(X_train.shape)\n",
        "for j in range(X_train.shape[1]):\n",
        "    column = X_train[:,j]\n",
        "    stdX[:,j] = (column - np.mean(column)) / np.std(column)\n",
        "\n",
        "print('After standardization:')\n",
        "print('mean of the first column:', np.mean(stdX[:,0]))\n",
        "print('mean of the second column:', np.mean(stdX[:,1]))\n",
        "print('mean of the 451-th column:', np.mean(stdX[:,450]))"
      ],
      "metadata": {
        "colab": {
          "base_uri": "https://localhost:8080/"
        },
        "id": "uos3QwWo9Mnt",
        "outputId": "a5226651-6ac6-4a2d-b93c-c258d26abd3e"
      },
      "execution_count": 11,
      "outputs": [
        {
          "output_type": "stream",
          "name": "stdout",
          "text": [
            "Before standardization:\n",
            "mean of the first column: 0.08880933224780413\n",
            "mean of the second column: 0.009663377891283477\n",
            "mean of the 451-th column: 0.09716150108079744\n",
            "After standardization:\n",
            "mean of the first column: -1.761043418370938e-16\n",
            "mean of the second column: -2.0194573982405864e-16\n",
            "mean of the 451-th column: 2.679848680129688e-16\n"
          ]
        }
      ]
    },
    {
      "cell_type": "code",
      "source": [
        "covariance_matrix = np.cov(stdX.T)"
      ],
      "metadata": {
        "id": "1rxxgMIFBCiy"
      },
      "execution_count": 12,
      "outputs": []
    },
    {
      "cell_type": "code",
      "source": [
        "# The covariance matrix is symmetric, and thus has real eigenvalues. You may see a small imaginary part in some eigenvalues due to numerical error. The imaginary parts can generally be ignored.\n",
        "# source: https://stackoverflow.com/questions/10420648/complex-eigen-values-in-pca-calculation\n",
        "\n",
        "eigen_values, eigen_vectors = np.linalg.eig(covariance_matrix)\n",
        "eigen_values = np.real(eigen_values)\n",
        "eigen_vectors = np.real(eigen_vectors)"
      ],
      "metadata": {
        "id": "WP-_Lnn-ClUY"
      },
      "execution_count": 13,
      "outputs": []
    },
    {
      "cell_type": "code",
      "source": [
        "# Calculating the explained variance on each of components\n",
        "\n",
        "variance_explained = []\n",
        "for i in eigen_values:\n",
        "    variance_explained.append((i/sum(eigen_values))*100)\n",
        "\n",
        "print(variance_explained)"
      ],
      "metadata": {
        "colab": {
          "base_uri": "https://localhost:8080/"
        },
        "id": "hTqYBNJ6CpPm",
        "outputId": "df08f259-6710-4a6c-d773-a6f559fc5686"
      },
      "execution_count": 14,
      "outputs": [
        {
          "output_type": "stream",
          "name": "stdout",
          "text": [
            "[7.869069602568453, 5.5595276283950215, 4.042866351508088, 3.6187567898821986, 3.0290279070168813, 2.8819678095578816, 1.7063355247317253, 1.5197887907830279, 1.439347488622184, 1.2883615690424721, 1.057200513048839, 0.9577101209115998, 0.9390892962513744, 0.8978987346030655, 0.8559236233916053, 0.7958776770900606, 0.7834411501347968, 0.7345336341244294, 0.6848958754888097, 0.645087083090097, 0.6343174254800849, 0.6193124417316408, 0.5990014134319815, 0.5745621229802202, 0.5565285175459893, 0.5289628854101027, 0.5159926516177133, 0.5120977432773964, 0.49779043141004087, 0.48081955602739246, 0.4756467431476344, 0.44935827311318394, 0.4288979613279147, 0.4213209036086662, 0.413398855794988, 0.3942326037125037, 0.3887519996422747, 0.3733932879045171, 0.3631624337688395, 0.3505032956740338, 0.3390760942943872, 0.3327055108694564, 0.32963162668462165, 0.3254496713139554, 0.31651041829657545, 0.3076053159298473, 0.30486322740953764, 0.2979720596137911, 0.2969485416652127, 0.2922864390993799, 0.28771791628665483, 0.27400805310702114, 0.2823611885729072, 0.2805339366217416, 0.2700630482844279, 0.2675604937928917, 0.2646499940972692, 0.25786843260100356, 0.2608671798593624, 0.2554720485344583, 0.25456612561959013, 0.25151163777208857, 0.24875738830199634, 0.24625655770631757, 0.24507386561729047, 0.24336733632989785, 0.2407925707310806, 0.23775160996241956, 0.2366074940272631, 0.23507296277568493, 0.2331788018859572, 0.23085034679276006, 0.22967362188693144, 0.22611001539823536, 0.2244382025876291, 0.22352126847236028, 0.2217068149347955, 0.2202165979521319, 0.2186976362865019, 0.217283606181744, 0.2132764166696217, 0.21194336462937793, 0.2124976989836328, 0.21097985137447975, 0.20930566732538033, 0.20852905069300778, 0.20676330920981772, 0.20500216315465705, 0.20440205637942999, 0.20272096907177325, 0.2011382124227582, 0.20122126632007784, 0.1998811805622652, 0.19787037661275492, 0.19722965314303634, 0.19697105921458244, 0.19534628588581357, 0.19447687620718068, 0.1928810434265071, 0.19227238672345975, 0.1913981529471771, 0.18990147080014996, 0.18945666336508185, 0.18782578407132905, 0.18602761298122414, 0.18549207346340787, 0.18477278891402732, 0.1836941727145601, 0.18224860937484816, 0.18292254959595505, 0.18100129787977698, 0.18057444214645957, 0.18000267455315552, 0.176497272121104, 0.17821119792399237, 0.17765262515739969, 0.17428563833639768, 0.17514710965219518, 0.17325506300260707, 0.1727459848542909, 0.16786842903766938, 0.1716354517835161, 0.17118571500725052, 0.16993873558595435, 0.17037423302806895, 0.16700551475835407, 0.15475329106002006, 0.1658997360262034, 0.16557026010956363, 0.16098997747290478, 0.15620089775328455, 0.16382044884967656, 0.1591061788467085, 0.1557618653872038, 0.1640882690498676, 0.1598792612186619, 0.15969519236118623, 0.15694253363068086, 0.1579796316625118, 0.15780242335861486, 0.15738885450344028, 0.1646358517609035, 0.16330668731894446, 0.1538641247787738, 0.1530931604778659, 0.1525380094288905, 0.1520619826026605, 0.1511542822183394, 0.15023465021311197, 0.1486560000447788, 0.148206968522604, 0.14776383589793274, 0.1469317135100443, 0.14629705432673076, 0.14583308861027808, 0.1449348262781533, 0.14459749400250083, 0.14422233342596713, 0.14372557625480836, 0.14318097117512793, 0.12310322043493421, 0.1418434052521844, 0.14138515724624237, 0.14074813483113527, 0.14021316244782134, 0.12347506789883754, 0.1240004276617478, 0.13968678517443855, 0.1245380527207203, 0.12501943232740412, 0.1393103094141739, 0.1256861779173952, 0.13855967756642243, 0.13757576301044347, 0.13700768998700635, 0.13652250381276904, 0.12712425186965298, 0.13575747716343972, 0.12749356293577122, 0.1266800403386363, 0.12973242296555565, 0.13453922551204858, 0.13147369586279775, 0.13253946299458247, 0.13435251559074096, 0.12868288903784086, 0.13360286035098867, 0.1305057767442288, 0.13382649699307164, 0.1329049658359359, 0.13044279948964127, 0.1263349704871282, 0.12863989461856282, 0.13182280561423837, 0.1387385076327711, 0.10620505099896058, 0.10721680960353042, 0.10745367306657319, 0.10791589973639482, 0.12229972227917475, 0.12175383274975085, 0.12139341873182376, 0.10940876893798224, 0.10916966478345946, 0.10849553395321904, 0.10835757194622443, 0.11020853339357155, 0.12073168268969471, 0.11112870976698291, 0.12009405267565433, 0.11934241510469677, 0.1117587438808768, 0.11649842450639197, 0.11520408701949632, 0.11856914000116818, 0.11780439172340829, 0.11732583227664836, 0.1124561126494369, 0.11567090731829004, 0.11372810929019453, 0.11434130036547521, 0.115943472642331, 0.11753992189858883, 0.11289337411710001, 0.11321717213887159, 0.1201739934304408, 0.11453959720250692, 0.11145248276527968, 0.11853996653777542, 0.09595874622550017, 0.09640220565811544, 0.09714609269688362, 0.09729119755357105, 0.09755996335937814, 0.09792004980450188, 0.09818805161901016, 0.10592409078877703, 0.10526355266003123, 0.10570483717437297, 0.09875073560615588, 0.09894956556569649, 0.10416859113231393, 0.10382465931147813, 0.10022350251734762, 0.10073136460465404, 0.1029929910573193, 0.1015066779721087, 0.0997409768795875, 0.10097770823634582, 0.09983313822113703, 0.10250431881340981, 0.10277829772324905, 0.1019963095516418, 0.10490514531815623, 0.10193524675067385, 0.10334259707917454, 0.08763183779167252, 0.0880496360547017, 0.08846328230776566, 0.08913026738114771, 0.08925346699847214, 0.09517411039456315, 0.09404343012271604, 0.09494980718367137, 0.08984321407832167, 0.09374446380881393, 0.08995136823225812, 0.09079690131708902, 0.09033957503814366, 0.09333425257010187, 0.09280349642772463, 0.09134530584352862, 0.0947071240382755, 0.09012965133529446, 0.09174376014868255, 0.09206871690850828, 0.09310999786137852, 0.09154345405090857, 0.08013837729107672, 0.08060934871566766, 0.08079379287634782, 0.0813334887700339, 0.08717023756483351, 0.08167425277621948, 0.08659638127938332, 0.08196678181082846, 0.0848793606184997, 0.08501069529767802, 0.08262598375498797, 0.08281776696159603, 0.08532593875801275, 0.08688927760250827, 0.08245944988519331, 0.0842789148334953, 0.08182529331751202, 0.08381694237042336, 0.08617051803507467, 0.08576846533259148, 0.08333324731397923, 0.08368102336705671, 0.08621987096338225, 0.08024958358315973, 0.07962747079365307, 0.07910800521129259, 0.07873439749400926, 0.07854667628876234, 0.07813300274582637, 0.07793497801928768, 0.07616988584632157, 0.07712419384262446, 0.07735177073262844, 0.07754696458246857, 0.07568671929521091, 0.0713027037744001, 0.07558468741651565, 0.074813548304102, 0.07392852165698931, 0.07344087027093825, 0.07186719736997907, 0.07175228009652419, 0.07277333904191434, 0.07440303992606047, 0.07428875962048999, 0.07507343808552504, 0.07235210900346213, 0.07313697707876231, 0.07643016628828804, 0.0721763687517906, 0.07080509986913167, 0.07059154718299515, 0.07101585627100766, 0.0701622245620576, 0.06948887960288166, 0.06893183169027332, 0.0688231011517994, 0.0682935208897364, 0.03458603142129023, 0.034211018469428846, 0.03238250946999122, 0.03204072623777867, 0.03584680663166005, 0.03323000674798295, 0.031184130740906618, 0.030959833955357965, 0.0303810714103905, 0.0300296070117548, 0.03553247557612328, 0.036710383117199, 0.03295477749183631, 0.02928849903844068, 0.029154647398384123, 0.03713668690737751, 0.028580602931949518, 0.028394012400544257, 0.027531971301910704, 0.027619794375479453, 0.026511006281660005, 0.02612719917100081, 0.02525574495847212, 0.03778305408370829, 0.038297041585383405, 0.03792563602324777, 0.027874350501875193, 0.024520132950929807, 0.024283357191474165, 0.025546582963062118, 0.025777976039816932, 0.06848304537566362, 0.03911012589947045, 0.06761660511040553, 0.06776523792421874, 0.02385550481411564, 0.04014501345485561, 0.039351062259189995, 0.01891131732604789, 0.019431092514680472, 0.02013923803381699, 0.020493958127248538, 0.023194953660426704, 0.022950694333573572, 0.020877027524944042, 0.02098623629517932, 0.023439189760190538, 0.02231665991335026, 0.021864087955715317, 0.0220455731887478, 0.021734694688497716, 0.04058044685623003, 0.04034798311669495, 0.040942444318418016, 0.041358220936128266, 0.04203594759889254, 0.04237326294056872, 0.06717423058599434, 0.06720340883568808, 0.042791807706525395, 0.04365222721208871, 0.04385168760867786, 0.04333509909366023, 0.06688423571233489, 0.06646345896285193, 0.06629328153993154, 0.06599825036875095, 0.06554517745094551, 0.06495186671051216, 0.06056093553032646, 0.06401111937533646, 0.06079100376824126, 0.06358743490972146, 0.061453131976494636, 0.06551579293662782, 0.0630688505615414, 0.062485693115230743, 0.06260832106826694, 0.06527030914825342, 0.0643613114579516, 0.06124126650112182, 0.06329792517866975, 0.06184890043180928, 0.018644502055540267, 0.018410958849543996, 0.017910646180406213, 0.044519770816279565, 0.044616913715395785, 0.05996581415167941, 0.05924525286616932, 0.060334248734094084, 0.016995167214285345, 0.016812508329436496, 0.017563651356556943, 0.016146641140369216, 0.016352775870475355, 0.015831279697363577, 0.016304632631235737, 0.015293127091935364, 0.014997989410310938, 0.014616825430626194, 0.04558725710570865, 0.01490515726729321, 0.046115651131272244, 0.04516231711625345, 0.058948771304470335, 0.014448244372974832, 0.018066591630822682, 0.046487965012914474, 0.05956423078993892, 0.05858264574093207, 0.04738219509971423, 0.04713919508962589, 0.05838083839279701, 0.05814334733223499, 0.05769125248896628, 0.009064227027060407, 0.009565756686702814, 0.009916973202700628, 0.01374598069688444, 0.01341726937173358, 0.010243600142165167, 0.010403339482370207, 0.014078121051036206, 0.01111233976259961, 0.011216509685383676, 0.010807775603042519, 0.01332889962812257, 0.011544209234134743, 0.01264315387793841, 0.012162168008991123, 0.011782662003920063, 0.01194416899589406, 0.04503711371657719, 0.012767525495517917, 0.012773832802764123, 0.05719761652383537, 0.05761092931368207, 0.04685568638377574, 0.057068097787098176, 0.04818672212059771, 0.04897776951999238, 0.05659604294420252, 0.04930726322056509, 0.05227581002176429, 0.05622662412785328, 0.05646632681771928, 0.05382568653620937, 0.0542769364166282, 0.055044119078705295, 0.054736700187821445, 0.0558542163333385, 0.04855342138581742, 0.05183705053152862, 0.052836063025500854, 0.05309621777601636, 0.04982430821512976, 0.05149796696071983, 0.0557121245017548, 0.05541208716344623, 0.05102993480286159, 0.050856732610182906, 0.05055079248880882, 0.05403218152541638, 0.04825706163108721, 0.05298719275304921, 0.049952729799798416, 0.05027364577152643, 0.05032374395055923, 0.009797050530162107, 0.009187306712407386, 0.006243575526180257, 0.008772018341493935, 0.008588884856022239, 0.007962605746621563, 0.006501281693474608, 0.006575998955319811, 0.00783497058458095, 0.007670007476518037, 0.007430255608594774, 0.006855176190573269, 0.008423677495514162, 0.007067426867855699, 0.007145373094001826, 0.010850926084949707, 0.008467083918434483, 0.00933586147133813, 0.005460991829502086, 0.005739265377779904, 0.0059578976085071745, 0.005302222627063455, 0.005042000416394488, 0.0037908362430720535, 0.003569235744645638, 0.002331675792039867, 0.0030158934231595907, 0.0025705485161658104, 0.0040581872255207214, 0.005643994380478281, 0.004871946434896432, 0.005999420295790484, 0.003253814269729536, 0.0026984218111070508, 0.0027708976884219722, 0.004412304210090607, 0.0046835640784915035, 0.0033254810362789585, 0.004805336764895961, 0.00773722764827061, 0.004208028943373503, 0.00453960140113927, 0.004503184601023439, 0.0013706156750536785, 0.0015201577927513284, 0.0015941046958189474, 0.0019755354291941607, 0.0019289298905349295, 0.00183030338086193, 0.0024986594860304887, 0.000873032062930747, 0.0007634108487734765, 0.0005990596566996298, 0.0003564898735126598, 0.0003198589411999885, 0.0003101209479688108, 0.0002790825051220216, 0.00025703727537907474, 0.00024923357208805875, 0.00023908071431530815, 0.0001996159815741964, 0.00019201595108987363, 0.0001677153419949736, 0.0001605898862331627, 0.00014329082620652972, 0.00013169007064368102, 0.00012150037861081739, 0.00011859217665800538, 9.539214217044044e-05, 0.00011309091803780017, 0.00010576196926912482, 0.00010376596921940568, 5.161844847061192e-05, 4.900025367089087e-05, 9.093770295073004e-06, 6.87966754231616e-06, 5.915890163738294e-06, 5.0241617903316886e-06, 4.401570408146922e-06, 4.186395667319712e-06, 3.171806454518925e-06, 2.6579512720631887e-06, 2.5117610193593033e-06, 2.1369175631231583e-06, 1.8446956382354228e-06, 1.6810647030303982e-06, 1.3095092414151758e-06, 1.1372887856861864e-06, 1.0882252483255763e-06, 9.919629768978796e-07, 8.578516096961664e-07, 6.989980087102448e-07, -2.625404863750002e-16, -2.625404863750002e-16, -2.3866002993958337e-16, -2.2774892990067506e-16, 2.265440482917375e-16, 2.265440482917375e-16, -1.9752329846325283e-16, -1.9752329846325283e-16, 2.0803604175113998e-16, 2.0803604175113998e-16, 4.115937865613794e-17, 4.115937865613794e-17, 2.1707331376189172e-16, 2.1707331376189172e-16, 9.311028703189673e-17, 9.311028703189673e-17, 1.7899074600709384e-16, -9.923898201594359e-17, -9.923898201594359e-17, -1.596417690700388e-16, -1.596417690700388e-16, -1.2734129465217205e-16, -1.2734129465217205e-16, -1.5518734001133719e-16, -3.7591977219422717e-17, -3.7591977219422717e-17, 1.5055743366195146e-16, 9.32295912024403e-17, 9.32295912024403e-17, 1.3774128602545906e-16, 1.3774128602545906e-16, -8.920519618046872e-17, -8.920519618046872e-17, 8.987906330646816e-17, 8.987906330646816e-17, 1.2490000074819076e-16, 1.2490000074819076e-16, -1.1520525730943893e-16, -1.1520525730943893e-16, 3.0707231249652855e-17, 3.0707231249652855e-17, -1.2541961486741725e-16, -1.2541961486741725e-16, -7.520295870304607e-18, -7.520295870304607e-18, -8.435594677009557e-17, -8.435594677009557e-17, 2.2435491763788533e-17, 2.2435491763788533e-17, 1.000925245989273e-16, 1.000925245989273e-16, 6.467936951276566e-17, 6.467936951276566e-17, 9.841310613955219e-17, -6.516722357618895e-17, -6.516722357618895e-17, 6.719575823255468e-17, 6.719575823255468e-17, -8.482712306546031e-17, -3.863735682647158e-17, -3.863735682647158e-17, 8.523919183094263e-17, 8.523919183094263e-17, -7.415427391874675e-17, -5.0589510411856275e-17, -5.0589510411856275e-17, 7.801903794582576e-17, -1.0667124682017758e-17, -1.0667124682017758e-17, -4.179547890433246e-17, -4.179547890433246e-17, 1.3711951863642304e-17, 1.3711951863642304e-17, 3.8022170715601695e-17, 3.8022170715601695e-17, -2.386828956286433e-17, 1.337159602777202e-17, 1.337159602777202e-17, -1.3033528054742577e-17, -1.0436218913420511e-17, 8.940436019669299e-18, 2.8983373825660384e-18, 2.8983373825660384e-18, -1.3339776115503111e-18, -1.3339776115503111e-18, -4.130768518405331e-18, -4.130768518405331e-18, 9.8375507852309e-19, -4.0220823661718798e-19, -4.0220823661718798e-19, 5.500486821230707e-19, 5.500486821230707e-19, 2.582244859618335e-32, 1.7792826072603255e-32, 3.1068661116808953e-34, 3.1068661116808953e-34]\n"
          ]
        }
      ]
    },
    {
      "cell_type": "code",
      "source": [
        "cumulative_variance_explained = np.cumsum(variance_explained)"
      ],
      "metadata": {
        "id": "6paF0Sx6CxgR"
      },
      "execution_count": 15,
      "outputs": []
    },
    {
      "cell_type": "code",
      "source": [
        "plt.title(\"Explained variance vs Number of components\")\n",
        "\n",
        "plt.xlabel(\"Number of components\")\n",
        "plt.ylabel(\"Cumulative explained variance\")\n",
        "plt.grid(color='gray', linewidth=.4)\n",
        "\n",
        "plt.plot(range(len(cumulative_variance_explained)), cumulative_variance_explained)\n",
        "\n",
        "plt.show()\n",
        "#plt.savefig('Explained variance.png')"
      ],
      "metadata": {
        "colab": {
          "base_uri": "https://localhost:8080/",
          "height": 295
        },
        "id": "JiCZn04JC6O2",
        "outputId": "fa788632-62db-48cf-cc5a-f9d10ccc015d"
      },
      "execution_count": 16,
      "outputs": [
        {
          "output_type": "display_data",
          "data": {
            "text/plain": [
              "<Figure size 432x288 with 1 Axes>"
            ],
            "image/png": "[encoded data removed]"
          },
          "metadata": {
            "needs_background": "light"
          }
        }
      ]
    },
    {
      "cell_type": "code",
      "source": [
        "K = 400\n",
        "print('Principal components:', K)\n",
        "print('Discarded components:', columns-K)"
      ],
      "metadata": {
        "colab": {
          "base_uri": "https://localhost:8080/"
        },
        "id": "1uJyQPrCJIhN",
        "outputId": "4a09a990-664c-496f-a261-c3959e3c62fc"
      },
      "execution_count": 17,
      "outputs": [
        {
          "output_type": "stream",
          "name": "stdout",
          "text": [
            "Principal components: 400\n",
            "Discarded components: 293\n"
          ]
        }
      ]
    },
    {
      "cell_type": "code",
      "source": [
        "plt.title(\"Explained variance vs first \" + str(K) + \" components\")\n",
        "\n",
        "plt.xlabel(\"Number of components\")\n",
        "plt.ylabel(\"Cumulative explained variance\")\n",
        "plt.grid(color='gray', linewidth=.4)\n",
        "\n",
        "plt.plot(range(K), cumulative_variance_explained[:K])\n",
        "\n",
        "plt.show()\n",
        "#plt.savefig('Explained variance.png')"
      ],
      "metadata": {
        "colab": {
          "base_uri": "https://localhost:8080/",
          "height": 295
        },
        "id": "fgyo-1SwEgmK",
        "outputId": "6faab3a0-82af-4c4d-d6c4-84c03517b467"
      },
      "execution_count": 18,
      "outputs": [
        {
          "output_type": "display_data",
          "data": {
            "text/plain": [
              "<Figure size 432x288 with 1 Axes>"
            ],
            "image/png": "[encoded data removed]"
          },
          "metadata": {
            "needs_background": "light"
          }
        }
      ]
    },
    {
      "cell_type": "code",
      "source": [
        "# Project using first K components\n",
        "\n",
        "projection_matrix = np.real((eigen_vectors.T[:][:K]).T)\n",
        "print(projection_matrix.shape)"
      ],
      "metadata": {
        "colab": {
          "base_uri": "https://localhost:8080/"
        },
        "id": "uOq8n7vDGbBg",
        "outputId": "86aa9e16-22c0-41f4-bd19-a6ca8dd99609"
      },
      "execution_count": 19,
      "outputs": [
        {
          "output_type": "stream",
          "name": "stdout",
          "text": [
            "(693, 400)\n"
          ]
        }
      ]
    },
    {
      "cell_type": "code",
      "source": [
        "# standardize validation and test data and then project\n",
        "\n",
        "stdX_val = np.zeros(X_val.shape)\n",
        "for j in range(X_val.shape[1]):\n",
        "    column = X_val[:,j]\n",
        "    stdX_val[:,j] = (column - np.mean(column)) / np.std(column)\n",
        "\n",
        "stdX_test = np.zeros(X_test.shape)\n",
        "for j in range(X_test.shape[1]):\n",
        "    column = X_test[:,j]\n",
        "    stdX_test[:,j] = (column - np.mean(column)) / np.std(column)\n",
        "\n",
        "# project matrices\n",
        "X_train = stdX.dot(projection_matrix)\n",
        "X_val = stdX_val.dot(projection_matrix)\n",
        "X_test = stdX_test.dot(projection_matrix)"
      ],
      "metadata": {
        "id": "IMfOPt8wdwIb"
      },
      "execution_count": 20,
      "outputs": []
    },
    {
      "cell_type": "markdown",
      "source": [
        "## Neural Network"
      ],
      "metadata": {
        "id": "hD7cgwErK-at"
      }
    },
    {
      "cell_type": "code",
      "source": [
        "from tensorflow.keras import regularizers\n",
        "\n",
        "class neural_network:\n",
        "    def __init__(self):\n",
        "        input = tensorflow.keras.Input(shape=(K,))\n",
        "        \n",
        "        dense = tensorflow.keras.layers.Dense(units=10, \n",
        "                                                activation='sigmoid',\n",
        "                                                kernel_regularizer=regularizers.L1L2(l1=1e-3, l2=1e-3),\n",
        "                                                bias_regularizer=regularizers.L2(1e-3),\n",
        "                                                activity_regularizer=regularizers.L2(1e-3))(input)\n",
        "        #norm = tensorflow.keras.layers.BatchNormalization()(dense)\n",
        "        #drop = tensorflow.keras.layers.Dropout(.1)(dense)\n",
        "        #dense = tensorflow.keras.layers.Dense(10, activation='sigmoid')(drop)\n",
        "        output = tensorflow.keras.layers.Dense(1, activation='sigmoid')(dense)\n",
        "\n",
        "        model = tensorflow.keras.models.Model(inputs=input, outputs=output)\n",
        "        model.compile(optimizer=tensorflow.keras.optimizers.Adam(learning_rate=0.0005), loss='binary_crossentropy', metrics='accuracy')\n",
        "        self.model = model"
      ],
      "metadata": {
        "id": "Mm5Ub0lgNion"
      },
      "execution_count": 77,
      "outputs": []
    },
    {
      "cell_type": "code",
      "source": [
        "nn = neural_network()"
      ],
      "metadata": {
        "id": "_8WMTxwXOCN4"
      },
      "execution_count": 90,
      "outputs": []
    },
    {
      "cell_type": "code",
      "source": [
        "nn.model.summary()"
      ],
      "metadata": {
        "colab": {
          "base_uri": "https://localhost:8080/"
        },
        "id": "fb8toDqPppYe",
        "outputId": "7a662284-b5ec-48b7-a16f-abd59c5db4d7"
      },
      "execution_count": 91,
      "outputs": [
        {
          "output_type": "stream",
          "name": "stdout",
          "text": [
            "Model: \"model_11\"\n",
            "_________________________________________________________________\n",
            " Layer (type)                Output Shape              Param #   \n",
            "=================================================================\n",
            " input_13 (InputLayer)       [(None, 400)]             0         \n",
            "                                                                 \n",
            " dense_25 (Dense)            (None, 10)                4010      \n",
            "                                                                 \n",
            " dense_26 (Dense)            (None, 1)                 11        \n",
            "                                                                 \n",
            "=================================================================\n",
            "Total params: 4,021\n",
            "Trainable params: 4,021\n",
            "Non-trainable params: 0\n",
            "_________________________________________________________________\n"
          ]
        }
      ]
    },
    {
      "cell_type": "code",
      "source": [
        "history = nn.model.fit(\n",
        "    x=X_train, \n",
        "    y=y_train,\n",
        "    batch_size=64,\n",
        "    epochs=1000,\n",
        "    verbose=1,\n",
        "    validation_data=(X_val, y_val),\n",
        "    shuffle=True,\n",
        "    callbacks=[tensorflow.keras.callbacks.EarlyStopping(\n",
        "    restore_best_weights=True,\n",
        "    patience=5\n",
        "        )]\n",
        ")"
      ],
      "metadata": {
        "id": "vkkGhIODODzx",
        "colab": {
          "base_uri": "https://localhost:8080/"
        },
        "outputId": "45c5a07a-bb92-43c8-81c6-19dfc5fd3df2"
      },
      "execution_count": 92,
      "outputs": [
        {
          "output_type": "stream",
          "name": "stdout",
          "text": [
            "Epoch 1/1000\n",
            "58/58 [==============================] - 1s 6ms/step - loss: 0.9513 - accuracy: 0.5151 - val_loss: 0.8889 - val_accuracy: 0.5226\n",
            "Epoch 2/1000\n",
            "58/58 [==============================] - 0s 3ms/step - loss: 0.8192 - accuracy: 0.5744 - val_loss: 0.7739 - val_accuracy: 0.6304\n",
            "Epoch 3/1000\n",
            "58/58 [==============================] - 0s 3ms/step - loss: 0.7136 - accuracy: 0.7101 - val_loss: 0.6826 - val_accuracy: 0.7419\n",
            "Epoch 4/1000\n",
            "58/58 [==============================] - 0s 3ms/step - loss: 0.6284 - accuracy: 0.8077 - val_loss: 0.6089 - val_accuracy: 0.8103\n",
            "Epoch 5/1000\n",
            "58/58 [==============================] - 0s 3ms/step - loss: 0.5595 - accuracy: 0.8640 - val_loss: 0.5505 - val_accuracy: 0.8470\n",
            "Epoch 6/1000\n",
            "58/58 [==============================] - 0s 3ms/step - loss: 0.5035 - accuracy: 0.8855 - val_loss: 0.5022 - val_accuracy: 0.8648\n",
            "Epoch 7/1000\n",
            "58/58 [==============================] - 0s 3ms/step - loss: 0.4571 - accuracy: 0.9027 - val_loss: 0.4623 - val_accuracy: 0.8728\n",
            "Epoch 8/1000\n",
            "58/58 [==============================] - 0s 3ms/step - loss: 0.4195 - accuracy: 0.9154 - val_loss: 0.4306 - val_accuracy: 0.8847\n",
            "Epoch 9/1000\n",
            "58/58 [==============================] - 0s 4ms/step - loss: 0.3894 - accuracy: 0.9200 - val_loss: 0.4045 - val_accuracy: 0.8906\n",
            "Epoch 10/1000\n",
            "58/58 [==============================] - 0s 3ms/step - loss: 0.3650 - accuracy: 0.9254 - val_loss: 0.3836 - val_accuracy: 0.8976\n",
            "Epoch 11/1000\n",
            "58/58 [==============================] - 0s 3ms/step - loss: 0.3454 - accuracy: 0.9275 - val_loss: 0.3666 - val_accuracy: 0.9019\n",
            "Epoch 12/1000\n",
            "58/58 [==============================] - 0s 3ms/step - loss: 0.3294 - accuracy: 0.9310 - val_loss: 0.3522 - val_accuracy: 0.9041\n",
            "Epoch 13/1000\n",
            "58/58 [==============================] - 0s 3ms/step - loss: 0.3160 - accuracy: 0.9313 - val_loss: 0.3408 - val_accuracy: 0.9062\n",
            "Epoch 14/1000\n",
            "58/58 [==============================] - 0s 4ms/step - loss: 0.3048 - accuracy: 0.9318 - val_loss: 0.3308 - val_accuracy: 0.9073\n",
            "Epoch 15/1000\n",
            "58/58 [==============================] - 0s 3ms/step - loss: 0.2953 - accuracy: 0.9321 - val_loss: 0.3221 - val_accuracy: 0.9100\n",
            "Epoch 16/1000\n",
            "58/58 [==============================] - 0s 4ms/step - loss: 0.2871 - accuracy: 0.9327 - val_loss: 0.3150 - val_accuracy: 0.9100\n",
            "Epoch 17/1000\n",
            "58/58 [==============================] - 0s 3ms/step - loss: 0.2802 - accuracy: 0.9335 - val_loss: 0.3086 - val_accuracy: 0.9138\n",
            "Epoch 18/1000\n",
            "58/58 [==============================] - 0s 4ms/step - loss: 0.2740 - accuracy: 0.9329 - val_loss: 0.3033 - val_accuracy: 0.9149\n",
            "Epoch 19/1000\n",
            "58/58 [==============================] - 0s 3ms/step - loss: 0.2689 - accuracy: 0.9340 - val_loss: 0.2988 - val_accuracy: 0.9159\n",
            "Epoch 20/1000\n",
            "58/58 [==============================] - 0s 3ms/step - loss: 0.2644 - accuracy: 0.9332 - val_loss: 0.2949 - val_accuracy: 0.9176\n",
            "Epoch 21/1000\n",
            "58/58 [==============================] - 0s 3ms/step - loss: 0.2604 - accuracy: 0.9337 - val_loss: 0.2913 - val_accuracy: 0.9170\n",
            "Epoch 22/1000\n",
            "58/58 [==============================] - 0s 3ms/step - loss: 0.2570 - accuracy: 0.9337 - val_loss: 0.2882 - val_accuracy: 0.9165\n",
            "Epoch 23/1000\n",
            "58/58 [==============================] - 0s 3ms/step - loss: 0.2539 - accuracy: 0.9337 - val_loss: 0.2852 - val_accuracy: 0.9186\n",
            "Epoch 24/1000\n",
            "58/58 [==============================] - 0s 3ms/step - loss: 0.2512 - accuracy: 0.9337 - val_loss: 0.2828 - val_accuracy: 0.9186\n",
            "Epoch 25/1000\n",
            "58/58 [==============================] - 0s 4ms/step - loss: 0.2487 - accuracy: 0.9337 - val_loss: 0.2807 - val_accuracy: 0.9181\n",
            "Epoch 26/1000\n",
            "58/58 [==============================] - 0s 3ms/step - loss: 0.2467 - accuracy: 0.9356 - val_loss: 0.2788 - val_accuracy: 0.9186\n",
            "Epoch 27/1000\n",
            "58/58 [==============================] - 0s 3ms/step - loss: 0.2445 - accuracy: 0.9353 - val_loss: 0.2772 - val_accuracy: 0.9186\n",
            "Epoch 28/1000\n",
            "58/58 [==============================] - 0s 3ms/step - loss: 0.2426 - accuracy: 0.9351 - val_loss: 0.2756 - val_accuracy: 0.9192\n",
            "Epoch 29/1000\n",
            "58/58 [==============================] - 0s 3ms/step - loss: 0.2411 - accuracy: 0.9356 - val_loss: 0.2747 - val_accuracy: 0.9176\n",
            "Epoch 30/1000\n",
            "58/58 [==============================] - 0s 4ms/step - loss: 0.2397 - accuracy: 0.9362 - val_loss: 0.2732 - val_accuracy: 0.9176\n",
            "Epoch 31/1000\n",
            "58/58 [==============================] - 0s 4ms/step - loss: 0.2382 - accuracy: 0.9370 - val_loss: 0.2725 - val_accuracy: 0.9170\n",
            "Epoch 32/1000\n",
            "58/58 [==============================] - 0s 3ms/step - loss: 0.2367 - accuracy: 0.9380 - val_loss: 0.2713 - val_accuracy: 0.9181\n",
            "Epoch 33/1000\n",
            "58/58 [==============================] - 0s 3ms/step - loss: 0.2357 - accuracy: 0.9378 - val_loss: 0.2705 - val_accuracy: 0.9170\n",
            "Epoch 34/1000\n",
            "58/58 [==============================] - 0s 3ms/step - loss: 0.2344 - accuracy: 0.9370 - val_loss: 0.2693 - val_accuracy: 0.9159\n",
            "Epoch 35/1000\n",
            "58/58 [==============================] - 0s 3ms/step - loss: 0.2333 - accuracy: 0.9380 - val_loss: 0.2680 - val_accuracy: 0.9159\n",
            "Epoch 36/1000\n",
            "58/58 [==============================] - 0s 4ms/step - loss: 0.2323 - accuracy: 0.9375 - val_loss: 0.2678 - val_accuracy: 0.9154\n",
            "Epoch 37/1000\n",
            "58/58 [==============================] - 0s 3ms/step - loss: 0.2317 - accuracy: 0.9375 - val_loss: 0.2678 - val_accuracy: 0.9154\n",
            "Epoch 38/1000\n",
            "58/58 [==============================] - 0s 4ms/step - loss: 0.2306 - accuracy: 0.9391 - val_loss: 0.2667 - val_accuracy: 0.9159\n",
            "Epoch 39/1000\n",
            "58/58 [==============================] - 0s 3ms/step - loss: 0.2297 - accuracy: 0.9383 - val_loss: 0.2660 - val_accuracy: 0.9165\n",
            "Epoch 40/1000\n",
            "58/58 [==============================] - 0s 4ms/step - loss: 0.2290 - accuracy: 0.9397 - val_loss: 0.2654 - val_accuracy: 0.9181\n",
            "Epoch 41/1000\n",
            "58/58 [==============================] - 0s 4ms/step - loss: 0.2280 - accuracy: 0.9397 - val_loss: 0.2649 - val_accuracy: 0.9170\n",
            "Epoch 42/1000\n",
            "58/58 [==============================] - 0s 3ms/step - loss: 0.2276 - accuracy: 0.9407 - val_loss: 0.2643 - val_accuracy: 0.9176\n",
            "Epoch 43/1000\n",
            "58/58 [==============================] - 0s 3ms/step - loss: 0.2265 - accuracy: 0.9402 - val_loss: 0.2643 - val_accuracy: 0.9170\n",
            "Epoch 44/1000\n",
            "58/58 [==============================] - 0s 3ms/step - loss: 0.2255 - accuracy: 0.9415 - val_loss: 0.2636 - val_accuracy: 0.9181\n",
            "Epoch 45/1000\n",
            "58/58 [==============================] - 0s 3ms/step - loss: 0.2252 - accuracy: 0.9397 - val_loss: 0.2629 - val_accuracy: 0.9197\n",
            "Epoch 46/1000\n",
            "58/58 [==============================] - 0s 3ms/step - loss: 0.2246 - accuracy: 0.9407 - val_loss: 0.2621 - val_accuracy: 0.9208\n",
            "Epoch 47/1000\n",
            "58/58 [==============================] - 0s 3ms/step - loss: 0.2235 - accuracy: 0.9413 - val_loss: 0.2620 - val_accuracy: 0.9203\n",
            "Epoch 48/1000\n",
            "58/58 [==============================] - 0s 4ms/step - loss: 0.2228 - accuracy: 0.9415 - val_loss: 0.2617 - val_accuracy: 0.9203\n",
            "Epoch 49/1000\n",
            "58/58 [==============================] - 0s 4ms/step - loss: 0.2224 - accuracy: 0.9410 - val_loss: 0.2609 - val_accuracy: 0.9208\n",
            "Epoch 50/1000\n",
            "58/58 [==============================] - 0s 3ms/step - loss: 0.2219 - accuracy: 0.9418 - val_loss: 0.2609 - val_accuracy: 0.9219\n",
            "Epoch 51/1000\n",
            "58/58 [==============================] - 0s 4ms/step - loss: 0.2214 - accuracy: 0.9423 - val_loss: 0.2604 - val_accuracy: 0.9203\n",
            "Epoch 52/1000\n",
            "58/58 [==============================] - 0s 3ms/step - loss: 0.2205 - accuracy: 0.9426 - val_loss: 0.2600 - val_accuracy: 0.9208\n",
            "Epoch 53/1000\n",
            "58/58 [==============================] - 0s 3ms/step - loss: 0.2202 - accuracy: 0.9423 - val_loss: 0.2596 - val_accuracy: 0.9213\n",
            "Epoch 54/1000\n",
            "58/58 [==============================] - 0s 3ms/step - loss: 0.2195 - accuracy: 0.9418 - val_loss: 0.2592 - val_accuracy: 0.9224\n",
            "Epoch 55/1000\n",
            "58/58 [==============================] - 0s 3ms/step - loss: 0.2189 - accuracy: 0.9423 - val_loss: 0.2588 - val_accuracy: 0.9219\n",
            "Epoch 56/1000\n",
            "58/58 [==============================] - 0s 4ms/step - loss: 0.2185 - accuracy: 0.9418 - val_loss: 0.2587 - val_accuracy: 0.9213\n",
            "Epoch 57/1000\n",
            "58/58 [==============================] - 0s 3ms/step - loss: 0.2179 - accuracy: 0.9421 - val_loss: 0.2585 - val_accuracy: 0.9224\n",
            "Epoch 58/1000\n",
            "58/58 [==============================] - 0s 4ms/step - loss: 0.2173 - accuracy: 0.9426 - val_loss: 0.2575 - val_accuracy: 0.9235\n",
            "Epoch 59/1000\n",
            "58/58 [==============================] - 0s 3ms/step - loss: 0.2167 - accuracy: 0.9429 - val_loss: 0.2575 - val_accuracy: 0.9235\n",
            "Epoch 60/1000\n",
            "58/58 [==============================] - 0s 3ms/step - loss: 0.2162 - accuracy: 0.9426 - val_loss: 0.2574 - val_accuracy: 0.9235\n",
            "Epoch 61/1000\n",
            "58/58 [==============================] - 0s 4ms/step - loss: 0.2155 - accuracy: 0.9418 - val_loss: 0.2569 - val_accuracy: 0.9235\n",
            "Epoch 62/1000\n",
            "58/58 [==============================] - 0s 3ms/step - loss: 0.2151 - accuracy: 0.9426 - val_loss: 0.2569 - val_accuracy: 0.9240\n",
            "Epoch 63/1000\n",
            "58/58 [==============================] - 0s 4ms/step - loss: 0.2148 - accuracy: 0.9423 - val_loss: 0.2564 - val_accuracy: 0.9240\n",
            "Epoch 64/1000\n",
            "58/58 [==============================] - 0s 3ms/step - loss: 0.2141 - accuracy: 0.9434 - val_loss: 0.2562 - val_accuracy: 0.9246\n",
            "Epoch 65/1000\n",
            "58/58 [==============================] - 0s 3ms/step - loss: 0.2136 - accuracy: 0.9429 - val_loss: 0.2555 - val_accuracy: 0.9240\n",
            "Epoch 66/1000\n",
            "58/58 [==============================] - 0s 3ms/step - loss: 0.2131 - accuracy: 0.9437 - val_loss: 0.2552 - val_accuracy: 0.9235\n",
            "Epoch 67/1000\n",
            "58/58 [==============================] - 0s 4ms/step - loss: 0.2126 - accuracy: 0.9442 - val_loss: 0.2552 - val_accuracy: 0.9235\n",
            "Epoch 68/1000\n",
            "58/58 [==============================] - 0s 3ms/step - loss: 0.2121 - accuracy: 0.9426 - val_loss: 0.2551 - val_accuracy: 0.9246\n",
            "Epoch 69/1000\n",
            "58/58 [==============================] - 0s 3ms/step - loss: 0.2116 - accuracy: 0.9434 - val_loss: 0.2550 - val_accuracy: 0.9251\n",
            "Epoch 70/1000\n",
            "58/58 [==============================] - 0s 3ms/step - loss: 0.2112 - accuracy: 0.9434 - val_loss: 0.2544 - val_accuracy: 0.9256\n",
            "Epoch 71/1000\n",
            "58/58 [==============================] - 0s 3ms/step - loss: 0.2107 - accuracy: 0.9437 - val_loss: 0.2544 - val_accuracy: 0.9251\n",
            "Epoch 72/1000\n",
            "58/58 [==============================] - 0s 3ms/step - loss: 0.2103 - accuracy: 0.9434 - val_loss: 0.2544 - val_accuracy: 0.9256\n",
            "Epoch 73/1000\n",
            "58/58 [==============================] - 0s 4ms/step - loss: 0.2098 - accuracy: 0.9432 - val_loss: 0.2541 - val_accuracy: 0.9246\n",
            "Epoch 74/1000\n",
            "58/58 [==============================] - 0s 3ms/step - loss: 0.2094 - accuracy: 0.9464 - val_loss: 0.2536 - val_accuracy: 0.9251\n",
            "Epoch 75/1000\n",
            "58/58 [==============================] - 0s 3ms/step - loss: 0.2091 - accuracy: 0.9450 - val_loss: 0.2539 - val_accuracy: 0.9246\n",
            "Epoch 76/1000\n",
            "58/58 [==============================] - 0s 4ms/step - loss: 0.2086 - accuracy: 0.9456 - val_loss: 0.2532 - val_accuracy: 0.9251\n",
            "Epoch 77/1000\n",
            "58/58 [==============================] - 0s 3ms/step - loss: 0.2083 - accuracy: 0.9450 - val_loss: 0.2526 - val_accuracy: 0.9251\n",
            "Epoch 78/1000\n",
            "58/58 [==============================] - 0s 3ms/step - loss: 0.2077 - accuracy: 0.9459 - val_loss: 0.2528 - val_accuracy: 0.9262\n",
            "Epoch 79/1000\n",
            "58/58 [==============================] - 0s 3ms/step - loss: 0.2071 - accuracy: 0.9456 - val_loss: 0.2525 - val_accuracy: 0.9262\n",
            "Epoch 80/1000\n",
            "58/58 [==============================] - 0s 3ms/step - loss: 0.2068 - accuracy: 0.9450 - val_loss: 0.2530 - val_accuracy: 0.9267\n",
            "Epoch 81/1000\n",
            "58/58 [==============================] - 0s 3ms/step - loss: 0.2064 - accuracy: 0.9461 - val_loss: 0.2529 - val_accuracy: 0.9256\n",
            "Epoch 82/1000\n",
            "58/58 [==============================] - 0s 4ms/step - loss: 0.2058 - accuracy: 0.9461 - val_loss: 0.2523 - val_accuracy: 0.9256\n",
            "Epoch 83/1000\n",
            "58/58 [==============================] - 0s 3ms/step - loss: 0.2059 - accuracy: 0.9450 - val_loss: 0.2521 - val_accuracy: 0.9256\n",
            "Epoch 84/1000\n",
            "58/58 [==============================] - 0s 4ms/step - loss: 0.2056 - accuracy: 0.9450 - val_loss: 0.2521 - val_accuracy: 0.9262\n",
            "Epoch 85/1000\n",
            "58/58 [==============================] - 0s 3ms/step - loss: 0.2049 - accuracy: 0.9461 - val_loss: 0.2520 - val_accuracy: 0.9251\n",
            "Epoch 86/1000\n",
            "58/58 [==============================] - 0s 3ms/step - loss: 0.2046 - accuracy: 0.9464 - val_loss: 0.2521 - val_accuracy: 0.9262\n",
            "Epoch 87/1000\n",
            "58/58 [==============================] - 0s 3ms/step - loss: 0.2041 - accuracy: 0.9469 - val_loss: 0.2519 - val_accuracy: 0.9262\n",
            "Epoch 88/1000\n",
            "58/58 [==============================] - 0s 3ms/step - loss: 0.2037 - accuracy: 0.9456 - val_loss: 0.2517 - val_accuracy: 0.9256\n",
            "Epoch 89/1000\n",
            "58/58 [==============================] - 0s 3ms/step - loss: 0.2035 - accuracy: 0.9464 - val_loss: 0.2512 - val_accuracy: 0.9256\n",
            "Epoch 90/1000\n",
            "58/58 [==============================] - 0s 4ms/step - loss: 0.2027 - accuracy: 0.9467 - val_loss: 0.2514 - val_accuracy: 0.9246\n",
            "Epoch 91/1000\n",
            "58/58 [==============================] - 0s 4ms/step - loss: 0.2023 - accuracy: 0.9464 - val_loss: 0.2514 - val_accuracy: 0.9262\n",
            "Epoch 92/1000\n",
            "58/58 [==============================] - 0s 4ms/step - loss: 0.2018 - accuracy: 0.9480 - val_loss: 0.2511 - val_accuracy: 0.9273\n",
            "Epoch 93/1000\n",
            "58/58 [==============================] - 0s 4ms/step - loss: 0.2019 - accuracy: 0.9469 - val_loss: 0.2513 - val_accuracy: 0.9278\n",
            "Epoch 94/1000\n",
            "58/58 [==============================] - 0s 4ms/step - loss: 0.2010 - accuracy: 0.9464 - val_loss: 0.2512 - val_accuracy: 0.9262\n",
            "Epoch 95/1000\n",
            "58/58 [==============================] - 0s 3ms/step - loss: 0.2008 - accuracy: 0.9472 - val_loss: 0.2505 - val_accuracy: 0.9278\n",
            "Epoch 96/1000\n",
            "58/58 [==============================] - 0s 4ms/step - loss: 0.2006 - accuracy: 0.9467 - val_loss: 0.2507 - val_accuracy: 0.9262\n",
            "Epoch 97/1000\n",
            "58/58 [==============================] - 0s 4ms/step - loss: 0.2001 - accuracy: 0.9485 - val_loss: 0.2506 - val_accuracy: 0.9278\n",
            "Epoch 98/1000\n",
            "58/58 [==============================] - 0s 3ms/step - loss: 0.1999 - accuracy: 0.9475 - val_loss: 0.2503 - val_accuracy: 0.9273\n",
            "Epoch 99/1000\n",
            "58/58 [==============================] - 0s 3ms/step - loss: 0.1992 - accuracy: 0.9491 - val_loss: 0.2501 - val_accuracy: 0.9273\n",
            "Epoch 100/1000\n",
            "58/58 [==============================] - 0s 3ms/step - loss: 0.1988 - accuracy: 0.9483 - val_loss: 0.2501 - val_accuracy: 0.9273\n",
            "Epoch 101/1000\n",
            "58/58 [==============================] - 0s 3ms/step - loss: 0.1986 - accuracy: 0.9480 - val_loss: 0.2502 - val_accuracy: 0.9256\n",
            "Epoch 102/1000\n",
            "58/58 [==============================] - 0s 3ms/step - loss: 0.1984 - accuracy: 0.9475 - val_loss: 0.2499 - val_accuracy: 0.9273\n",
            "Epoch 103/1000\n",
            "58/58 [==============================] - 0s 4ms/step - loss: 0.1977 - accuracy: 0.9485 - val_loss: 0.2499 - val_accuracy: 0.9278\n",
            "Epoch 104/1000\n",
            "58/58 [==============================] - 0s 3ms/step - loss: 0.1974 - accuracy: 0.9480 - val_loss: 0.2499 - val_accuracy: 0.9273\n",
            "Epoch 105/1000\n",
            "58/58 [==============================] - 0s 4ms/step - loss: 0.1968 - accuracy: 0.9496 - val_loss: 0.2495 - val_accuracy: 0.9262\n",
            "Epoch 106/1000\n",
            "58/58 [==============================] - 0s 3ms/step - loss: 0.1964 - accuracy: 0.9488 - val_loss: 0.2495 - val_accuracy: 0.9283\n",
            "Epoch 107/1000\n",
            "58/58 [==============================] - 0s 3ms/step - loss: 0.1963 - accuracy: 0.9499 - val_loss: 0.2499 - val_accuracy: 0.9283\n",
            "Epoch 108/1000\n",
            "58/58 [==============================] - 0s 4ms/step - loss: 0.1960 - accuracy: 0.9494 - val_loss: 0.2498 - val_accuracy: 0.9262\n",
            "Epoch 109/1000\n",
            "58/58 [==============================] - 0s 4ms/step - loss: 0.1955 - accuracy: 0.9502 - val_loss: 0.2496 - val_accuracy: 0.9267\n",
            "Epoch 110/1000\n",
            "58/58 [==============================] - 0s 4ms/step - loss: 0.1948 - accuracy: 0.9496 - val_loss: 0.2494 - val_accuracy: 0.9262\n",
            "Epoch 111/1000\n",
            "58/58 [==============================] - 0s 4ms/step - loss: 0.1946 - accuracy: 0.9507 - val_loss: 0.2493 - val_accuracy: 0.9262\n",
            "Epoch 112/1000\n",
            "58/58 [==============================] - 0s 4ms/step - loss: 0.1945 - accuracy: 0.9496 - val_loss: 0.2495 - val_accuracy: 0.9262\n",
            "Epoch 113/1000\n",
            "58/58 [==============================] - 0s 3ms/step - loss: 0.1939 - accuracy: 0.9483 - val_loss: 0.2494 - val_accuracy: 0.9283\n",
            "Epoch 114/1000\n",
            "58/58 [==============================] - 0s 3ms/step - loss: 0.1937 - accuracy: 0.9504 - val_loss: 0.2494 - val_accuracy: 0.9278\n",
            "Epoch 115/1000\n",
            "58/58 [==============================] - 0s 3ms/step - loss: 0.1934 - accuracy: 0.9504 - val_loss: 0.2489 - val_accuracy: 0.9278\n",
            "Epoch 116/1000\n",
            "58/58 [==============================] - 0s 4ms/step - loss: 0.1931 - accuracy: 0.9496 - val_loss: 0.2490 - val_accuracy: 0.9278\n",
            "Epoch 117/1000\n",
            "58/58 [==============================] - 0s 3ms/step - loss: 0.1925 - accuracy: 0.9510 - val_loss: 0.2485 - val_accuracy: 0.9278\n",
            "Epoch 118/1000\n",
            "58/58 [==============================] - 0s 4ms/step - loss: 0.1922 - accuracy: 0.9499 - val_loss: 0.2491 - val_accuracy: 0.9267\n",
            "Epoch 119/1000\n",
            "58/58 [==============================] - 0s 3ms/step - loss: 0.1920 - accuracy: 0.9494 - val_loss: 0.2491 - val_accuracy: 0.9262\n",
            "Epoch 120/1000\n",
            "58/58 [==============================] - 0s 4ms/step - loss: 0.1917 - accuracy: 0.9504 - val_loss: 0.2487 - val_accuracy: 0.9267\n",
            "Epoch 121/1000\n",
            "58/58 [==============================] - 0s 3ms/step - loss: 0.1910 - accuracy: 0.9502 - val_loss: 0.2488 - val_accuracy: 0.9278\n",
            "Epoch 122/1000\n",
            "58/58 [==============================] - 0s 4ms/step - loss: 0.1908 - accuracy: 0.9504 - val_loss: 0.2489 - val_accuracy: 0.9267\n"
          ]
        }
      ]
    },
    {
      "cell_type": "code",
      "source": [
        "plt.title('Accuracy during training')\n",
        "plt.plot(range(len(history.history['loss'])), history.history['accuracy'], label='training accuracy', color='green')\n",
        "plt.plot(range(len(history.history['loss'])), history.history['val_accuracy'], label='validation accuracy', color='red')\n",
        "plt.grid(color='gray', linewidth=.4)\n",
        "\n",
        "plt.legend(loc=\"lower right\")\n",
        "plt.xlabel(\"epochs\")\n",
        "plt.ylabel(\"accuracy\")\n",
        "plt.xlim(0, len(history.history['loss'])+1)\n",
        "plt.ylim(.45, 1.)\n",
        "plt.savefig('acc.png')"
      ],
      "metadata": {
        "colab": {
          "base_uri": "https://localhost:8080/",
          "height": 295
        },
        "id": "URc7l45nOVed",
        "outputId": "af43d034-84f0-49db-8f13-9b553e0f69a9"
      },
      "execution_count": 93,
      "outputs": [
        {
          "output_type": "display_data",
          "data": {
            "text/plain": [
              "<Figure size 432x288 with 1 Axes>"
            ],
            "image/png": "[encoded data removed]"
          },
          "metadata": {
            "needs_background": "light"
          }
        }
      ]
    },
    {
      "cell_type": "code",
      "source": [
        "plt.title('Loss during training')\n",
        "plt.plot(range(len(history.history['loss'])), history.history['loss'], label='training loss', color='green')\n",
        "plt.plot(range(len(history.history['loss'])), history.history['val_loss'], label='validation loss', color='red')\n",
        "plt.grid(color='gray', linewidth=.4)\n",
        "\n",
        "plt.legend(loc=\"upper right\")\n",
        "plt.xlabel(\"epochs\")\n",
        "plt.ylabel(\"loss\")\n",
        "plt.savefig('loss.png')"
      ],
      "metadata": {
        "colab": {
          "base_uri": "https://localhost:8080/",
          "height": 295
        },
        "id": "GdzD2gX3o2ex",
        "outputId": "d45902ac-7012-483c-e6ab-07abfcd840d6"
      },
      "execution_count": 94,
      "outputs": [
        {
          "output_type": "display_data",
          "data": {
            "text/plain": [
              "<Figure size 432x288 with 1 Axes>"
            ],
            "image/png": "[encoded data removed]"
          },
          "metadata": {
            "needs_background": "light"
          }
        }
      ]
    },
    {
      "cell_type": "code",
      "source": [
        "nn.model.evaluate(x=X_test, y=y_test)"
      ],
      "metadata": {
        "colab": {
          "base_uri": "https://localhost:8080/"
        },
        "id": "_URwnk59O6gZ",
        "outputId": "9f915245-7474-49b0-84ef-35b1eaf4b658"
      },
      "execution_count": 95,
      "outputs": [
        {
          "output_type": "stream",
          "name": "stdout",
          "text": [
            "58/58 [==============================] - 0s 2ms/step - loss: 0.2142 - accuracy: 0.9397\n"
          ]
        },
        {
          "output_type": "execute_result",
          "data": {
            "text/plain": [
              "[0.214177668094635, 0.9396551847457886]"
            ]
          },
          "metadata": {},
          "execution_count": 95
        }
      ]
    },
    {
      "cell_type": "code",
      "source": [
        "nn.model.save('ac.h5')"
      ],
      "metadata": {
        "id": "9BvSjCRgfBeZ"
      },
      "execution_count": 96,
      "outputs": []
    },
    {
      "cell_type": "code",
      "source": [
        "# I thought that we can obtain these results also without using a neural network"
      ],
      "metadata": {
        "id": "lqHcU5SdfL3J"
      },
      "execution_count": null,
      "outputs": []
    }
  ]
}