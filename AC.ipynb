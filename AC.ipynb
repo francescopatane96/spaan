{
  "nbformat": 4,
  "nbformat_minor": 0,
  "metadata": {
    "colab": {
      "provenance": []
    },
    "kernelspec": {
      "name": "python3",
      "display_name": "Python 3"
    },
    "language_info": {
      "name": "python"
    }
  },
  "cells": [
    {
      "cell_type": "markdown",
      "source": [
        "# Adhesin Classification"
      ],
      "metadata": {
        "id": "0n7PxHqkaz62"
      }
    },
    {
      "cell_type": "code",
      "execution_count": 121,
      "metadata": {
        "id": "PWVGuYECU5Re"
      },
      "outputs": [],
      "source": [
        "%%capture\n",
        "!pip install Biopython\n",
        "!rm -r iFeature\n",
        "!rm -r spaan\n",
        "!git clone https://github.com/Superzchen/iFeature\n",
        "!git clone https://github.com/nicolagulmini/spaan\n",
        "\n",
        "import numpy as np\n",
        "import tensorflow\n",
        "from tensorflow import keras\n",
        "import matplotlib.pyplot as plt\n",
        "from Bio import SeqIO\n",
        "\n",
        "np.random.seed(990)"
      ]
    },
    {
      "cell_type": "markdown",
      "source": [
        "## Compute features from sequences using iFeature"
      ],
      "metadata": {
        "id": "VEeoI6ARa3dL"
      }
    },
    {
      "cell_type": "code",
      "source": [
        "'''\n",
        "# put the right path\n",
        "!python iFeature/iFeature.py --file ./spaan/data/25_similarity/positive/adhesins.fasta --type AAC --out aac_cleaned_pos.out    # amino acids composition\n",
        "!python iFeature/iFeature.py --file ./spaan/data/25_similarity/positive/adhesins.fasta --type DPC --out dpc_cleaned_pos.out    # dipeptide composition\n",
        "!python iFeature/iFeature.py --file ./spaan/data/25_similarity/positive/adhesins.fasta --type CTDC --out ctdc_cleaned_pos.out  # composition\n",
        "!python iFeature/iFeature.py --file ./spaan/data/25_similarity/positive/adhesins.fasta --type CTDT --out ctdt_cleaned_pos.out  # transition\n",
        "!python iFeature/iFeature.py --file ./spaan/data/25_similarity/positive/adhesins.fasta --type CTDD --out ctdd_cleaned_pos.out  # distribution\n",
        "\n",
        "print(\"pos: DONE!\")\n",
        "\n",
        "!python iFeature/iFeature.py --file ./spaan/data/25_similarity/negative/non_adhesins.fasta --type AAC --out aac_cleaned_neg.out    # amino acids composition\n",
        "!python iFeature/iFeature.py --file ./spaan/data/25_similarity/negative/non_adhesins.fasta --type DPC --out dpc_cleaned_neg.out    # dipeptide composition\n",
        "!python iFeature/iFeature.py --file ./spaan/data/25_similarity/negative/non_adhesins.fasta --type CTDC --out ctdc_cleaned_neg.out  # composition\n",
        "!python iFeature/iFeature.py --file ./spaan/data/25_similarity/negative/non_adhesins.fasta --type CTDT --out ctdt_cleaned_neg.out  # transition\n",
        "!python iFeature/iFeature.py --file ./spaan/data/25_similarity/negative/non_adhesins.fasta --type CTDD --out ctdd_cleaned_neg.out  # distribution\n",
        "\n",
        "print(\"neg: DONE!\")\n",
        "'''"
      ],
      "metadata": {
        "id": "pzEvZQh1U7s9",
        "colab": {
          "base_uri": "https://localhost:8080/",
          "height": 178
        },
        "outputId": "04247103-8e60-4cae-a9c9-951d40b0b895"
      },
      "execution_count": 122,
      "outputs": [
        {
          "output_type": "execute_result",
          "data": {
            "text/plain": [
              "'\\n# put the right path\\n!python iFeature/iFeature.py --file ./spaan/data/25_similarity/positive/adhesins.fasta --type AAC --out aac_cleaned_pos.out    # amino acids composition\\n!python iFeature/iFeature.py --file ./spaan/data/25_similarity/positive/adhesins.fasta --type DPC --out dpc_cleaned_pos.out    # dipeptide composition\\n!python iFeature/iFeature.py --file ./spaan/data/25_similarity/positive/adhesins.fasta --type CTDC --out ctdc_cleaned_pos.out  # composition\\n!python iFeature/iFeature.py --file ./spaan/data/25_similarity/positive/adhesins.fasta --type CTDT --out ctdt_cleaned_pos.out  # transition\\n!python iFeature/iFeature.py --file ./spaan/data/25_similarity/positive/adhesins.fasta --type CTDD --out ctdd_cleaned_pos.out  # distribution\\n\\nprint(\"pos: DONE!\")\\n\\n!python iFeature/iFeature.py --file ./spaan/data/25_similarity/negative/non_adhesins.fasta --type AAC --out aac_cleaned_neg.out    # amino acids composition\\n!python iFeature/iFeature.py --file ./spaan/data/25_similarity/negative/non_adhesins.fasta --type DPC --out dpc_cleaned_neg.out    # dipeptide composition\\n!python iFeature/iFeature.py --file ./spaan/data/25_similarity/negative/non_adhesins.fasta --type CTDC --out ctdc_cleaned_neg.out  # composition\\n!python iFeature/iFeature.py --file ./spaan/data/25_similarity/negative/non_adhesins.fasta --type CTDT --out ctdt_cleaned_neg.out  # transition\\n!python iFeature/iFeature.py --file ./spaan/data/25_similarity/negative/non_adhesins.fasta --type CTDD --out ctdd_cleaned_neg.out  # distribution\\n\\nprint(\"neg: DONE!\")\\n'"
            ],
            "application/vnd.google.colaboratory.intrinsic+json": {
              "type": "string"
            }
          },
          "metadata": {},
          "execution_count": 122
        }
      ]
    },
    {
      "cell_type": "code",
      "source": [
        "def from_files_to_vectors(fasta_path, positive=True):\n",
        "    if positive:\n",
        "        proteins = list(SeqIO.parse(fasta_path+'adhesins.fasta', \"fasta\"))\n",
        "    else:\n",
        "        proteins = list(SeqIO.parse(fasta_path+'non_adhesins.fasta', \"fasta\"))\n",
        "    extension = \".out\"\n",
        "    files = [\"aac\", \"dpc\", \"ctdc\", \"ctdt\", \"ctdd\"]\n",
        "    if positive:\n",
        "        names = \"_pos\"\n",
        "    else:\n",
        "        names = \"_neg\"\n",
        "    for i in range(len(files)):\n",
        "        files[i] += names\n",
        "    datasets = [[] for el in files]\n",
        "    for i in range(len(files)):\n",
        "        with open(fasta_path+files[i]+extension) as f:\n",
        "            lines = f.readlines()[1:]\n",
        "            check_prot = 0\n",
        "            for line in lines:\n",
        "                information = line.split('\\t')\n",
        "                if not information[0] == proteins[check_prot].id:\n",
        "                    print(\"Error in protein order! Return\")\n",
        "                    return datasets\n",
        "                datasets[i].append(np.array([float(el) for el in information[1:]]))\n",
        "                check_prot += 1\n",
        "        datasets[i] = np.array(datasets[i])\n",
        "    return datasets"
      ],
      "metadata": {
        "id": "IYbll8nFWFeB"
      },
      "execution_count": 123,
      "outputs": []
    },
    {
      "cell_type": "code",
      "source": [
        "# put the right path\n",
        "pos_datasets = from_files_to_vectors(\"./spaan/data/25_similarity/positive/\", positive=True)\n",
        "neg_datasets = from_files_to_vectors(\"./spaan/data/25_similarity/negative/\", positive=False)"
      ],
      "metadata": {
        "id": "UhhYXnkFd4f-"
      },
      "execution_count": 124,
      "outputs": []
    },
    {
      "cell_type": "code",
      "source": [
        "y_pos = np.ones(pos_datasets[0].shape[0])\n",
        "y_neg = np.zeros(neg_datasets[0].shape[0])"
      ],
      "metadata": {
        "id": "ygAG4O2mbTqE"
      },
      "execution_count": 125,
      "outputs": []
    },
    {
      "cell_type": "code",
      "source": [
        "# attach datasets in order to obtain a matrix of (n, 20+400+39+39+195) features\n",
        "\n",
        "# keep in mind the number of adhesins and the number of not adhesins\n",
        "rows = 0\n",
        "n_pos = y_pos.shape[0]\n",
        "n_neg = y_neg.shape[0]\n",
        "rows = n_pos + n_neg\n",
        "print('Adhesins:', n_pos)\n",
        "print('NON Adhesins:', n_neg)\n",
        "\n",
        "# feature vectors dimensions\n",
        "columns = 0\n",
        "for i in range(len(pos_datasets)):\n",
        "    tmp_dim = pos_datasets[i].shape[1]\n",
        "    print(i+1, '-th feature dim:', tmp_dim)\n",
        "    columns += tmp_dim\n",
        "\n",
        "# data matrix to process\n",
        "X = np.zeros((rows, columns))\n",
        "print('Data matrix dimension:', X.shape)\n",
        "for i in range(n_pos):\n",
        "    X[i] = np.concatenate([pos_datasets[j][i] for j in range(5)])\n",
        "for i in range(n_neg):\n",
        "    X[n_pos+i] = np.concatenate([neg_datasets[j][i] for j in range(5)])"
      ],
      "metadata": {
        "colab": {
          "base_uri": "https://localhost:8080/"
        },
        "id": "smNPp1kx8wjn",
        "outputId": "82b1c70f-7b49-4998-837b-e54a9ffefe5b"
      },
      "execution_count": 126,
      "outputs": [
        {
          "output_type": "stream",
          "name": "stdout",
          "text": [
            "Adhesins: 3714\n",
            "NON Adhesins: 3710\n",
            "1 -th feature dim: 20\n",
            "2 -th feature dim: 400\n",
            "3 -th feature dim: 39\n",
            "4 -th feature dim: 39\n",
            "5 -th feature dim: 195\n",
            "Data matrix dimension: (7424, 693)\n"
          ]
        }
      ]
    },
    {
      "cell_type": "code",
      "source": [
        "# permutation\n",
        "y = np.concatenate((y_pos, y_neg), axis=0)\n",
        "c = np.random.permutation(np.arange(y.shape[0]))\n",
        "y = y[c]\n",
        "X = X[c] "
      ],
      "metadata": {
        "id": "Le_qOBDQbtIR"
      },
      "execution_count": 127,
      "outputs": []
    },
    {
      "cell_type": "code",
      "source": [
        "# we should remove outliers"
      ],
      "metadata": {
        "id": "C6lIL92bil0D"
      },
      "execution_count": 128,
      "outputs": []
    },
    {
      "cell_type": "code",
      "source": [
        "# remember: standardization or scaling AFTER train-test split, otherwise there's data leakage!!!\n",
        "X_train = X[:int(X.shape[0]*.5)]\n",
        "X_val = X[int(X.shape[0]*.5):int(X.shape[0]*.75)]\n",
        "X_test = X[int(X.shape[0]*.75):]\n",
        "\n",
        "y_train = y[:int(y.shape[0]*.5)]\n",
        "y_val = y[int(y.shape[0]*.5):int(y.shape[0]*.75)]\n",
        "y_test = y[int(y.shape[0]*.75):]\n",
        "\n",
        "print('Training data shape:', X_train.shape, y_train.shape)\n",
        "print('Validation data shape:', X_val.shape, y_val.shape)\n",
        "print('Test data shape:', X_test.shape, y_test.shape)\n",
        "\n",
        "print('\\nTraining adhesins and not-adhesins:', int(sum(y_train)), int(y_train.shape[0]-sum(y_train)))\n",
        "print('Validation adhesins and not-adhesins:', int(sum(y_val)), int(y_val.shape[0]-sum(y_val)))\n",
        "print('Test adhesins and not-adhesins:', int(sum(y_test)), int(y_test.shape[0]-sum(y_test)))"
      ],
      "metadata": {
        "colab": {
          "base_uri": "https://localhost:8080/"
        },
        "id": "ux8mpZZwb-AD",
        "outputId": "5f81e2a0-fe6b-4346-8962-9181091ffb81"
      },
      "execution_count": 129,
      "outputs": [
        {
          "output_type": "stream",
          "name": "stdout",
          "text": [
            "Training data shape: (3712, 693) (3712,)\n",
            "Validation data shape: (1856, 693) (1856,)\n",
            "Test data shape: (1856, 693) (1856,)\n",
            "\n",
            "Training adhesins and not-adhesins: 1873 1839\n",
            "Validation adhesins and not-adhesins: 904 952\n",
            "Test adhesins and not-adhesins: 937 919\n"
          ]
        }
      ]
    },
    {
      "cell_type": "markdown",
      "source": [
        "## PCA"
      ],
      "metadata": {
        "id": "A3f7wcI98ukB"
      }
    },
    {
      "cell_type": "code",
      "source": [
        "# standardize data\n",
        "# remember that test and validation data have to be standardized with training mean and std dev\n",
        "# https://stats.stackexchange.com/questions/174823/how-to-apply-standardization-normalization-to-train-and-testset-if-prediction-i\n",
        "\n",
        "# print some column vectors to check\n",
        "print('Before standardization:')\n",
        "print('mean of the first column:', np.mean(X_train[:,0]))\n",
        "print('mean of the second column:', np.mean(X_train[:,1]))\n",
        "print('mean of the 451-th column:', np.mean(X_train[:,450]))\n",
        "\n",
        "stdX = np.zeros(X_train.shape)\n",
        "stdX_val = np.zeros(X_val.shape)\n",
        "stdX_test = np.zeros(X_test.shape)\n",
        "\n",
        "means = np.zeros(X_train.shape[1])\n",
        "std_devs = np.zeros(X_train.shape[1])\n",
        "\n",
        "for j in range(X_train.shape[1]):\n",
        "    column = X_train[:,j]\n",
        "    means[j] = np.mean(column)\n",
        "    std_devs[j] = np.std(column)\n",
        "\n",
        "    stdX[:,j] = (column - means[j]) / std_devs[j]\n",
        "    stdX_val[:,j] = (X_val[:,j] - means[j]) / std_devs[j]\n",
        "    stdX_test[:,j] = (X_test[:,j] - means[j]) / std_devs[j]\n",
        "\n",
        "print('After standardization:')\n",
        "print('mean of the first column:', np.mean(stdX[:,0]))\n",
        "print('mean of the second column:', np.mean(stdX[:,1]))\n",
        "print('mean of the 451-th column:', np.mean(stdX[:,450]))\n",
        "\n",
        "np.save('mean', means)\n",
        "np.save('std', std_devs)"
      ],
      "metadata": {
        "colab": {
          "base_uri": "https://localhost:8080/"
        },
        "id": "uos3QwWo9Mnt",
        "outputId": "61476efe-b3c5-4a8f-eefa-c917a08c4861"
      },
      "execution_count": 131,
      "outputs": [
        {
          "output_type": "stream",
          "name": "stdout",
          "text": [
            "Before standardization:\n",
            "mean of the first column: 0.08869605741074452\n",
            "mean of the second column: 0.00963598554104223\n",
            "mean of the 451-th column: 0.09704316232787938\n",
            "After standardization:\n",
            "mean of the first column: 1.550483879217891e-16\n",
            "mean of the second column: -5.646824004558985e-17\n",
            "mean of the 451-th column: 7.441365531431545e-17\n"
          ]
        }
      ]
    },
    {
      "cell_type": "code",
      "source": [
        "covariance_matrix = np.cov(stdX.T)"
      ],
      "metadata": {
        "id": "1rxxgMIFBCiy"
      },
      "execution_count": 132,
      "outputs": []
    },
    {
      "cell_type": "code",
      "source": [
        "# The covariance matrix is symmetric, and thus has real eigenvalues. You may see a small imaginary part in some eigenvalues due to numerical error. The imaginary parts can generally be ignored.\n",
        "# source: https://stackoverflow.com/questions/10420648/complex-eigen-values-in-pca-calculation\n",
        "\n",
        "eigen_values, eigen_vectors = np.linalg.eig(covariance_matrix)\n",
        "eigen_values = np.real(eigen_values)\n",
        "eigen_vectors = np.real(eigen_vectors)"
      ],
      "metadata": {
        "id": "WP-_Lnn-ClUY"
      },
      "execution_count": 133,
      "outputs": []
    },
    {
      "cell_type": "code",
      "source": [
        "# Calculating the explained variance on each of components\n",
        "\n",
        "variance_explained = []\n",
        "for i in eigen_values:\n",
        "    variance_explained.append((i/sum(eigen_values))*100)\n",
        "\n",
        "print(variance_explained)"
      ],
      "metadata": {
        "colab": {
          "base_uri": "https://localhost:8080/"
        },
        "id": "hTqYBNJ6CpPm",
        "outputId": "ee4ce8e4-3fa7-455f-842e-89b1e2dbd468"
      },
      "execution_count": 134,
      "outputs": [
        {
          "output_type": "stream",
          "name": "stdout",
          "text": [
            "[7.778640058911811, 5.633853507163902, 4.099947104804462, 3.538158099444883, 2.9589827895048404, 2.7358022435101925, 1.7183571386695629, 1.54602062043368, 1.502199258724405, 1.2855195802041486, 1.0721661628142742, 1.0507867410159526, 0.9007119307386396, 0.8646889318598958, 0.8271516457188899, 0.8079146205337231, 0.7650049287886496, 0.7214297189191776, 0.7031251378118689, 0.6617015427478659, 0.6276805131921619, 0.6130351537211609, 0.5956382939615295, 0.5544728120218994, 0.5514718412198557, 0.5423402089203315, 0.5191736624082552, 0.4985290971813844, 0.4817170606099881, 0.46498079864786174, 0.4459898678732404, 0.44128426273669297, 0.43094596044211564, 0.42028243511100805, 0.4143708729677349, 0.3960244119931097, 0.38799444961394947, 0.38015019071229134, 0.37735018592308156, 0.3551775842244548, 0.340276350762565, 0.33770074781375564, 0.3291217282882009, 0.3246536708878847, 0.3147034308443884, 0.3055989621632468, 0.3050817408017846, 0.2994427913898119, 0.2939664276368448, 0.2894350543446753, 0.2859686948783522, 0.2840249825131101, 0.2798276749633058, 0.2780763126463483, 0.2734072818005362, 0.2690018560424835, 0.26501332131119726, 0.26392823586038394, 0.26049636180797725, 0.2559071763966834, 0.25476394820569404, 0.25323590846127564, 0.25119461815117256, 0.24630948162325558, 0.24258782189493328, 0.24090245150245332, 0.23829349762209792, 0.23595309844085532, 0.23601842396475223, 0.23299867286957618, 0.23208577206956438, 0.22990028325094333, 0.22745771906088272, 0.22613930898938522, 0.2259121067806201, 0.22498652843535535, 0.22185687958822115, 0.21956679609465637, 0.21876943785460795, 0.21790934311962978, 0.217172690906004, 0.21378565650014844, 0.2118696424739649, 0.2064012128849018, 0.20962803542565303, 0.20915787596184815, 0.20798234651891603, 0.20585047242363225, 0.20456197162479822, 0.20352223682847795, 0.20160318877306527, 0.20189289403944952, 0.19938455116871623, 0.19800385052172603, 0.19678020110454286, 0.1952422708414063, 0.19501793422571329, 0.19427341685162833, 0.19305012218532733, 0.19129043096365514, 0.1900986392854879, 0.18842394647688723, 0.18817965037733814, 0.18663819930435085, 0.18568610698172672, 0.18497216167993735, 0.1842727590911295, 0.18353053050357945, 0.1813634528642363, 0.18015380629053512, 0.17911100245637926, 0.17825066190371058, 0.17788151982050854, 0.17679111168083814, 0.17699137488390795, 0.1757701671242112, 0.17509633172742514, 0.1737891396435615, 0.1729376238965609, 0.17242434905377266, 0.17179316279065082, 0.17065281242797753, 0.1700225465334033, 0.16915456015349498, 0.16813074312514603, 0.16727776955131055, 0.1638241254242195, 0.1647404449048877, 0.16653984354965823, 0.1664729864629529, 0.16551515389806964, 0.16313890972486908, 0.1623470481945866, 0.1618585121588631, 0.16106291288458188, 0.14226863170152101, 0.1427479440970389, 0.14362167464604253, 0.1440327880201571, 0.16038480380730125, 0.15845596600938364, 0.14487571162111948, 0.15730726119728777, 0.15786252870766437, 0.1560119295215383, 0.14661388001159453, 0.1555915233301188, 0.14733640628807423, 0.15482731048981185, 0.1537004700192538, 0.15279690642342078, 0.14911058486137907, 0.14528488748375692, 0.15033021935802726, 0.15767163881435647, 0.15422903745322894, 0.1512161660863205, 0.14799196311700197, 0.14824447653552938, 0.1518543363690042, 0.14952298603003641, 0.15097783265016934, 0.14166311991743027, 0.1411326952686206, 0.14069196864065645, 0.14012606474515543, 0.13904715517361624, 0.13832329876027363, 0.136815786803556, 0.13714450015238058, 0.1372995741928946, 0.13609964368646327, 0.11949451047029058, 0.13587754370687338, 0.11997994078865645, 0.12019652268213214, 0.12053553961696914, 0.13469282841802863, 0.13428220051377363, 0.12120869418963016, 0.1336621551018344, 0.12164736736797871, 0.13278824078134854, 0.13190778907018133, 0.12422328714112049, 0.1230418929295621, 0.12325167601662292, 0.12348761127292777, 0.131972507591051, 0.13125134862003393, 0.12526603678528597, 0.12272409562202526, 0.1309659525608285, 0.12621543055016754, 0.12699784612117962, 0.1279907181474589, 0.13039597779976306, 0.12964295454807864, 0.12882154440829768, 0.12742490652865096, 0.12934326619139824, 0.12508949469470465, 0.12844873710073215, 0.12918963072625986, 0.1260709272650275, 0.10488435063868197, 0.10514501270592283, 0.10545236177733233, 0.10620371117703493, 0.1184254305370687, 0.11727372021084091, 0.1179621698104934, 0.118271463338392, 0.11644311414316824, 0.11574816569350724, 0.10670334026085196, 0.10744079226321476, 0.11525237640628806, 0.1114309856694181, 0.1147505503851139, 0.11396748489919892, 0.11232981651986729, 0.10802432984961684, 0.11321308356315946, 0.11056838321399685, 0.10841902760830495, 0.11024532354655919, 0.11292343798258776, 0.11448367584192658, 0.10865822963828278, 0.10682463064889808, 0.10980604126502738, 0.1094396336725596, 0.1089383867778783, 0.1161991680209807, 0.10968728942653588, 0.0955842726597258, 0.09643828380453554, 0.09665224354548188, 0.096900421122885, 0.09713664434853288, 0.09752899576890413, 0.09801049069638225, 0.09837287181550587, 0.09872153454146991, 0.09886623749085471, 0.09961898668971803, 0.10055355675967056, 0.10355795568216199, 0.10302736774540544, 0.09986369682535759, 0.10202328669638022, 0.10171818392066964, 0.10474058267502803, 0.10252344796230858, 0.10276245798049939, 0.10125165763270123, 0.10385191081659567, 0.10111851155958618, 0.10137943363865247, 0.08770175668826513, 0.08800077883453412, 0.08838474273750083, 0.0887098050530807, 0.08890796790797016, 0.08928501093110158, 0.08983066309477858, 0.09010716334019361, 0.09022324836973089, 0.09377377199038348, 0.09301070338250154, 0.09094430864335536, 0.09430973487493002, 0.09516590735313624, 0.09136428087961562, 0.094579232308217, 0.09483178481265282, 0.09252159015639431, 0.09191603019766201, 0.09154342765714053, 0.09235192662927201, 0.07984194258296927, 0.08018201451054896, 0.08044196456877564, 0.08094714707824892, 0.08076988744590687, 0.08153968314409307, 0.08196916368848566, 0.0824689758357562, 0.08411834847967081, 0.08448614435108133, 0.08711539138679514, 0.08496407876069585, 0.08573552470381973, 0.08632876310260466, 0.08291049485676177, 0.08348369751278684, 0.08524604923737232, 0.08549822092761059, 0.08324280088081219, 0.08672817913840628, 0.08685969198587729, 0.08353502148494113, 0.07949577302799586, 0.07906414060824446, 0.07918413988932355, 0.07705160142167945, 0.07662434377095925, 0.07833296093183485, 0.07810218696452909, 0.0776497613907907, 0.07786465331470643, 0.07621143941141265, 0.0755336823675503, 0.07563917826916004, 0.07535664852371901, 0.07475961205110203, 0.07413037821797624, 0.0737738521387191, 0.0745494539451261, 0.0710422715743467, 0.07269547584664057, 0.07438356460148904, 0.07173876767515755, 0.07177451960166262, 0.07115262922264781, 0.07242498157778929, 0.07321697428431619, 0.07305705277409279, 0.0730334013541938, 0.07067331405534849, 0.07090652332200072, 0.07016982639125599, 0.06970497962813205, 0.06932709543890897, 0.0691890294400828, 0.032432752929513683, 0.030792758044723426, 0.03179893501037483, 0.03155198198008193, 0.031209851743273412, 0.03349783667041705, 0.0338498272980528, 0.03408605576553884, 0.02996531803313214, 0.02970502279683553, 0.0373846189503359, 0.036345888802673684, 0.035545810550172495, 0.03459928280248318, 0.028999723363207663, 0.02844557641015092, 0.028109410481657705, 0.03578256838551149, 0.03599481663120987, 0.02750222691986316, 0.027528454857164573, 0.026584212044093794, 0.02609148391092702, 0.0688754502987544, 0.025713412375854276, 0.03808518007928445, 0.023407484008763902, 0.02685937710326634, 0.025336927372969123, 0.024009798427091795, 0.024355609888204715, 0.02458415679374634, 0.022483454236641418, 0.03955541893038832, 0.03858492470910654, 0.03894756446656164, 0.024861952311546896, 0.06870485254689, 0.04035748870181961, 0.06816258006359945, 0.06833073038479531, 0.022286212867757702, 0.023059944216024798, 0.04073923145122583, 0.04081851207568051, 0.03882112927092038, 0.016901375677066864, 0.018322110168292195, 0.021711636795894843, 0.018707783126783246, 0.01909882800896253, 0.021369407736377372, 0.019392897707310695, 0.019942872189539215, 0.020038660941951874, 0.02089909029941633, 0.02088321778001386, 0.041413623291252144, 0.04198840291529978, 0.04210810604790927, 0.06744065219595502, 0.06734146788111474, 0.06707534467838895, 0.06659141503666967, 0.042708860408367244, 0.045731817473361455, 0.04550533678163026, 0.04488838734360152, 0.04320990465475768, 0.04317502560591116, 0.06620237270992727, 0.06167471145937632, 0.06565780409633443, 0.0442289176207874, 0.0620577506031493, 0.06527621380626349, 0.06487855442731882, 0.04405668335111916, 0.06557592792963876, 0.04383250324056821, 0.06432390488491019, 0.06261912674620934, 0.06273134840231662, 0.06544663045023756, 0.06336967219783242, 0.06349604833694254, 0.06382474672499407, 0.06377898798539808, 0.01796600040187295, 0.01781017268896528, 0.017541538465538336, 0.017072574263095025, 0.046269960161526166, 0.060433882652687544, 0.06096809024086969, 0.06018371563649565, 0.06127171219232784, 0.06181274996529115, 0.06004807708941939, 0.05969619924548902, 0.059602644371520797, 0.05894578387544586, 0.058823507405333895, 0.046773247912103855, 0.05830663860574757, 0.04805687602850834, 0.048834692708879024, 0.04764724573673348, 0.049403863442388105, 0.049561000010523444, 0.012812735002410857, 0.013048630332202656, 0.01594329901387202, 0.01564986832183664, 0.012132056374623949, 0.013361516290739879, 0.015368242315368853, 0.011549422394230766, 0.013789456277457104, 0.014811587749351138, 0.014369318576436325, 0.04708979467493166, 0.011590571317037562, 0.01226418500956393, 0.013909302373227734, 0.05046865019161856, 0.01468120369975609, 0.016212333456295715, 0.016294816231788387, 0.01612848137614997, 0.01553917241878875, 0.0064532279210405595, 0.04749065479677618, 0.0066605662951734245, 0.014542355569733314, 0.00699930052922623, 0.04736332184558281, 0.04853829147140457, 0.011018588054814298, 0.007204671850047441, 0.00766648547941194, 0.007380329105686509, 0.05805080354283354, 0.00813708606446326, 0.012521436603806347, 0.008329756975296641, 0.010782511376412032, 0.050721591513422606, 0.008674554342407284, 0.010446180260640574, 0.010285710693004551, 0.052512519862978765, 0.057718703845193786, 0.049973960099685855, 0.05283673651243151, 0.05097528690003752, 0.05219609580895768, 0.05312984336412482, 0.05727597111534452, 0.0574450426051847, 0.051736924709490935, 0.009669942910360945, 0.009946851680542462, 0.009082280659042423, 0.053927163066718985, 0.05114210909183945, 0.056852983544917045, 0.05457003648878322, 0.05534859250614067, 0.008839152840651027, 0.00940703963889902, 0.05358472816160522, 0.056556186272529424, 0.05621839060293837, 0.05600934060660572, 0.010705214866448846, 0.05157713006976293, 0.05472072831213745, 0.05480823918696284, 0.01003663700905576, 0.05565172090069052, 0.004851229896307076, 0.005328913964822847, 0.006287718299319526, 0.005496571347808266, 0.005652701837150788, 0.005766250957861416, 0.00605545337646934, 0.007457743664949156, 0.006130432457658317, 0.007742731064776862, 0.00934437219438605, 0.05640598218878604, 0.002227336077277026, 0.002574848049241619, 0.002883157730424698, 0.002720133483615997, 0.005103923699901061, 0.004448896163593841, 0.004692826535768418, 0.003693513436353426, 0.003197287994822557, 0.0032926476128585596, 0.009287350136991548, 0.0031250400223722377, 0.004091034892406332, 0.004717508777020748, 0.00386287652645527, 0.00393291306911729, 0.0043051977972914345, 0.006905112010964611, 0.0040269938453604565, 0.0020469394882437018, 0.0018473582371002937, 0.0016098005998790613, 0.0015409654300224539, 0.0013959216910030374, 0.0011877781769849653, 0.0010773820954179062, 0.0005033551266690777, 0.0003813716811998119, 0.00034746584061847834, 0.00033457080594524887, 0.00032269631702310344, 0.0002896256752686035, 0.00027204397752058094, 0.0002601191339068569, 0.0002072209172494195, 0.0001871756839342407, 0.00018007932717296684, 0.00016294557390891156, 0.00014527779837381739, 0.0001382763184391153, 0.00011098778921084025, 0.00013090153014901206, 0.00012319188937231132, 0.00011949272648614499, 0.00015207904673762655, 9.749472141692666e-05, 8.158737476521435e-05, 7.443598016802735e-05, 5.210396184983089e-05, 3.9435135238331395e-05, 1.0070583772135399e-05, 7.2722420793180535e-06, 5.656052826948474e-06, 5.0697422355732405e-06, 4.2600399554846766e-06, 3.5512162399950275e-06, 3.0260473008628614e-06, 2.7438107784187886e-06, 2.4474443150303936e-06, 2.245899179610964e-06, 1.870906021461098e-06, 1.5118535111515519e-06, 1.1902106339869844e-06, 1.1459771025690205e-06, 1.0230324639566563e-06, 8.837031214209618e-07, 8.487314016466993e-07, 6.749105362946232e-07, 2.922573318435815e-16, 2.922573318435815e-16, -2.667226363760836e-16, 1.7898642177654038e-16, 1.7898642177654038e-16, -2.1286449759381122e-16, -2.1286449759381122e-16, -1.7353356487101235e-16, -1.7353356487101235e-16, 2.2091618198819143e-16, 2.2091618198819143e-16, 1.942029607066712e-16, 1.942029607066712e-16, 2.0295808887789267e-16, 1.794009375877011e-16, 1.794009375877011e-16, -8.287062449127509e-17, -8.287062449127509e-17, -1.7106230400977253e-16, -1.3392057403120538e-16, -1.3392057403120538e-16, -1.5530157265284192e-16, 1.5352046587025258e-16, 1.5352046587025258e-16, 2.1024362581275385e-17, 2.1024362581275385e-17, -9.218691281970568e-17, -9.218691281970568e-17, -2.6431579175375846e-17, -2.6431579175375846e-17, -1.289986402361849e-16, 1.0797828991036967e-16, 1.0797828991036967e-16, -1.307701349248693e-16, -1.307701349248693e-16, -1.211561226506337e-16, -1.211561226506337e-16, 8.473430298803266e-17, 8.473430298803266e-17, -7.542929386305807e-17, -7.542929386305807e-17, 1.096396439985811e-16, 1.096396439985811e-16, 1.158024065084594e-16, 1.1324408691142368e-16, 1.1324408691142368e-16, 4.863768335143136e-17, 4.863768335143136e-17, -8.720056437424912e-17, -8.720056437424912e-17, -3.502445600631027e-18, -3.502445600631027e-18, 7.315079665259724e-17, 7.315079665259724e-17, -4.811879565499699e-17, -4.811879565499699e-17, 7.761382920999883e-17, 7.761382920999883e-17, -7.237938242967722e-17, -7.237938242967722e-17, 1.1297698880176039e-17, 1.1297698880176039e-17, -6.618036572383386e-17, 3.385562965782809e-17, 3.385562965782809e-17, -7.587487502493783e-18, -7.587487502493783e-18, 5.611063137280145e-17, -4.7916165487222606e-17, 1.3799791928679782e-17, 1.3799791928679782e-17, 2.431978206181185e-17, 2.431978206181185e-17, -3.28996056835233e-17, -3.28996056835233e-17, 2.940509954890032e-17, -7.86808696394059e-18, -7.86808696394059e-18, 8.779230387123381e-18, 2.358035281670107e-18, 2.358035281670107e-18, -4.008293409939162e-18, -4.008293409939162e-18, 3.943146355727103e-18, -2.4839252175307243e-18, -2.4839252175307243e-18, 2.4027443173614955e-18, 8.24249311235887e-19, 8.24249311235887e-19, -9.713488289692565e-19, -9.713488289692565e-19, 7.275926376046917e-19, -3.0429623393440245e-32, 2.337237902786748e-32, -3.051146582792418e-33, -3.051146582792418e-33]\n"
          ]
        }
      ]
    },
    {
      "cell_type": "code",
      "source": [
        "cumulative_variance_explained = np.cumsum(variance_explained)"
      ],
      "metadata": {
        "id": "6paF0Sx6CxgR"
      },
      "execution_count": 135,
      "outputs": []
    },
    {
      "cell_type": "code",
      "source": [
        "plt.title(\"Explained variance vs Number of components\")\n",
        "\n",
        "plt.xlabel(\"Number of components\")\n",
        "plt.ylabel(\"Cumulative explained variance\")\n",
        "plt.grid(color='gray', linewidth=.4)\n",
        "\n",
        "plt.plot(range(len(cumulative_variance_explained)), cumulative_variance_explained)\n",
        "\n",
        "plt.show()\n",
        "#plt.savefig('Explained variance.png')"
      ],
      "metadata": {
        "colab": {
          "base_uri": "https://localhost:8080/",
          "height": 295
        },
        "id": "JiCZn04JC6O2",
        "outputId": "bf2af60a-88ab-4bf7-d1af-4afa847a4a65"
      },
      "execution_count": 136,
      "outputs": [
        {
          "output_type": "display_data",
          "data": {
            "text/plain": [
              "<Figure size 432x288 with 1 Axes>"
            ],
            "image/png": "[encoded data removed]"
          },
          "metadata": {
            "needs_background": "light"
          }
        }
      ]
    },
    {
      "cell_type": "code",
      "source": [
        "K = 400\n",
        "print('Principal components:', K)\n",
        "print('Discarded components:', columns-K)"
      ],
      "metadata": {
        "colab": {
          "base_uri": "https://localhost:8080/"
        },
        "id": "1uJyQPrCJIhN",
        "outputId": "8da93713-dc72-4f20-c7e8-a174aeabc971"
      },
      "execution_count": 137,
      "outputs": [
        {
          "output_type": "stream",
          "name": "stdout",
          "text": [
            "Principal components: 400\n",
            "Discarded components: 293\n"
          ]
        }
      ]
    },
    {
      "cell_type": "code",
      "source": [
        "plt.title(\"Explained variance vs first \" + str(K) + \" components\")\n",
        "\n",
        "plt.xlabel(\"Number of components\")\n",
        "plt.ylabel(\"Cumulative explained variance\")\n",
        "plt.grid(color='gray', linewidth=.4)\n",
        "\n",
        "plt.plot(range(K), cumulative_variance_explained[:K])\n",
        "\n",
        "plt.show()\n",
        "#plt.savefig('Explained variance.png')"
      ],
      "metadata": {
        "colab": {
          "base_uri": "https://localhost:8080/",
          "height": 295
        },
        "id": "fgyo-1SwEgmK",
        "outputId": "ffb79f1e-51d1-4f72-8d60-61c9cea73ecb"
      },
      "execution_count": 138,
      "outputs": [
        {
          "output_type": "display_data",
          "data": {
            "text/plain": [
              "<Figure size 432x288 with 1 Axes>"
            ],
            "image/png": "[encoded data removed]"
          },
          "metadata": {
            "needs_background": "light"
          }
        }
      ]
    },
    {
      "cell_type": "code",
      "source": [
        "# Project using first K components\n",
        "\n",
        "projection_matrix = np.real((eigen_vectors.T[:][:K]).T)\n",
        "print(projection_matrix.shape)\n",
        "\n",
        "np.save('projection_matrix', projection_matrix)"
      ],
      "metadata": {
        "colab": {
          "base_uri": "https://localhost:8080/"
        },
        "id": "uOq8n7vDGbBg",
        "outputId": "594c234d-211b-49f1-ee23-bb2b71d73aa4"
      },
      "execution_count": 139,
      "outputs": [
        {
          "output_type": "stream",
          "name": "stdout",
          "text": [
            "(693, 400)\n"
          ]
        }
      ]
    },
    {
      "cell_type": "code",
      "source": [
        "# project matrices\n",
        "X_train = stdX.dot(projection_matrix)\n",
        "X_val = stdX_val.dot(projection_matrix)\n",
        "X_test = stdX_test.dot(projection_matrix)"
      ],
      "metadata": {
        "id": "IMfOPt8wdwIb"
      },
      "execution_count": 140,
      "outputs": []
    },
    {
      "cell_type": "markdown",
      "source": [
        "## Neural Network"
      ],
      "metadata": {
        "id": "hD7cgwErK-at"
      }
    },
    {
      "cell_type": "code",
      "source": [
        "from tensorflow.keras import regularizers\n",
        "\n",
        "class neural_network:\n",
        "    def __init__(self):\n",
        "        input = tensorflow.keras.Input(shape=(K,))\n",
        "        \n",
        "        dense = tensorflow.keras.layers.Dense(units=10, \n",
        "                                                activation='sigmoid',\n",
        "                                                kernel_regularizer=regularizers.L1L2(l1=1e-3, l2=1e-3),\n",
        "                                                bias_regularizer=regularizers.L2(1e-3),\n",
        "                                                activity_regularizer=regularizers.L2(1e-3))(input)\n",
        "        #norm = tensorflow.keras.layers.BatchNormalization()(dense)\n",
        "        #drop = tensorflow.keras.layers.Dropout(.1)(dense)\n",
        "        #dense = tensorflow.keras.layers.Dense(10, activation='sigmoid')(drop)\n",
        "        output = tensorflow.keras.layers.Dense(1, activation='sigmoid')(dense)\n",
        "\n",
        "        model = tensorflow.keras.models.Model(inputs=input, outputs=output)\n",
        "        model.compile(optimizer=tensorflow.keras.optimizers.Adam(learning_rate=0.0005), loss='binary_crossentropy', metrics='accuracy')\n",
        "        self.model = model"
      ],
      "metadata": {
        "id": "Mm5Ub0lgNion"
      },
      "execution_count": 141,
      "outputs": []
    },
    {
      "cell_type": "code",
      "source": [
        "nn = neural_network()"
      ],
      "metadata": {
        "id": "_8WMTxwXOCN4"
      },
      "execution_count": 142,
      "outputs": []
    },
    {
      "cell_type": "code",
      "source": [
        "nn.model.summary()"
      ],
      "metadata": {
        "colab": {
          "base_uri": "https://localhost:8080/"
        },
        "id": "fb8toDqPppYe",
        "outputId": "2281916e-ac76-4d64-a966-08e0bf3aca78"
      },
      "execution_count": 143,
      "outputs": [
        {
          "output_type": "stream",
          "name": "stdout",
          "text": [
            "Model: \"model_7\"\n",
            "_________________________________________________________________\n",
            " Layer (type)                Output Shape              Param #   \n",
            "=================================================================\n",
            " input_8 (InputLayer)        [(None, 400)]             0         \n",
            "                                                                 \n",
            " dense_14 (Dense)            (None, 10)                4010      \n",
            "                                                                 \n",
            " dense_15 (Dense)            (None, 1)                 11        \n",
            "                                                                 \n",
            "=================================================================\n",
            "Total params: 4,021\n",
            "Trainable params: 4,021\n",
            "Non-trainable params: 0\n",
            "_________________________________________________________________\n"
          ]
        }
      ]
    },
    {
      "cell_type": "code",
      "source": [
        "history = nn.model.fit(\n",
        "    x=X_train, \n",
        "    y=y_train,\n",
        "    batch_size=64,\n",
        "    epochs=1000,\n",
        "    verbose=1,\n",
        "    validation_data=(X_val, y_val),\n",
        "    shuffle=True,\n",
        "    callbacks=[tensorflow.keras.callbacks.EarlyStopping(\n",
        "    restore_best_weights=True,\n",
        "    patience=10\n",
        "        )]\n",
        ")"
      ],
      "metadata": {
        "id": "vkkGhIODODzx",
        "colab": {
          "base_uri": "https://localhost:8080/"
        },
        "outputId": "960ce50f-2e4b-41d6-ceb1-821503620ac6"
      },
      "execution_count": 144,
      "outputs": [
        {
          "output_type": "stream",
          "name": "stdout",
          "text": [
            "Epoch 1/1000\n",
            "58/58 [==============================] - 1s 6ms/step - loss: 0.9477 - accuracy: 0.5318 - val_loss: 0.8803 - val_accuracy: 0.6509\n",
            "Epoch 2/1000\n",
            "58/58 [==============================] - 0s 4ms/step - loss: 0.8190 - accuracy: 0.7400 - val_loss: 0.7641 - val_accuracy: 0.8033\n",
            "Epoch 3/1000\n",
            "58/58 [==============================] - 0s 4ms/step - loss: 0.7086 - accuracy: 0.8451 - val_loss: 0.6632 - val_accuracy: 0.8642\n",
            "Epoch 4/1000\n",
            "58/58 [==============================] - 0s 4ms/step - loss: 0.6139 - accuracy: 0.8898 - val_loss: 0.5780 - val_accuracy: 0.8912\n",
            "Epoch 5/1000\n",
            "58/58 [==============================] - 0s 3ms/step - loss: 0.5348 - accuracy: 0.9076 - val_loss: 0.5070 - val_accuracy: 0.9041\n",
            "Epoch 6/1000\n",
            "58/58 [==============================] - 0s 3ms/step - loss: 0.4713 - accuracy: 0.9162 - val_loss: 0.4512 - val_accuracy: 0.9138\n",
            "Epoch 7/1000\n",
            "58/58 [==============================] - 0s 3ms/step - loss: 0.4221 - accuracy: 0.9238 - val_loss: 0.4080 - val_accuracy: 0.9170\n",
            "Epoch 8/1000\n",
            "58/58 [==============================] - 0s 3ms/step - loss: 0.3842 - accuracy: 0.9267 - val_loss: 0.3751 - val_accuracy: 0.9208\n",
            "Epoch 9/1000\n",
            "58/58 [==============================] - 0s 3ms/step - loss: 0.3552 - accuracy: 0.9302 - val_loss: 0.3496 - val_accuracy: 0.9219\n",
            "Epoch 10/1000\n",
            "58/58 [==============================] - 0s 3ms/step - loss: 0.3328 - accuracy: 0.9321 - val_loss: 0.3302 - val_accuracy: 0.9235\n",
            "Epoch 11/1000\n",
            "58/58 [==============================] - 0s 3ms/step - loss: 0.3155 - accuracy: 0.9329 - val_loss: 0.3146 - val_accuracy: 0.9235\n",
            "Epoch 12/1000\n",
            "58/58 [==============================] - 0s 3ms/step - loss: 0.3018 - accuracy: 0.9356 - val_loss: 0.3026 - val_accuracy: 0.9246\n",
            "Epoch 13/1000\n",
            "58/58 [==============================] - 0s 3ms/step - loss: 0.2907 - accuracy: 0.9343 - val_loss: 0.2931 - val_accuracy: 0.9246\n",
            "Epoch 14/1000\n",
            "58/58 [==============================] - 0s 3ms/step - loss: 0.2818 - accuracy: 0.9348 - val_loss: 0.2855 - val_accuracy: 0.9267\n",
            "Epoch 15/1000\n",
            "58/58 [==============================] - 0s 3ms/step - loss: 0.2743 - accuracy: 0.9351 - val_loss: 0.2787 - val_accuracy: 0.9289\n",
            "Epoch 16/1000\n",
            "58/58 [==============================] - 0s 4ms/step - loss: 0.2678 - accuracy: 0.9351 - val_loss: 0.2733 - val_accuracy: 0.9294\n",
            "Epoch 17/1000\n",
            "58/58 [==============================] - 0s 4ms/step - loss: 0.2625 - accuracy: 0.9362 - val_loss: 0.2686 - val_accuracy: 0.9289\n",
            "Epoch 18/1000\n",
            "58/58 [==============================] - 0s 3ms/step - loss: 0.2576 - accuracy: 0.9362 - val_loss: 0.2647 - val_accuracy: 0.9289\n",
            "Epoch 19/1000\n",
            "58/58 [==============================] - 0s 3ms/step - loss: 0.2537 - accuracy: 0.9383 - val_loss: 0.2614 - val_accuracy: 0.9283\n",
            "Epoch 20/1000\n",
            "58/58 [==============================] - 0s 3ms/step - loss: 0.2499 - accuracy: 0.9364 - val_loss: 0.2584 - val_accuracy: 0.9289\n",
            "Epoch 21/1000\n",
            "58/58 [==============================] - 0s 4ms/step - loss: 0.2465 - accuracy: 0.9362 - val_loss: 0.2562 - val_accuracy: 0.9273\n",
            "Epoch 22/1000\n",
            "58/58 [==============================] - 0s 3ms/step - loss: 0.2438 - accuracy: 0.9375 - val_loss: 0.2546 - val_accuracy: 0.9294\n",
            "Epoch 23/1000\n",
            "58/58 [==============================] - 0s 4ms/step - loss: 0.2413 - accuracy: 0.9380 - val_loss: 0.2523 - val_accuracy: 0.9283\n",
            "Epoch 24/1000\n",
            "58/58 [==============================] - 0s 4ms/step - loss: 0.2391 - accuracy: 0.9372 - val_loss: 0.2507 - val_accuracy: 0.9278\n",
            "Epoch 25/1000\n",
            "58/58 [==============================] - 0s 3ms/step - loss: 0.2370 - accuracy: 0.9386 - val_loss: 0.2491 - val_accuracy: 0.9273\n",
            "Epoch 26/1000\n",
            "58/58 [==============================] - 0s 3ms/step - loss: 0.2351 - accuracy: 0.9378 - val_loss: 0.2479 - val_accuracy: 0.9273\n",
            "Epoch 27/1000\n",
            "58/58 [==============================] - 0s 3ms/step - loss: 0.2335 - accuracy: 0.9380 - val_loss: 0.2470 - val_accuracy: 0.9262\n",
            "Epoch 28/1000\n",
            "58/58 [==============================] - 0s 4ms/step - loss: 0.2318 - accuracy: 0.9378 - val_loss: 0.2459 - val_accuracy: 0.9267\n",
            "Epoch 29/1000\n",
            "58/58 [==============================] - 0s 3ms/step - loss: 0.2304 - accuracy: 0.9391 - val_loss: 0.2452 - val_accuracy: 0.9278\n",
            "Epoch 30/1000\n",
            "58/58 [==============================] - 0s 3ms/step - loss: 0.2290 - accuracy: 0.9388 - val_loss: 0.2447 - val_accuracy: 0.9278\n",
            "Epoch 31/1000\n",
            "58/58 [==============================] - 0s 3ms/step - loss: 0.2280 - accuracy: 0.9383 - val_loss: 0.2441 - val_accuracy: 0.9283\n",
            "Epoch 32/1000\n",
            "58/58 [==============================] - 0s 3ms/step - loss: 0.2269 - accuracy: 0.9397 - val_loss: 0.2436 - val_accuracy: 0.9294\n",
            "Epoch 33/1000\n",
            "58/58 [==============================] - 0s 3ms/step - loss: 0.2257 - accuracy: 0.9386 - val_loss: 0.2428 - val_accuracy: 0.9300\n",
            "Epoch 34/1000\n",
            "58/58 [==============================] - 0s 3ms/step - loss: 0.2247 - accuracy: 0.9394 - val_loss: 0.2427 - val_accuracy: 0.9294\n",
            "Epoch 35/1000\n",
            "58/58 [==============================] - 0s 3ms/step - loss: 0.2237 - accuracy: 0.9397 - val_loss: 0.2424 - val_accuracy: 0.9300\n",
            "Epoch 36/1000\n",
            "58/58 [==============================] - 0s 3ms/step - loss: 0.2229 - accuracy: 0.9410 - val_loss: 0.2420 - val_accuracy: 0.9327\n",
            "Epoch 37/1000\n",
            "58/58 [==============================] - 0s 3ms/step - loss: 0.2221 - accuracy: 0.9402 - val_loss: 0.2419 - val_accuracy: 0.9294\n",
            "Epoch 38/1000\n",
            "58/58 [==============================] - 0s 4ms/step - loss: 0.2213 - accuracy: 0.9410 - val_loss: 0.2417 - val_accuracy: 0.9310\n",
            "Epoch 39/1000\n",
            "58/58 [==============================] - 0s 3ms/step - loss: 0.2205 - accuracy: 0.9407 - val_loss: 0.2420 - val_accuracy: 0.9289\n",
            "Epoch 40/1000\n",
            "58/58 [==============================] - 0s 3ms/step - loss: 0.2196 - accuracy: 0.9405 - val_loss: 0.2413 - val_accuracy: 0.9305\n",
            "Epoch 41/1000\n",
            "58/58 [==============================] - 0s 3ms/step - loss: 0.2190 - accuracy: 0.9410 - val_loss: 0.2410 - val_accuracy: 0.9289\n",
            "Epoch 42/1000\n",
            "58/58 [==============================] - 0s 3ms/step - loss: 0.2182 - accuracy: 0.9399 - val_loss: 0.2408 - val_accuracy: 0.9283\n",
            "Epoch 43/1000\n",
            "58/58 [==============================] - 0s 3ms/step - loss: 0.2175 - accuracy: 0.9402 - val_loss: 0.2411 - val_accuracy: 0.9300\n",
            "Epoch 44/1000\n",
            "58/58 [==============================] - 0s 4ms/step - loss: 0.2170 - accuracy: 0.9399 - val_loss: 0.2409 - val_accuracy: 0.9305\n",
            "Epoch 45/1000\n",
            "58/58 [==============================] - 0s 3ms/step - loss: 0.2160 - accuracy: 0.9405 - val_loss: 0.2408 - val_accuracy: 0.9305\n",
            "Epoch 46/1000\n",
            "58/58 [==============================] - 0s 3ms/step - loss: 0.2156 - accuracy: 0.9415 - val_loss: 0.2405 - val_accuracy: 0.9294\n",
            "Epoch 47/1000\n",
            "58/58 [==============================] - 0s 3ms/step - loss: 0.2151 - accuracy: 0.9402 - val_loss: 0.2408 - val_accuracy: 0.9294\n",
            "Epoch 48/1000\n",
            "58/58 [==============================] - 0s 3ms/step - loss: 0.2142 - accuracy: 0.9421 - val_loss: 0.2403 - val_accuracy: 0.9300\n",
            "Epoch 49/1000\n",
            "58/58 [==============================] - 0s 3ms/step - loss: 0.2139 - accuracy: 0.9410 - val_loss: 0.2404 - val_accuracy: 0.9278\n",
            "Epoch 50/1000\n",
            "58/58 [==============================] - 0s 3ms/step - loss: 0.2132 - accuracy: 0.9399 - val_loss: 0.2399 - val_accuracy: 0.9294\n",
            "Epoch 51/1000\n",
            "58/58 [==============================] - 0s 3ms/step - loss: 0.2129 - accuracy: 0.9418 - val_loss: 0.2405 - val_accuracy: 0.9294\n",
            "Epoch 52/1000\n",
            "58/58 [==============================] - 0s 3ms/step - loss: 0.2124 - accuracy: 0.9421 - val_loss: 0.2403 - val_accuracy: 0.9294\n",
            "Epoch 53/1000\n",
            "58/58 [==============================] - 0s 3ms/step - loss: 0.2118 - accuracy: 0.9402 - val_loss: 0.2404 - val_accuracy: 0.9294\n",
            "Epoch 54/1000\n",
            "58/58 [==============================] - 0s 3ms/step - loss: 0.2111 - accuracy: 0.9418 - val_loss: 0.2399 - val_accuracy: 0.9321\n",
            "Epoch 55/1000\n",
            "58/58 [==============================] - 0s 3ms/step - loss: 0.2110 - accuracy: 0.9423 - val_loss: 0.2400 - val_accuracy: 0.9316\n",
            "Epoch 56/1000\n",
            "58/58 [==============================] - 0s 3ms/step - loss: 0.2103 - accuracy: 0.9423 - val_loss: 0.2399 - val_accuracy: 0.9316\n",
            "Epoch 57/1000\n",
            "58/58 [==============================] - 0s 3ms/step - loss: 0.2098 - accuracy: 0.9432 - val_loss: 0.2396 - val_accuracy: 0.9305\n",
            "Epoch 58/1000\n",
            "58/58 [==============================] - 0s 3ms/step - loss: 0.2094 - accuracy: 0.9432 - val_loss: 0.2396 - val_accuracy: 0.9294\n",
            "Epoch 59/1000\n",
            "58/58 [==============================] - 0s 3ms/step - loss: 0.2088 - accuracy: 0.9426 - val_loss: 0.2398 - val_accuracy: 0.9310\n",
            "Epoch 60/1000\n",
            "58/58 [==============================] - 0s 4ms/step - loss: 0.2082 - accuracy: 0.9437 - val_loss: 0.2402 - val_accuracy: 0.9321\n",
            "Epoch 61/1000\n",
            "58/58 [==============================] - 0s 3ms/step - loss: 0.2079 - accuracy: 0.9437 - val_loss: 0.2395 - val_accuracy: 0.9310\n",
            "Epoch 62/1000\n",
            "58/58 [==============================] - 0s 3ms/step - loss: 0.2078 - accuracy: 0.9429 - val_loss: 0.2400 - val_accuracy: 0.9310\n",
            "Epoch 63/1000\n",
            "58/58 [==============================] - 0s 3ms/step - loss: 0.2071 - accuracy: 0.9448 - val_loss: 0.2398 - val_accuracy: 0.9310\n",
            "Epoch 64/1000\n",
            "58/58 [==============================] - 0s 4ms/step - loss: 0.2066 - accuracy: 0.9453 - val_loss: 0.2397 - val_accuracy: 0.9310\n",
            "Epoch 65/1000\n",
            "58/58 [==============================] - 0s 4ms/step - loss: 0.2065 - accuracy: 0.9450 - val_loss: 0.2397 - val_accuracy: 0.9316\n",
            "Epoch 66/1000\n",
            "58/58 [==============================] - 0s 3ms/step - loss: 0.2056 - accuracy: 0.9445 - val_loss: 0.2393 - val_accuracy: 0.9310\n",
            "Epoch 67/1000\n",
            "58/58 [==============================] - 0s 3ms/step - loss: 0.2053 - accuracy: 0.9450 - val_loss: 0.2394 - val_accuracy: 0.9316\n",
            "Epoch 68/1000\n",
            "58/58 [==============================] - 0s 3ms/step - loss: 0.2050 - accuracy: 0.9445 - val_loss: 0.2395 - val_accuracy: 0.9321\n",
            "Epoch 69/1000\n",
            "58/58 [==============================] - 0s 3ms/step - loss: 0.2047 - accuracy: 0.9467 - val_loss: 0.2396 - val_accuracy: 0.9316\n",
            "Epoch 70/1000\n",
            "58/58 [==============================] - 0s 3ms/step - loss: 0.2041 - accuracy: 0.9456 - val_loss: 0.2391 - val_accuracy: 0.9310\n",
            "Epoch 71/1000\n",
            "58/58 [==============================] - 0s 3ms/step - loss: 0.2038 - accuracy: 0.9461 - val_loss: 0.2386 - val_accuracy: 0.9310\n",
            "Epoch 72/1000\n",
            "58/58 [==============================] - 0s 3ms/step - loss: 0.2033 - accuracy: 0.9469 - val_loss: 0.2391 - val_accuracy: 0.9321\n",
            "Epoch 73/1000\n",
            "58/58 [==============================] - 0s 3ms/step - loss: 0.2029 - accuracy: 0.9459 - val_loss: 0.2392 - val_accuracy: 0.9305\n",
            "Epoch 74/1000\n",
            "58/58 [==============================] - 0s 3ms/step - loss: 0.2024 - accuracy: 0.9450 - val_loss: 0.2392 - val_accuracy: 0.9321\n",
            "Epoch 75/1000\n",
            "58/58 [==============================] - 0s 3ms/step - loss: 0.2023 - accuracy: 0.9472 - val_loss: 0.2392 - val_accuracy: 0.9321\n",
            "Epoch 76/1000\n",
            "58/58 [==============================] - 0s 3ms/step - loss: 0.2017 - accuracy: 0.9461 - val_loss: 0.2393 - val_accuracy: 0.9321\n",
            "Epoch 77/1000\n",
            "58/58 [==============================] - 0s 3ms/step - loss: 0.2013 - accuracy: 0.9480 - val_loss: 0.2394 - val_accuracy: 0.9321\n",
            "Epoch 78/1000\n",
            "58/58 [==============================] - 0s 3ms/step - loss: 0.2008 - accuracy: 0.9472 - val_loss: 0.2392 - val_accuracy: 0.9316\n",
            "Epoch 79/1000\n",
            "58/58 [==============================] - 0s 3ms/step - loss: 0.2003 - accuracy: 0.9480 - val_loss: 0.2392 - val_accuracy: 0.9327\n",
            "Epoch 80/1000\n",
            "58/58 [==============================] - 0s 4ms/step - loss: 0.2001 - accuracy: 0.9477 - val_loss: 0.2389 - val_accuracy: 0.9327\n",
            "Epoch 81/1000\n",
            "58/58 [==============================] - 0s 3ms/step - loss: 0.1997 - accuracy: 0.9491 - val_loss: 0.2388 - val_accuracy: 0.9327\n"
          ]
        }
      ]
    },
    {
      "cell_type": "code",
      "source": [
        "plt.title('Accuracy during training')\n",
        "plt.plot(range(len(history.history['loss'])), history.history['accuracy'], label='training accuracy', color='green')\n",
        "plt.plot(range(len(history.history['loss'])), history.history['val_accuracy'], label='validation accuracy', color='red')\n",
        "plt.grid(color='gray', linewidth=.4)\n",
        "\n",
        "plt.legend(loc=\"lower right\")\n",
        "plt.xlabel(\"epochs\")\n",
        "plt.ylabel(\"accuracy\")\n",
        "plt.xlim(0, len(history.history['loss'])+1)\n",
        "plt.ylim(.45, 1.)\n",
        "plt.savefig('acc.png')"
      ],
      "metadata": {
        "colab": {
          "base_uri": "https://localhost:8080/",
          "height": 295
        },
        "id": "URc7l45nOVed",
        "outputId": "981ceb0b-57a9-43f2-8d35-86db5f183088"
      },
      "execution_count": 145,
      "outputs": [
        {
          "output_type": "display_data",
          "data": {
            "text/plain": [
              "<Figure size 432x288 with 1 Axes>"
            ],
            "image/png": "[encoded data removed]"
          },
          "metadata": {
            "needs_background": "light"
          }
        }
      ]
    },
    {
      "cell_type": "code",
      "source": [
        "plt.title('Loss during training')\n",
        "plt.plot(range(len(history.history['loss'])), history.history['loss'], label='training loss', color='green')\n",
        "plt.plot(range(len(history.history['loss'])), history.history['val_loss'], label='validation loss', color='red')\n",
        "plt.grid(color='gray', linewidth=.4)\n",
        "\n",
        "plt.legend(loc=\"upper right\")\n",
        "plt.xlabel(\"epochs\")\n",
        "plt.ylabel(\"loss\")\n",
        "plt.savefig('loss.png')"
      ],
      "metadata": {
        "colab": {
          "base_uri": "https://localhost:8080/",
          "height": 295
        },
        "id": "GdzD2gX3o2ex",
        "outputId": "54a1934c-7039-46b1-f455-da2a247b5352"
      },
      "execution_count": 146,
      "outputs": [
        {
          "output_type": "display_data",
          "data": {
            "text/plain": [
              "<Figure size 432x288 with 1 Axes>"
            ],
            "image/png": "[encoded data removed]"
          },
          "metadata": {
            "needs_background": "light"
          }
        }
      ]
    },
    {
      "cell_type": "code",
      "source": [
        "nn.model.evaluate(x=X_test, y=y_test)"
      ],
      "metadata": {
        "colab": {
          "base_uri": "https://localhost:8080/"
        },
        "id": "_URwnk59O6gZ",
        "outputId": "9f340020-ff2f-4114-946e-29b5cfe68e56"
      },
      "execution_count": 147,
      "outputs": [
        {
          "output_type": "stream",
          "name": "stdout",
          "text": [
            "58/58 [==============================] - 0s 2ms/step - loss: 0.2290 - accuracy: 0.9391\n"
          ]
        },
        {
          "output_type": "execute_result",
          "data": {
            "text/plain": [
              "[0.22902756929397583, 0.939116358757019]"
            ]
          },
          "metadata": {},
          "execution_count": 147
        }
      ]
    },
    {
      "cell_type": "code",
      "source": [
        "nn.model.save('ac.h5')"
      ],
      "metadata": {
        "id": "9BvSjCRgfBeZ"
      },
      "execution_count": 148,
      "outputs": []
    },
    {
      "cell_type": "code",
      "source": [
        "# I think we can obtain the same results without using a nn"
      ],
      "metadata": {
        "id": "lqHcU5SdfL3J"
      },
      "execution_count": null,
      "outputs": []
    },
    {
      "cell_type": "code",
      "source": [],
      "metadata": {
        "id": "z0AHU7uVjUYY"
      },
      "execution_count": null,
      "outputs": []
    }
  ]
}