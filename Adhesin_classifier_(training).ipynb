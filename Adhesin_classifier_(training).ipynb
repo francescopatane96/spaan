{
  "nbformat": 4,
  "nbformat_minor": 0,
  "metadata": {
    "colab": {
      "name": "Adhesin classifier (training).ipynb",
      "provenance": [],
      "collapsed_sections": []
    },
    "kernelspec": {
      "name": "python3",
      "display_name": "Python 3"
    },
    "language_info": {
      "name": "python"
    }
  },
  "cells": [
    {
      "cell_type": "markdown",
      "metadata": {
        "id": "6JeMq2cjYnv3"
      },
      "source": [
        "# Adhesin classifier (training)"
      ]
    },
    {
      "cell_type": "code",
      "metadata": {
        "colab": {
          "base_uri": "https://localhost:8080/"
        },
        "id": "irL-4xG6Yo5b",
        "outputId": "f6ce7e35-9e08-42a1-e97b-b4c32682ba11"
      },
      "source": [
        "!rm -r spaan\n",
        "!git clone https://github.com/nicolagulmini/spaan\n",
        "!pip install Bio"
      ],
      "execution_count": null,
      "outputs": [
        {
          "output_type": "stream",
          "name": "stdout",
          "text": [
            "Cloning into 'spaan'...\n",
            "remote: Enumerating objects: 273, done.\u001b[K\n",
            "remote: Counting objects: 100% (24/24), done.\u001b[K\n",
            "remote: Compressing objects: 100% (19/19), done.\u001b[K\n",
            "remote: Total 273 (delta 6), reused 22 (delta 5), pack-reused 249\u001b[K\n",
            "Receiving objects: 100% (273/273), 14.15 MiB | 25.69 MiB/s, done.\n",
            "Resolving deltas: 100% (144/144), done.\n",
            "Requirement already satisfied: Bio in /usr/local/lib/python3.7/dist-packages (1.3.8)\n",
            "Requirement already satisfied: requests in /usr/local/lib/python3.7/dist-packages (from Bio) (2.23.0)\n",
            "Requirement already satisfied: biopython>=1.79 in /usr/local/lib/python3.7/dist-packages (from Bio) (1.79)\n",
            "Requirement already satisfied: mygene in /usr/local/lib/python3.7/dist-packages (from Bio) (3.2.2)\n",
            "Requirement already satisfied: tqdm in /usr/local/lib/python3.7/dist-packages (from Bio) (4.64.0)\n",
            "Requirement already satisfied: numpy in /usr/local/lib/python3.7/dist-packages (from biopython>=1.79->Bio) (1.21.6)\n",
            "Requirement already satisfied: biothings-client>=0.2.6 in /usr/local/lib/python3.7/dist-packages (from mygene->Bio) (0.2.6)\n",
            "Requirement already satisfied: idna<3,>=2.5 in /usr/local/lib/python3.7/dist-packages (from requests->Bio) (2.10)\n",
            "Requirement already satisfied: certifi>=2017.4.17 in /usr/local/lib/python3.7/dist-packages (from requests->Bio) (2021.10.8)\n",
            "Requirement already satisfied: urllib3!=1.25.0,!=1.25.1,<1.26,>=1.21.1 in /usr/local/lib/python3.7/dist-packages (from requests->Bio) (1.24.3)\n",
            "Requirement already satisfied: chardet<4,>=3.0.2 in /usr/local/lib/python3.7/dist-packages (from requests->Bio) (3.0.4)\n"
          ]
        }
      ]
    },
    {
      "cell_type": "code",
      "metadata": {
        "id": "2GLTq6fZZDyN"
      },
      "source": [
        "from spaan.data_processing import *\n",
        "from spaan.Expanded_SPAAN_Model import *\n",
        "from Bio import SeqIO\n",
        "import numpy as np\n",
        "import tensorflow"
      ],
      "execution_count": null,
      "outputs": []
    },
    {
      "cell_type": "code",
      "metadata": {
        "id": "83LHf-j6HfFh"
      },
      "source": [
        "# load the datasets (it requires about 1 minute)\n",
        "x, y = process(list(SeqIO.parse(\"spaan/data/original_adh_dataset.fasta\", \"fasta\")), list(SeqIO.parse(\"spaan/data/original_negative_dataset.fasta\", \"fasta\")))"
      ],
      "execution_count": null,
      "outputs": []
    },
    {
      "cell_type": "code",
      "metadata": {
        "colab": {
          "base_uri": "https://localhost:8080/"
        },
        "id": "_S4rkW8NH0N-",
        "outputId": "3fb74c44-5279-4f44-b6b0-758ce533abf3"
      },
      "source": [
        "x_train, y_train, x_val, y_val, x_test, y_test = split_ds(np.array(x), np.array(y), np.random.permutation(len(x)))\n",
        "# fix the warning of the nested lists!"
      ],
      "execution_count": null,
      "outputs": [
        {
          "output_type": "stream",
          "name": "stderr",
          "text": [
            "/usr/local/lib/python3.7/dist-packages/ipykernel_launcher.py:1: VisibleDeprecationWarning: Creating an ndarray from ragged nested sequences (which is a list-or-tuple of lists-or-tuples-or ndarrays with different lengths or shapes) is deprecated. If you meant to do this, you must specify 'dtype=object' when creating the ndarray.\n",
            "  \"\"\"Entry point for launching an IPython kernel.\n"
          ]
        }
      ]
    },
    {
      "cell_type": "code",
      "metadata": {
        "id": "Fak6uDwTqllE"
      },
      "source": [
        "# method for fitting in the multi-input neural network\n",
        "def fit_in_nn(x):\n",
        "    x_1, x_2, x_3, x_4, x_5, x_6, x_7 = [[] for _ in range(7)]\n",
        "    for el in x:\n",
        "        x_1.append(el[0])\n",
        "        x_2.append(el[1])\n",
        "        x_3.append(el[2])\n",
        "        x_4.append(el[3])\n",
        "        x_5.append(el[4])\n",
        "        x_6.append(el[5])\n",
        "        x_7.append(el[6])\n",
        "    return np.array(x_1), np.array(x_2), np.array(x_3), np.array(x_4), np.array(x_5), np.array(x_6), np.array(x_7)"
      ],
      "execution_count": null,
      "outputs": []
    },
    {
      "cell_type": "code",
      "metadata": {
        "id": "rldzmDWVjMOP"
      },
      "source": [
        "# model instantiation\n",
        "espaan_model = Expanded_SPAAN_Model()\n",
        "max_epochs = 300"
      ],
      "execution_count": null,
      "outputs": []
    },
    {
      "cell_type": "code",
      "metadata": {
        "id": "zTmUHIuUmOr5",
        "colab": {
          "base_uri": "https://localhost:8080/"
        },
        "outputId": "f4b965cd-d3f3-4c8e-c917-17d3440d73dc"
      },
      "source": [
        "my_callbacks = [\n",
        "    tensorflow.keras.callbacks.EarlyStopping(patience=10)\n",
        "]\n",
        "\n",
        "history = espaan_model.get_model().fit(\n",
        "                                        x=fit_in_nn(x_train),\n",
        "                                        y=y_train,\n",
        "                                        batch_size=32, # default\n",
        "                                        epochs=max_epochs, # the original paper has 10k epochs!\n",
        "                                        verbose=1, # 1 or 2 to watch the evolution\n",
        "                                        validation_data=(fit_in_nn(x_val), y_val),\n",
        "                                        callbacks=my_callbacks,\n",
        "                                        shuffle=True    \n",
        "                                        )"
      ],
      "execution_count": null,
      "outputs": [
        {
          "output_type": "stream",
          "name": "stdout",
          "text": [
            "Epoch 1/1000\n",
            "18/18 [==============================] - 3s 38ms/step - loss: 0.6673 - accuracy: 0.6221 - val_loss: 0.6702 - val_accuracy: 0.6085\n",
            "Epoch 2/1000\n",
            "18/18 [==============================] - 0s 17ms/step - loss: 0.6595 - accuracy: 0.6275 - val_loss: 0.6698 - val_accuracy: 0.6085\n",
            "Epoch 3/1000\n",
            "18/18 [==============================] - 0s 18ms/step - loss: 0.6663 - accuracy: 0.6221 - val_loss: 0.6693 - val_accuracy: 0.6085\n",
            "Epoch 4/1000\n",
            "18/18 [==============================] - 0s 19ms/step - loss: 0.6591 - accuracy: 0.6292 - val_loss: 0.6693 - val_accuracy: 0.6085\n",
            "Epoch 5/1000\n",
            "18/18 [==============================] - 0s 16ms/step - loss: 0.6577 - accuracy: 0.6346 - val_loss: 0.6707 - val_accuracy: 0.6085\n",
            "Epoch 6/1000\n",
            "18/18 [==============================] - 0s 19ms/step - loss: 0.6548 - accuracy: 0.6257 - val_loss: 0.6698 - val_accuracy: 0.6085\n",
            "Epoch 7/1000\n",
            "18/18 [==============================] - 0s 19ms/step - loss: 0.6624 - accuracy: 0.6292 - val_loss: 0.6685 - val_accuracy: 0.6085\n",
            "Epoch 8/1000\n",
            "18/18 [==============================] - 0s 20ms/step - loss: 0.6621 - accuracy: 0.6203 - val_loss: 0.6691 - val_accuracy: 0.6085\n",
            "Epoch 9/1000\n",
            "18/18 [==============================] - 0s 27ms/step - loss: 0.6523 - accuracy: 0.6364 - val_loss: 0.6691 - val_accuracy: 0.6085\n",
            "Epoch 10/1000\n",
            "18/18 [==============================] - 0s 21ms/step - loss: 0.6560 - accuracy: 0.6292 - val_loss: 0.6686 - val_accuracy: 0.6085\n",
            "Epoch 11/1000\n",
            "18/18 [==============================] - 0s 20ms/step - loss: 0.6633 - accuracy: 0.6275 - val_loss: 0.6682 - val_accuracy: 0.6085\n",
            "Epoch 12/1000\n",
            "18/18 [==============================] - 0s 24ms/step - loss: 0.6565 - accuracy: 0.6310 - val_loss: 0.6670 - val_accuracy: 0.6085\n",
            "Epoch 13/1000\n",
            "18/18 [==============================] - 0s 23ms/step - loss: 0.6574 - accuracy: 0.6310 - val_loss: 0.6671 - val_accuracy: 0.6085\n",
            "Epoch 14/1000\n",
            "18/18 [==============================] - 0s 22ms/step - loss: 0.6528 - accuracy: 0.6364 - val_loss: 0.6671 - val_accuracy: 0.6085\n",
            "Epoch 15/1000\n",
            "18/18 [==============================] - 0s 28ms/step - loss: 0.6617 - accuracy: 0.6310 - val_loss: 0.6668 - val_accuracy: 0.6085\n",
            "Epoch 16/1000\n",
            "18/18 [==============================] - 0s 27ms/step - loss: 0.6543 - accuracy: 0.6328 - val_loss: 0.6652 - val_accuracy: 0.6085\n",
            "Epoch 17/1000\n",
            "18/18 [==============================] - 0s 26ms/step - loss: 0.6532 - accuracy: 0.6328 - val_loss: 0.6650 - val_accuracy: 0.6085\n",
            "Epoch 18/1000\n",
            "18/18 [==============================] - 0s 27ms/step - loss: 0.6541 - accuracy: 0.6328 - val_loss: 0.6639 - val_accuracy: 0.6085\n",
            "Epoch 19/1000\n",
            "18/18 [==============================] - 0s 16ms/step - loss: 0.6549 - accuracy: 0.6328 - val_loss: 0.6629 - val_accuracy: 0.6085\n",
            "Epoch 20/1000\n",
            "18/18 [==============================] - 0s 22ms/step - loss: 0.6504 - accuracy: 0.6328 - val_loss: 0.6625 - val_accuracy: 0.6085\n",
            "Epoch 21/1000\n",
            "18/18 [==============================] - 0s 17ms/step - loss: 0.6497 - accuracy: 0.6346 - val_loss: 0.6607 - val_accuracy: 0.6085\n",
            "Epoch 22/1000\n",
            "18/18 [==============================] - 0s 20ms/step - loss: 0.6550 - accuracy: 0.6310 - val_loss: 0.6588 - val_accuracy: 0.6085\n",
            "Epoch 23/1000\n",
            "18/18 [==============================] - 0s 17ms/step - loss: 0.6512 - accuracy: 0.6328 - val_loss: 0.6576 - val_accuracy: 0.6085\n",
            "Epoch 24/1000\n",
            "18/18 [==============================] - 0s 23ms/step - loss: 0.6474 - accuracy: 0.6328 - val_loss: 0.6572 - val_accuracy: 0.6085\n",
            "Epoch 25/1000\n",
            "18/18 [==============================] - 0s 23ms/step - loss: 0.6471 - accuracy: 0.6328 - val_loss: 0.6549 - val_accuracy: 0.6085\n",
            "Epoch 26/1000\n",
            "18/18 [==============================] - 0s 23ms/step - loss: 0.6484 - accuracy: 0.6328 - val_loss: 0.6535 - val_accuracy: 0.6085\n",
            "Epoch 27/1000\n",
            "18/18 [==============================] - 1s 31ms/step - loss: 0.6461 - accuracy: 0.6328 - val_loss: 0.6520 - val_accuracy: 0.6085\n",
            "Epoch 28/1000\n",
            "18/18 [==============================] - 0s 20ms/step - loss: 0.6421 - accuracy: 0.6328 - val_loss: 0.6495 - val_accuracy: 0.6085\n",
            "Epoch 29/1000\n",
            "18/18 [==============================] - 0s 20ms/step - loss: 0.6414 - accuracy: 0.6328 - val_loss: 0.6471 - val_accuracy: 0.6085\n",
            "Epoch 30/1000\n",
            "18/18 [==============================] - 0s 19ms/step - loss: 0.6411 - accuracy: 0.6328 - val_loss: 0.6460 - val_accuracy: 0.6085\n",
            "Epoch 31/1000\n",
            "18/18 [==============================] - 0s 21ms/step - loss: 0.6446 - accuracy: 0.6328 - val_loss: 0.6431 - val_accuracy: 0.6085\n",
            "Epoch 32/1000\n",
            "18/18 [==============================] - 0s 15ms/step - loss: 0.6410 - accuracy: 0.6328 - val_loss: 0.6419 - val_accuracy: 0.6085\n",
            "Epoch 33/1000\n",
            "18/18 [==============================] - 0s 20ms/step - loss: 0.6362 - accuracy: 0.6328 - val_loss: 0.6388 - val_accuracy: 0.6085\n",
            "Epoch 34/1000\n",
            "18/18 [==============================] - 0s 23ms/step - loss: 0.6364 - accuracy: 0.6310 - val_loss: 0.6373 - val_accuracy: 0.6085\n",
            "Epoch 35/1000\n",
            "18/18 [==============================] - 0s 24ms/step - loss: 0.6310 - accuracy: 0.6364 - val_loss: 0.6344 - val_accuracy: 0.6085\n",
            "Epoch 36/1000\n",
            "18/18 [==============================] - 0s 19ms/step - loss: 0.6278 - accuracy: 0.6310 - val_loss: 0.6337 - val_accuracy: 0.6085\n",
            "Epoch 37/1000\n",
            "18/18 [==============================] - 0s 20ms/step - loss: 0.6313 - accuracy: 0.6328 - val_loss: 0.6313 - val_accuracy: 0.6085\n",
            "Epoch 38/1000\n",
            "18/18 [==============================] - 0s 21ms/step - loss: 0.6336 - accuracy: 0.6346 - val_loss: 0.6286 - val_accuracy: 0.6085\n",
            "Epoch 39/1000\n",
            "18/18 [==============================] - 0s 22ms/step - loss: 0.6342 - accuracy: 0.6346 - val_loss: 0.6260 - val_accuracy: 0.6085\n",
            "Epoch 40/1000\n",
            "18/18 [==============================] - 0s 13ms/step - loss: 0.6303 - accuracy: 0.6435 - val_loss: 0.6240 - val_accuracy: 0.6121\n",
            "Epoch 41/1000\n",
            "18/18 [==============================] - 0s 9ms/step - loss: 0.6301 - accuracy: 0.6328 - val_loss: 0.6234 - val_accuracy: 0.6085\n",
            "Epoch 42/1000\n",
            "18/18 [==============================] - 0s 10ms/step - loss: 0.6202 - accuracy: 0.6453 - val_loss: 0.6214 - val_accuracy: 0.6121\n",
            "Epoch 43/1000\n",
            "18/18 [==============================] - 0s 9ms/step - loss: 0.6217 - accuracy: 0.6488 - val_loss: 0.6196 - val_accuracy: 0.6263\n",
            "Epoch 44/1000\n",
            "18/18 [==============================] - 0s 12ms/step - loss: 0.6199 - accuracy: 0.6417 - val_loss: 0.6176 - val_accuracy: 0.6192\n",
            "Epoch 45/1000\n",
            "18/18 [==============================] - 0s 10ms/step - loss: 0.6239 - accuracy: 0.6471 - val_loss: 0.6165 - val_accuracy: 0.6157\n",
            "Epoch 46/1000\n",
            "18/18 [==============================] - 0s 10ms/step - loss: 0.6302 - accuracy: 0.6292 - val_loss: 0.6153 - val_accuracy: 0.6157\n",
            "Epoch 47/1000\n",
            "18/18 [==============================] - 0s 10ms/step - loss: 0.6170 - accuracy: 0.6560 - val_loss: 0.6150 - val_accuracy: 0.6121\n",
            "Epoch 48/1000\n",
            "18/18 [==============================] - 0s 11ms/step - loss: 0.6205 - accuracy: 0.6542 - val_loss: 0.6136 - val_accuracy: 0.6085\n",
            "Epoch 49/1000\n",
            "18/18 [==============================] - 0s 11ms/step - loss: 0.6223 - accuracy: 0.6524 - val_loss: 0.6130 - val_accuracy: 0.6085\n",
            "Epoch 50/1000\n",
            "18/18 [==============================] - 0s 11ms/step - loss: 0.6150 - accuracy: 0.6667 - val_loss: 0.6105 - val_accuracy: 0.6263\n",
            "Epoch 51/1000\n",
            "18/18 [==============================] - 0s 11ms/step - loss: 0.6183 - accuracy: 0.6506 - val_loss: 0.6123 - val_accuracy: 0.6121\n",
            "Epoch 52/1000\n",
            "18/18 [==============================] - 0s 10ms/step - loss: 0.6130 - accuracy: 0.6542 - val_loss: 0.6101 - val_accuracy: 0.6121\n",
            "Epoch 53/1000\n",
            "18/18 [==============================] - 0s 13ms/step - loss: 0.6174 - accuracy: 0.6702 - val_loss: 0.6075 - val_accuracy: 0.6477\n",
            "Epoch 54/1000\n",
            "18/18 [==============================] - 0s 11ms/step - loss: 0.6141 - accuracy: 0.6578 - val_loss: 0.6076 - val_accuracy: 0.6370\n",
            "Epoch 55/1000\n",
            "18/18 [==============================] - 0s 11ms/step - loss: 0.6159 - accuracy: 0.6471 - val_loss: 0.6071 - val_accuracy: 0.6406\n",
            "Epoch 56/1000\n",
            "18/18 [==============================] - 0s 10ms/step - loss: 0.6103 - accuracy: 0.6542 - val_loss: 0.6068 - val_accuracy: 0.6406\n",
            "Epoch 57/1000\n",
            "18/18 [==============================] - 0s 12ms/step - loss: 0.6163 - accuracy: 0.6631 - val_loss: 0.6056 - val_accuracy: 0.6477\n",
            "Epoch 58/1000\n",
            "18/18 [==============================] - 0s 13ms/step - loss: 0.6168 - accuracy: 0.6453 - val_loss: 0.6041 - val_accuracy: 0.6619\n",
            "Epoch 59/1000\n",
            "18/18 [==============================] - 0s 13ms/step - loss: 0.6099 - accuracy: 0.6631 - val_loss: 0.6036 - val_accuracy: 0.6584\n",
            "Epoch 60/1000\n",
            "18/18 [==============================] - 0s 11ms/step - loss: 0.6162 - accuracy: 0.6453 - val_loss: 0.6047 - val_accuracy: 0.6548\n",
            "Epoch 61/1000\n",
            "18/18 [==============================] - 0s 11ms/step - loss: 0.6153 - accuracy: 0.6381 - val_loss: 0.6031 - val_accuracy: 0.6619\n",
            "Epoch 62/1000\n",
            "18/18 [==============================] - 0s 11ms/step - loss: 0.6107 - accuracy: 0.6381 - val_loss: 0.6024 - val_accuracy: 0.6619\n",
            "Epoch 63/1000\n",
            "18/18 [==============================] - 0s 11ms/step - loss: 0.6231 - accuracy: 0.6471 - val_loss: 0.6019 - val_accuracy: 0.6797\n",
            "Epoch 64/1000\n",
            "18/18 [==============================] - 0s 12ms/step - loss: 0.6055 - accuracy: 0.6881 - val_loss: 0.6040 - val_accuracy: 0.6548\n",
            "Epoch 65/1000\n",
            "18/18 [==============================] - 0s 10ms/step - loss: 0.6102 - accuracy: 0.6684 - val_loss: 0.6023 - val_accuracy: 0.6619\n",
            "Epoch 66/1000\n",
            "18/18 [==============================] - 0s 9ms/step - loss: 0.6170 - accuracy: 0.6453 - val_loss: 0.6029 - val_accuracy: 0.6548\n",
            "Epoch 67/1000\n",
            "18/18 [==============================] - 0s 12ms/step - loss: 0.6083 - accuracy: 0.6631 - val_loss: 0.6016 - val_accuracy: 0.6655\n",
            "Epoch 68/1000\n",
            "18/18 [==============================] - 0s 11ms/step - loss: 0.6179 - accuracy: 0.6524 - val_loss: 0.6018 - val_accuracy: 0.6619\n",
            "Epoch 69/1000\n",
            "18/18 [==============================] - 0s 12ms/step - loss: 0.6122 - accuracy: 0.6774 - val_loss: 0.6011 - val_accuracy: 0.6726\n",
            "Epoch 70/1000\n",
            "18/18 [==============================] - 0s 9ms/step - loss: 0.6078 - accuracy: 0.6756 - val_loss: 0.6022 - val_accuracy: 0.6619\n",
            "Epoch 71/1000\n",
            "18/18 [==============================] - 0s 9ms/step - loss: 0.6097 - accuracy: 0.6506 - val_loss: 0.6000 - val_accuracy: 0.6762\n",
            "Epoch 72/1000\n",
            "18/18 [==============================] - 0s 10ms/step - loss: 0.6085 - accuracy: 0.6667 - val_loss: 0.5991 - val_accuracy: 0.6868\n",
            "Epoch 73/1000\n",
            "18/18 [==============================] - 0s 12ms/step - loss: 0.6078 - accuracy: 0.6667 - val_loss: 0.6005 - val_accuracy: 0.6726\n",
            "Epoch 74/1000\n",
            "18/18 [==============================] - 0s 10ms/step - loss: 0.6128 - accuracy: 0.6684 - val_loss: 0.5997 - val_accuracy: 0.6726\n",
            "Epoch 75/1000\n",
            "18/18 [==============================] - 0s 11ms/step - loss: 0.6059 - accuracy: 0.6649 - val_loss: 0.5996 - val_accuracy: 0.6726\n",
            "Epoch 76/1000\n",
            "18/18 [==============================] - 0s 11ms/step - loss: 0.6141 - accuracy: 0.6738 - val_loss: 0.6002 - val_accuracy: 0.6726\n",
            "Epoch 77/1000\n",
            "18/18 [==============================] - 0s 11ms/step - loss: 0.6093 - accuracy: 0.6631 - val_loss: 0.5983 - val_accuracy: 0.6868\n",
            "Epoch 78/1000\n",
            "18/18 [==============================] - 0s 13ms/step - loss: 0.6096 - accuracy: 0.6595 - val_loss: 0.5973 - val_accuracy: 0.6868\n",
            "Epoch 79/1000\n",
            "18/18 [==============================] - 0s 11ms/step - loss: 0.6083 - accuracy: 0.6738 - val_loss: 0.5993 - val_accuracy: 0.6726\n",
            "Epoch 80/1000\n",
            "18/18 [==============================] - 0s 11ms/step - loss: 0.6054 - accuracy: 0.6578 - val_loss: 0.5970 - val_accuracy: 0.6868\n",
            "Epoch 81/1000\n",
            "18/18 [==============================] - 0s 10ms/step - loss: 0.6031 - accuracy: 0.6863 - val_loss: 0.5952 - val_accuracy: 0.6904\n",
            "Epoch 82/1000\n",
            "18/18 [==============================] - 0s 10ms/step - loss: 0.6102 - accuracy: 0.6667 - val_loss: 0.5983 - val_accuracy: 0.6726\n",
            "Epoch 83/1000\n",
            "18/18 [==============================] - 0s 10ms/step - loss: 0.5983 - accuracy: 0.6738 - val_loss: 0.5957 - val_accuracy: 0.6904\n",
            "Epoch 84/1000\n",
            "18/18 [==============================] - 0s 12ms/step - loss: 0.6046 - accuracy: 0.6916 - val_loss: 0.5964 - val_accuracy: 0.6762\n",
            "Epoch 85/1000\n",
            "18/18 [==============================] - 0s 11ms/step - loss: 0.6104 - accuracy: 0.6631 - val_loss: 0.5931 - val_accuracy: 0.6868\n",
            "Epoch 86/1000\n",
            "18/18 [==============================] - 0s 11ms/step - loss: 0.5987 - accuracy: 0.6720 - val_loss: 0.5918 - val_accuracy: 0.6868\n",
            "Epoch 87/1000\n",
            "18/18 [==============================] - 0s 10ms/step - loss: 0.5906 - accuracy: 0.6898 - val_loss: 0.5923 - val_accuracy: 0.6868\n",
            "Epoch 88/1000\n",
            "18/18 [==============================] - 0s 10ms/step - loss: 0.5923 - accuracy: 0.6934 - val_loss: 0.5859 - val_accuracy: 0.6940\n",
            "Epoch 89/1000\n",
            "18/18 [==============================] - 0s 13ms/step - loss: 0.5939 - accuracy: 0.6720 - val_loss: 0.5834 - val_accuracy: 0.6975\n",
            "Epoch 90/1000\n",
            "18/18 [==============================] - 0s 13ms/step - loss: 0.5853 - accuracy: 0.7023 - val_loss: 0.5785 - val_accuracy: 0.7117\n",
            "Epoch 91/1000\n",
            "18/18 [==============================] - 0s 10ms/step - loss: 0.5929 - accuracy: 0.6952 - val_loss: 0.5804 - val_accuracy: 0.7011\n",
            "Epoch 92/1000\n",
            "18/18 [==============================] - 0s 10ms/step - loss: 0.5780 - accuracy: 0.7201 - val_loss: 0.5756 - val_accuracy: 0.7082\n",
            "Epoch 93/1000\n",
            "18/18 [==============================] - 0s 11ms/step - loss: 0.5829 - accuracy: 0.7077 - val_loss: 0.5713 - val_accuracy: 0.7011\n",
            "Epoch 94/1000\n",
            "18/18 [==============================] - 0s 10ms/step - loss: 0.5818 - accuracy: 0.7130 - val_loss: 0.5665 - val_accuracy: 0.7046\n",
            "Epoch 95/1000\n",
            "18/18 [==============================] - 0s 11ms/step - loss: 0.5728 - accuracy: 0.7148 - val_loss: 0.5569 - val_accuracy: 0.7153\n",
            "Epoch 96/1000\n",
            "18/18 [==============================] - 0s 12ms/step - loss: 0.5554 - accuracy: 0.7166 - val_loss: 0.5578 - val_accuracy: 0.7117\n",
            "Epoch 97/1000\n",
            "18/18 [==============================] - 0s 12ms/step - loss: 0.5663 - accuracy: 0.7237 - val_loss: 0.5442 - val_accuracy: 0.7402\n",
            "Epoch 98/1000\n",
            "18/18 [==============================] - 0s 9ms/step - loss: 0.5543 - accuracy: 0.7326 - val_loss: 0.5338 - val_accuracy: 0.7438\n",
            "Epoch 99/1000\n",
            "18/18 [==============================] - 0s 12ms/step - loss: 0.5514 - accuracy: 0.7273 - val_loss: 0.5390 - val_accuracy: 0.7189\n",
            "Epoch 100/1000\n",
            "18/18 [==============================] - 0s 10ms/step - loss: 0.5315 - accuracy: 0.7469 - val_loss: 0.5190 - val_accuracy: 0.7473\n",
            "Epoch 101/1000\n",
            "18/18 [==============================] - 0s 9ms/step - loss: 0.5118 - accuracy: 0.7540 - val_loss: 0.4985 - val_accuracy: 0.7722\n",
            "Epoch 102/1000\n",
            "18/18 [==============================] - 0s 9ms/step - loss: 0.5160 - accuracy: 0.7611 - val_loss: 0.5179 - val_accuracy: 0.7189\n",
            "Epoch 103/1000\n",
            "18/18 [==============================] - 0s 9ms/step - loss: 0.4925 - accuracy: 0.7647 - val_loss: 0.4694 - val_accuracy: 0.7865\n",
            "Epoch 104/1000\n",
            "18/18 [==============================] - 0s 10ms/step - loss: 0.4756 - accuracy: 0.7986 - val_loss: 0.4519 - val_accuracy: 0.8149\n",
            "Epoch 105/1000\n",
            "18/18 [==============================] - 0s 12ms/step - loss: 0.4548 - accuracy: 0.8111 - val_loss: 0.4380 - val_accuracy: 0.7900\n",
            "Epoch 106/1000\n",
            "18/18 [==============================] - 0s 11ms/step - loss: 0.4578 - accuracy: 0.8004 - val_loss: 0.4618 - val_accuracy: 0.7580\n",
            "Epoch 107/1000\n",
            "18/18 [==============================] - 0s 11ms/step - loss: 0.4183 - accuracy: 0.8182 - val_loss: 0.4119 - val_accuracy: 0.8541\n",
            "Epoch 108/1000\n",
            "18/18 [==============================] - 0s 11ms/step - loss: 0.4212 - accuracy: 0.8164 - val_loss: 0.4174 - val_accuracy: 0.7972\n",
            "Epoch 109/1000\n",
            "18/18 [==============================] - 0s 11ms/step - loss: 0.4023 - accuracy: 0.8324 - val_loss: 0.4277 - val_accuracy: 0.8327\n",
            "Epoch 110/1000\n",
            "18/18 [==============================] - 0s 14ms/step - loss: 0.4219 - accuracy: 0.8146 - val_loss: 0.3833 - val_accuracy: 0.8541\n",
            "Epoch 111/1000\n",
            "18/18 [==============================] - 0s 11ms/step - loss: 0.3726 - accuracy: 0.8592 - val_loss: 0.3714 - val_accuracy: 0.8505\n",
            "Epoch 112/1000\n",
            "18/18 [==============================] - 0s 13ms/step - loss: 0.3605 - accuracy: 0.8520 - val_loss: 0.3642 - val_accuracy: 0.8505\n",
            "Epoch 113/1000\n",
            "18/18 [==============================] - 0s 11ms/step - loss: 0.3674 - accuracy: 0.8396 - val_loss: 0.3608 - val_accuracy: 0.8648\n",
            "Epoch 114/1000\n",
            "18/18 [==============================] - 0s 14ms/step - loss: 0.3410 - accuracy: 0.8627 - val_loss: 0.4594 - val_accuracy: 0.7829\n",
            "Epoch 115/1000\n",
            "18/18 [==============================] - 0s 11ms/step - loss: 0.3556 - accuracy: 0.8592 - val_loss: 0.3541 - val_accuracy: 0.8470\n",
            "Epoch 116/1000\n",
            "18/18 [==============================] - 0s 10ms/step - loss: 0.3326 - accuracy: 0.8752 - val_loss: 0.3483 - val_accuracy: 0.8719\n",
            "Epoch 117/1000\n",
            "18/18 [==============================] - 0s 10ms/step - loss: 0.3070 - accuracy: 0.8859 - val_loss: 0.3480 - val_accuracy: 0.8434\n",
            "Epoch 118/1000\n",
            "18/18 [==============================] - 0s 10ms/step - loss: 0.3054 - accuracy: 0.8913 - val_loss: 0.3473 - val_accuracy: 0.8470\n",
            "Epoch 119/1000\n",
            "18/18 [==============================] - 0s 10ms/step - loss: 0.2988 - accuracy: 0.8877 - val_loss: 0.3473 - val_accuracy: 0.8434\n",
            "Epoch 120/1000\n",
            "18/18 [==============================] - 0s 11ms/step - loss: 0.3374 - accuracy: 0.8699 - val_loss: 0.3583 - val_accuracy: 0.8505\n",
            "Epoch 121/1000\n",
            "18/18 [==============================] - 0s 11ms/step - loss: 0.2964 - accuracy: 0.8966 - val_loss: 0.4477 - val_accuracy: 0.8043\n",
            "Epoch 122/1000\n",
            "18/18 [==============================] - 0s 11ms/step - loss: 0.3305 - accuracy: 0.8717 - val_loss: 0.3355 - val_accuracy: 0.8612\n",
            "Epoch 123/1000\n",
            "18/18 [==============================] - 0s 13ms/step - loss: 0.2963 - accuracy: 0.8966 - val_loss: 0.3310 - val_accuracy: 0.8683\n",
            "Epoch 124/1000\n",
            "18/18 [==============================] - 0s 11ms/step - loss: 0.2845 - accuracy: 0.8877 - val_loss: 0.3534 - val_accuracy: 0.8683\n",
            "Epoch 125/1000\n",
            "18/18 [==============================] - 0s 13ms/step - loss: 0.2588 - accuracy: 0.9073 - val_loss: 0.3313 - val_accuracy: 0.8790\n",
            "Epoch 126/1000\n",
            "18/18 [==============================] - 0s 10ms/step - loss: 0.3081 - accuracy: 0.8699 - val_loss: 0.3773 - val_accuracy: 0.8363\n",
            "Epoch 127/1000\n",
            "18/18 [==============================] - 0s 10ms/step - loss: 0.3016 - accuracy: 0.8930 - val_loss: 0.3252 - val_accuracy: 0.8719\n",
            "Epoch 128/1000\n",
            "18/18 [==============================] - 0s 10ms/step - loss: 0.2642 - accuracy: 0.8984 - val_loss: 0.3227 - val_accuracy: 0.8826\n",
            "Epoch 129/1000\n",
            "18/18 [==============================] - 0s 13ms/step - loss: 0.2642 - accuracy: 0.8930 - val_loss: 0.3178 - val_accuracy: 0.8754\n",
            "Epoch 130/1000\n",
            "18/18 [==============================] - 0s 11ms/step - loss: 0.2653 - accuracy: 0.8984 - val_loss: 0.3253 - val_accuracy: 0.8648\n",
            "Epoch 131/1000\n",
            "18/18 [==============================] - 0s 10ms/step - loss: 0.2683 - accuracy: 0.9002 - val_loss: 0.3623 - val_accuracy: 0.8612\n",
            "Epoch 132/1000\n",
            "18/18 [==============================] - 0s 10ms/step - loss: 0.2537 - accuracy: 0.9073 - val_loss: 0.3129 - val_accuracy: 0.8754\n",
            "Epoch 133/1000\n",
            "18/18 [==============================] - 0s 11ms/step - loss: 0.2438 - accuracy: 0.9162 - val_loss: 0.3257 - val_accuracy: 0.8861\n",
            "Epoch 134/1000\n",
            "18/18 [==============================] - 0s 10ms/step - loss: 0.2363 - accuracy: 0.9216 - val_loss: 0.3126 - val_accuracy: 0.8719\n",
            "Epoch 135/1000\n",
            "18/18 [==============================] - 0s 12ms/step - loss: 0.2228 - accuracy: 0.9287 - val_loss: 0.3105 - val_accuracy: 0.8790\n",
            "Epoch 136/1000\n",
            "18/18 [==============================] - 0s 10ms/step - loss: 0.2198 - accuracy: 0.9305 - val_loss: 0.3337 - val_accuracy: 0.8754\n",
            "Epoch 137/1000\n",
            "18/18 [==============================] - 0s 10ms/step - loss: 0.2231 - accuracy: 0.9251 - val_loss: 0.3231 - val_accuracy: 0.8719\n",
            "Epoch 138/1000\n",
            "18/18 [==============================] - 0s 12ms/step - loss: 0.2165 - accuracy: 0.9251 - val_loss: 0.3138 - val_accuracy: 0.8683\n",
            "Epoch 139/1000\n",
            "18/18 [==============================] - 0s 13ms/step - loss: 0.2159 - accuracy: 0.9251 - val_loss: 0.3141 - val_accuracy: 0.8932\n",
            "Epoch 140/1000\n",
            "18/18 [==============================] - 0s 13ms/step - loss: 0.2139 - accuracy: 0.9305 - val_loss: 0.3248 - val_accuracy: 0.8897\n",
            "Epoch 141/1000\n",
            "18/18 [==============================] - 0s 10ms/step - loss: 0.2214 - accuracy: 0.9144 - val_loss: 0.3895 - val_accuracy: 0.8327\n",
            "Epoch 142/1000\n",
            "18/18 [==============================] - 0s 10ms/step - loss: 0.2207 - accuracy: 0.9251 - val_loss: 0.3064 - val_accuracy: 0.8861\n",
            "Epoch 143/1000\n",
            "18/18 [==============================] - 0s 12ms/step - loss: 0.2185 - accuracy: 0.9323 - val_loss: 0.3194 - val_accuracy: 0.8897\n",
            "Epoch 144/1000\n",
            "18/18 [==============================] - 0s 10ms/step - loss: 0.2165 - accuracy: 0.9180 - val_loss: 0.3117 - val_accuracy: 0.8897\n",
            "Epoch 145/1000\n",
            "18/18 [==============================] - 0s 12ms/step - loss: 0.2064 - accuracy: 0.9216 - val_loss: 0.3274 - val_accuracy: 0.8648\n",
            "Epoch 146/1000\n",
            "18/18 [==============================] - 0s 11ms/step - loss: 0.1888 - accuracy: 0.9305 - val_loss: 0.3043 - val_accuracy: 0.8861\n",
            "Epoch 147/1000\n",
            "18/18 [==============================] - 0s 10ms/step - loss: 0.1896 - accuracy: 0.9394 - val_loss: 0.3029 - val_accuracy: 0.8861\n",
            "Epoch 148/1000\n",
            "18/18 [==============================] - 0s 11ms/step - loss: 0.2182 - accuracy: 0.9323 - val_loss: 0.4203 - val_accuracy: 0.8327\n",
            "Epoch 149/1000\n",
            "18/18 [==============================] - 0s 10ms/step - loss: 0.2047 - accuracy: 0.9269 - val_loss: 0.3080 - val_accuracy: 0.8932\n",
            "Epoch 150/1000\n",
            "18/18 [==============================] - 0s 14ms/step - loss: 0.1866 - accuracy: 0.9358 - val_loss: 0.3033 - val_accuracy: 0.8897\n",
            "Epoch 151/1000\n",
            "18/18 [==============================] - 0s 13ms/step - loss: 0.1880 - accuracy: 0.9340 - val_loss: 0.3020 - val_accuracy: 0.8932\n",
            "Epoch 152/1000\n",
            "18/18 [==============================] - 0s 10ms/step - loss: 0.1718 - accuracy: 0.9412 - val_loss: 0.3104 - val_accuracy: 0.8754\n",
            "Epoch 153/1000\n",
            "18/18 [==============================] - 0s 11ms/step - loss: 0.1742 - accuracy: 0.9465 - val_loss: 0.3023 - val_accuracy: 0.8932\n",
            "Epoch 154/1000\n",
            "18/18 [==============================] - 0s 11ms/step - loss: 0.1739 - accuracy: 0.9358 - val_loss: 0.3298 - val_accuracy: 0.8897\n",
            "Epoch 155/1000\n",
            "18/18 [==============================] - 0s 10ms/step - loss: 0.1992 - accuracy: 0.9251 - val_loss: 0.3036 - val_accuracy: 0.8968\n",
            "Epoch 156/1000\n",
            "18/18 [==============================] - 0s 10ms/step - loss: 0.1681 - accuracy: 0.9483 - val_loss: 0.3046 - val_accuracy: 0.8968\n",
            "Epoch 157/1000\n",
            "18/18 [==============================] - 0s 12ms/step - loss: 0.1633 - accuracy: 0.9430 - val_loss: 0.3094 - val_accuracy: 0.8790\n",
            "Epoch 158/1000\n",
            "18/18 [==============================] - 0s 10ms/step - loss: 0.1903 - accuracy: 0.9358 - val_loss: 0.3140 - val_accuracy: 0.8826\n",
            "Epoch 159/1000\n",
            "18/18 [==============================] - 0s 12ms/step - loss: 0.1597 - accuracy: 0.9430 - val_loss: 0.3554 - val_accuracy: 0.8826\n",
            "Epoch 160/1000\n",
            "18/18 [==============================] - 0s 10ms/step - loss: 0.1859 - accuracy: 0.9216 - val_loss: 0.3426 - val_accuracy: 0.8861\n",
            "Epoch 161/1000\n",
            "18/18 [==============================] - 0s 10ms/step - loss: 0.1678 - accuracy: 0.9483 - val_loss: 0.3572 - val_accuracy: 0.8826\n"
          ]
        }
      ]
    },
    {
      "cell_type": "code",
      "metadata": {
        "colab": {
          "base_uri": "https://localhost:8080/",
          "height": 295
        },
        "id": "EEyWpuNlnky7",
        "outputId": "a851ae6b-c25c-45a5-de22-cd9ed1196884"
      },
      "source": [
        "import matplotlib.pyplot as plt\n",
        "\n",
        "plt.title('Loss during training')\n",
        "plt.plot(range(len(history.history['loss'])), history.history['loss'], label='loss', ls='-', linewidth=.8, color='green')\n",
        "plt.plot(range(len(history.history['loss'])), history.history['val_loss'], label='validation loss', ls='-', linewidth=.8, color='red')\n",
        "plt.grid(color='grey', linewidth=.4)\n",
        "\n",
        "plt.legend(loc=\"upper right\")\n",
        "plt.xlabel(\"epochs\")\n",
        "plt.ylabel(\"loss\")\n",
        "plt.xlim(0, len(history.history['loss'])+1)\n",
        "plt.savefig('loss.png')\n",
        "plt.show()"
      ],
      "execution_count": null,
      "outputs": [
        {
          "output_type": "display_data",
          "data": {
            "text/plain": [
              "<Figure size 432x288 with 1 Axes>"
            ],
            "image/png": "[encoded data removed]"
          },
          "metadata": {
            "needs_background": "light"
          }
        }
      ]
    },
    {
      "cell_type": "code",
      "source": [
        "plt.title('Accuracy during training')\n",
        "plt.plot(range(len(history.history['loss'])), history.history['accuracy'], label='accuracy', ls='-', linewidth=.8, color='green')\n",
        "plt.plot(range(len(history.history['loss'])), history.history['val_accuracy'], label='val_accuracy loss', ls='-', linewidth=.8, color='red')\n",
        "plt.grid(color='grey', linewidth=.4)\n",
        "\n",
        "plt.legend(loc=\"lower right\")\n",
        "plt.xlabel(\"Accuracy\")\n",
        "plt.ylabel(\"loss\")\n",
        "plt.xlim(0, len(history.history['loss'])+1)\n",
        "plt.savefig('acc.png')\n",
        "plt.show()"
      ],
      "metadata": {
        "colab": {
          "base_uri": "https://localhost:8080/",
          "height": 295
        },
        "id": "38mS16NIprbj",
        "outputId": "16689cef-d9a4-45b5-cc7c-e48256e1c803"
      },
      "execution_count": null,
      "outputs": [
        {
          "output_type": "display_data",
          "data": {
            "text/plain": [
              "<Figure size 432x288 with 1 Axes>"
            ],
            "image/png": "[encoded data removed]"
          },
          "metadata": {
            "needs_background": "light"
          }
        }
      ]
    },
    {
      "cell_type": "code",
      "metadata": {
        "colab": {
          "base_uri": "https://localhost:8080/"
        },
        "id": "IpqqtTmAHADP",
        "outputId": "cb8a7a6c-b83c-40d6-8257-a71a08ef5981"
      },
      "source": [
        "print(\"Test accuracy: \" + str(espaan_model.get_model().evaluate(\n",
        "    x=fit_in_nn(x_test),\n",
        "    y=y_test   \n",
        "    )[1]))"
      ],
      "execution_count": null,
      "outputs": [
        {
          "output_type": "stream",
          "name": "stdout",
          "text": [
            "9/9 [==============================] - 0s 3ms/step - loss: 0.3503 - accuracy: 0.8790\n",
            "Test accuracy: 0.8790035843849182\n"
          ]
        }
      ]
    },
    {
      "cell_type": "code",
      "metadata": {
        "id": "5iXzG_qLaJdl"
      },
      "source": [
        "espaan_model.get_model().save('model.h5')"
      ],
      "execution_count": null,
      "outputs": []
    }
  ]
}