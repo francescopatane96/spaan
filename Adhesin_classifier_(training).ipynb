{
  "nbformat": 4,
  "nbformat_minor": 0,
  "metadata": {
    "colab": {
      "name": "Adhesin classifier (training).ipynb",
      "provenance": [],
      "collapsed_sections": []
    },
    "kernelspec": {
      "name": "python3",
      "display_name": "Python 3"
    },
    "language_info": {
      "name": "python"
    }
  },
  "cells": [
    {
      "cell_type": "markdown",
      "metadata": {
        "id": "6JeMq2cjYnv3"
      },
      "source": [
        "# Adhesin classifier (training)"
      ]
    },
    {
      "cell_type": "code",
      "metadata": {
        "colab": {
          "base_uri": "https://localhost:8080/"
        },
        "id": "irL-4xG6Yo5b",
        "outputId": "579e74bc-5e0d-478b-e275-587a27ddaa52"
      },
      "source": [
        "!rm -r spaan\n",
        "!git clone https://github.com/nicolagulmini/spaan\n",
        "!pip install Bio"
      ],
      "execution_count": 3,
      "outputs": [
        {
          "output_type": "stream",
          "name": "stdout",
          "text": [
            "rm: cannot remove 'spaan': No such file or directory\n",
            "Cloning into 'spaan'...\n",
            "remote: Enumerating objects: 255, done.\u001b[K\n",
            "remote: Counting objects: 100% (6/6), done.\u001b[K\n",
            "remote: Compressing objects: 100% (6/6), done.\u001b[K\n",
            "remote: Total 255 (delta 0), reused 3 (delta 0), pack-reused 249\u001b[K\n",
            "Receiving objects: 100% (255/255), 8.61 MiB | 30.49 MiB/s, done.\n",
            "Resolving deltas: 100% (138/138), done.\n",
            "Requirement already satisfied: Bio in /usr/local/lib/python3.7/dist-packages (1.3.8)\n",
            "Requirement already satisfied: biopython>=1.79 in /usr/local/lib/python3.7/dist-packages (from Bio) (1.79)\n",
            "Requirement already satisfied: mygene in /usr/local/lib/python3.7/dist-packages (from Bio) (3.2.2)\n",
            "Requirement already satisfied: tqdm in /usr/local/lib/python3.7/dist-packages (from Bio) (4.64.0)\n",
            "Requirement already satisfied: requests in /usr/local/lib/python3.7/dist-packages (from Bio) (2.23.0)\n",
            "Requirement already satisfied: numpy in /usr/local/lib/python3.7/dist-packages (from biopython>=1.79->Bio) (1.21.6)\n",
            "Requirement already satisfied: biothings-client>=0.2.6 in /usr/local/lib/python3.7/dist-packages (from mygene->Bio) (0.2.6)\n",
            "Requirement already satisfied: urllib3!=1.25.0,!=1.25.1,<1.26,>=1.21.1 in /usr/local/lib/python3.7/dist-packages (from requests->Bio) (1.24.3)\n",
            "Requirement already satisfied: certifi>=2017.4.17 in /usr/local/lib/python3.7/dist-packages (from requests->Bio) (2021.10.8)\n",
            "Requirement already satisfied: chardet<4,>=3.0.2 in /usr/local/lib/python3.7/dist-packages (from requests->Bio) (3.0.4)\n",
            "Requirement already satisfied: idna<3,>=2.5 in /usr/local/lib/python3.7/dist-packages (from requests->Bio) (2.10)\n"
          ]
        }
      ]
    },
    {
      "cell_type": "code",
      "metadata": {
        "id": "2GLTq6fZZDyN"
      },
      "source": [
        "from spaan.data_processing import *\n",
        "from spaan.Expanded_SPAAN_Model import *\n",
        "from Bio import SeqIO\n",
        "import numpy as np\n",
        "import tensorflow"
      ],
      "execution_count": 4,
      "outputs": []
    },
    {
      "cell_type": "code",
      "metadata": {
        "id": "83LHf-j6HfFh"
      },
      "source": [
        "# load the datasets (it requires about 1 minute)\n",
        "x, y = process(list(SeqIO.parse(\"spaan/data/original_adh_dataset.fasta\", \"fasta\")), list(SeqIO.parse(\"spaan/data/original_negative_dataset.fasta\", \"fasta\")))"
      ],
      "execution_count": 5,
      "outputs": []
    },
    {
      "cell_type": "code",
      "metadata": {
        "colab": {
          "base_uri": "https://localhost:8080/"
        },
        "id": "_S4rkW8NH0N-",
        "outputId": "5614af5f-4e3d-42b8-d89b-970e772ef82f"
      },
      "source": [
        "x_train, y_train, x_val, y_val, x_test, y_test = split_ds(np.array(x), np.array(y), np.random.permutation(len(x)))\n",
        "# fix the warning of the nested lists!"
      ],
      "execution_count": 6,
      "outputs": [
        {
          "output_type": "stream",
          "name": "stderr",
          "text": [
            "/usr/local/lib/python3.7/dist-packages/ipykernel_launcher.py:1: VisibleDeprecationWarning: Creating an ndarray from ragged nested sequences (which is a list-or-tuple of lists-or-tuples-or ndarrays with different lengths or shapes) is deprecated. If you meant to do this, you must specify 'dtype=object' when creating the ndarray.\n",
            "  \"\"\"Entry point for launching an IPython kernel.\n"
          ]
        }
      ]
    },
    {
      "cell_type": "code",
      "metadata": {
        "id": "Fak6uDwTqllE"
      },
      "source": [
        "# method for fitting in the multi-input neural network\n",
        "def fit_in_nn(x):\n",
        "    x_1, x_2, x_3, x_4, x_5, x_6, x_7 = [[] for _ in range(7)]\n",
        "    for el in x:\n",
        "        x_1.append(el[0])\n",
        "        x_2.append(el[1])\n",
        "        x_3.append(el[2])\n",
        "        x_4.append(el[3])\n",
        "        x_5.append(el[4])\n",
        "        x_6.append(el[5])\n",
        "        x_7.append(el[6])\n",
        "    return np.array(x_1), np.array(x_2), np.array(x_3), np.array(x_4), np.array(x_5), np.array(x_6), np.array(x_7)"
      ],
      "execution_count": 7,
      "outputs": []
    },
    {
      "cell_type": "code",
      "metadata": {
        "id": "rldzmDWVjMOP"
      },
      "source": [
        "# model instantiation\n",
        "espaan_model = Expanded_SPAAN_Model()\n",
        "max_epochs = 300"
      ],
      "execution_count": 8,
      "outputs": []
    },
    {
      "cell_type": "code",
      "metadata": {
        "id": "zTmUHIuUmOr5",
        "colab": {
          "base_uri": "https://localhost:8080/"
        },
        "outputId": "c9ce44e6-c4f9-442b-9ef2-ab813be35c91"
      },
      "source": [
        "my_callbacks = [\n",
        "    tensorflow.keras.callbacks.EarlyStopping(patience=10)\n",
        "]\n",
        "\n",
        "history = espaan_model.get_model().fit(\n",
        "                                        x=fit_in_nn(x_train),\n",
        "                                        y=y_train,\n",
        "                                        batch_size=32, # default\n",
        "                                        epochs=max_epochs, # the original paper has 10k epochs!\n",
        "                                        verbose=1, # 1 or 2 to watch the evolution\n",
        "                                        validation_data=(fit_in_nn(x_val), y_val),\n",
        "                                        callbacks=my_callbacks,\n",
        "                                        shuffle=True    \n",
        "                                        )"
      ],
      "execution_count": 9,
      "outputs": [
        {
          "output_type": "stream",
          "name": "stdout",
          "text": [
            "Epoch 1/300\n",
            "18/18 [==============================] - 2s 28ms/step - loss: 0.6827 - accuracy: 0.5526 - val_loss: 0.6651 - val_accuracy: 0.6335\n",
            "Epoch 2/300\n",
            "18/18 [==============================] - 0s 8ms/step - loss: 0.6714 - accuracy: 0.6185 - val_loss: 0.6569 - val_accuracy: 0.6335\n",
            "Epoch 3/300\n",
            "18/18 [==============================] - 0s 9ms/step - loss: 0.6632 - accuracy: 0.6150 - val_loss: 0.6570 - val_accuracy: 0.6335\n",
            "Epoch 4/300\n",
            "18/18 [==============================] - 0s 12ms/step - loss: 0.6689 - accuracy: 0.6150 - val_loss: 0.6569 - val_accuracy: 0.6335\n",
            "Epoch 5/300\n",
            "18/18 [==============================] - 0s 9ms/step - loss: 0.6700 - accuracy: 0.6185 - val_loss: 0.6573 - val_accuracy: 0.6335\n",
            "Epoch 6/300\n",
            "18/18 [==============================] - 0s 8ms/step - loss: 0.6718 - accuracy: 0.6078 - val_loss: 0.6566 - val_accuracy: 0.6335\n",
            "Epoch 7/300\n",
            "18/18 [==============================] - 0s 11ms/step - loss: 0.6660 - accuracy: 0.6221 - val_loss: 0.6571 - val_accuracy: 0.6335\n",
            "Epoch 8/300\n",
            "18/18 [==============================] - 0s 8ms/step - loss: 0.6707 - accuracy: 0.6132 - val_loss: 0.6574 - val_accuracy: 0.6335\n",
            "Epoch 9/300\n",
            "18/18 [==============================] - 0s 9ms/step - loss: 0.6683 - accuracy: 0.6150 - val_loss: 0.6572 - val_accuracy: 0.6335\n",
            "Epoch 10/300\n",
            "18/18 [==============================] - 0s 10ms/step - loss: 0.6717 - accuracy: 0.6168 - val_loss: 0.6571 - val_accuracy: 0.6335\n",
            "Epoch 11/300\n",
            "18/18 [==============================] - 0s 11ms/step - loss: 0.6691 - accuracy: 0.6168 - val_loss: 0.6567 - val_accuracy: 0.6335\n",
            "Epoch 12/300\n",
            "18/18 [==============================] - 0s 8ms/step - loss: 0.6632 - accuracy: 0.6203 - val_loss: 0.6570 - val_accuracy: 0.6335\n",
            "Epoch 13/300\n",
            "18/18 [==============================] - 0s 9ms/step - loss: 0.6688 - accuracy: 0.6185 - val_loss: 0.6560 - val_accuracy: 0.6335\n",
            "Epoch 14/300\n",
            "18/18 [==============================] - 0s 9ms/step - loss: 0.6669 - accuracy: 0.6185 - val_loss: 0.6563 - val_accuracy: 0.6335\n",
            "Epoch 15/300\n",
            "18/18 [==============================] - 0s 9ms/step - loss: 0.6641 - accuracy: 0.6168 - val_loss: 0.6566 - val_accuracy: 0.6335\n",
            "Epoch 16/300\n",
            "18/18 [==============================] - 0s 10ms/step - loss: 0.6671 - accuracy: 0.6203 - val_loss: 0.6556 - val_accuracy: 0.6335\n",
            "Epoch 17/300\n",
            "18/18 [==============================] - 0s 9ms/step - loss: 0.6620 - accuracy: 0.6150 - val_loss: 0.6553 - val_accuracy: 0.6335\n",
            "Epoch 18/300\n",
            "18/18 [==============================] - 0s 9ms/step - loss: 0.6641 - accuracy: 0.6203 - val_loss: 0.6549 - val_accuracy: 0.6335\n",
            "Epoch 19/300\n",
            "18/18 [==============================] - 0s 9ms/step - loss: 0.6706 - accuracy: 0.6168 - val_loss: 0.6546 - val_accuracy: 0.6335\n",
            "Epoch 20/300\n",
            "18/18 [==============================] - 0s 9ms/step - loss: 0.6622 - accuracy: 0.6185 - val_loss: 0.6544 - val_accuracy: 0.6335\n",
            "Epoch 21/300\n",
            "18/18 [==============================] - 0s 11ms/step - loss: 0.6627 - accuracy: 0.6150 - val_loss: 0.6534 - val_accuracy: 0.6335\n",
            "Epoch 22/300\n",
            "18/18 [==============================] - 0s 9ms/step - loss: 0.6608 - accuracy: 0.6221 - val_loss: 0.6522 - val_accuracy: 0.6335\n",
            "Epoch 23/300\n",
            "18/18 [==============================] - 0s 9ms/step - loss: 0.6672 - accuracy: 0.6132 - val_loss: 0.6526 - val_accuracy: 0.6335\n",
            "Epoch 24/300\n",
            "18/18 [==============================] - 0s 9ms/step - loss: 0.6577 - accuracy: 0.6203 - val_loss: 0.6499 - val_accuracy: 0.6335\n",
            "Epoch 25/300\n",
            "18/18 [==============================] - 0s 10ms/step - loss: 0.6575 - accuracy: 0.6168 - val_loss: 0.6482 - val_accuracy: 0.6335\n",
            "Epoch 26/300\n",
            "18/18 [==============================] - 0s 9ms/step - loss: 0.6574 - accuracy: 0.6185 - val_loss: 0.6467 - val_accuracy: 0.6335\n",
            "Epoch 27/300\n",
            "18/18 [==============================] - 0s 10ms/step - loss: 0.6545 - accuracy: 0.6168 - val_loss: 0.6448 - val_accuracy: 0.6335\n",
            "Epoch 28/300\n",
            "18/18 [==============================] - 0s 12ms/step - loss: 0.6611 - accuracy: 0.6150 - val_loss: 0.6424 - val_accuracy: 0.6335\n",
            "Epoch 29/300\n",
            "18/18 [==============================] - 0s 10ms/step - loss: 0.6500 - accuracy: 0.6185 - val_loss: 0.6400 - val_accuracy: 0.6335\n",
            "Epoch 30/300\n",
            "18/18 [==============================] - 0s 10ms/step - loss: 0.6526 - accuracy: 0.6257 - val_loss: 0.6383 - val_accuracy: 0.6335\n",
            "Epoch 31/300\n",
            "18/18 [==============================] - 0s 10ms/step - loss: 0.6425 - accuracy: 0.6399 - val_loss: 0.6355 - val_accuracy: 0.6335\n",
            "Epoch 32/300\n",
            "18/18 [==============================] - 0s 13ms/step - loss: 0.6455 - accuracy: 0.6221 - val_loss: 0.6309 - val_accuracy: 0.6335\n",
            "Epoch 33/300\n",
            "18/18 [==============================] - 0s 10ms/step - loss: 0.6492 - accuracy: 0.6096 - val_loss: 0.6282 - val_accuracy: 0.6335\n",
            "Epoch 34/300\n",
            "18/18 [==============================] - 0s 10ms/step - loss: 0.6452 - accuracy: 0.6310 - val_loss: 0.6260 - val_accuracy: 0.6441\n",
            "Epoch 35/300\n",
            "18/18 [==============================] - 0s 10ms/step - loss: 0.6378 - accuracy: 0.6328 - val_loss: 0.6228 - val_accuracy: 0.6477\n",
            "Epoch 36/300\n",
            "18/18 [==============================] - 0s 12ms/step - loss: 0.6404 - accuracy: 0.6185 - val_loss: 0.6195 - val_accuracy: 0.6477\n",
            "Epoch 37/300\n",
            "18/18 [==============================] - 0s 13ms/step - loss: 0.6379 - accuracy: 0.6328 - val_loss: 0.6181 - val_accuracy: 0.6406\n",
            "Epoch 38/300\n",
            "18/18 [==============================] - 0s 9ms/step - loss: 0.6321 - accuracy: 0.6310 - val_loss: 0.6148 - val_accuracy: 0.6441\n",
            "Epoch 39/300\n",
            "18/18 [==============================] - 0s 9ms/step - loss: 0.6240 - accuracy: 0.6506 - val_loss: 0.6129 - val_accuracy: 0.6406\n",
            "Epoch 40/300\n",
            "18/18 [==============================] - 0s 11ms/step - loss: 0.6309 - accuracy: 0.6328 - val_loss: 0.6103 - val_accuracy: 0.6548\n",
            "Epoch 41/300\n",
            "18/18 [==============================] - 0s 10ms/step - loss: 0.6300 - accuracy: 0.6471 - val_loss: 0.6092 - val_accuracy: 0.6584\n",
            "Epoch 42/300\n",
            "18/18 [==============================] - 0s 10ms/step - loss: 0.6265 - accuracy: 0.6364 - val_loss: 0.6071 - val_accuracy: 0.6548\n",
            "Epoch 43/300\n",
            "18/18 [==============================] - 0s 10ms/step - loss: 0.6309 - accuracy: 0.6221 - val_loss: 0.6068 - val_accuracy: 0.6762\n",
            "Epoch 44/300\n",
            "18/18 [==============================] - 0s 12ms/step - loss: 0.6269 - accuracy: 0.6542 - val_loss: 0.6050 - val_accuracy: 0.6548\n",
            "Epoch 45/300\n",
            "18/18 [==============================] - 0s 11ms/step - loss: 0.6230 - accuracy: 0.6471 - val_loss: 0.6040 - val_accuracy: 0.6584\n",
            "Epoch 46/300\n",
            "18/18 [==============================] - 0s 9ms/step - loss: 0.6177 - accuracy: 0.6595 - val_loss: 0.6047 - val_accuracy: 0.6868\n",
            "Epoch 47/300\n",
            "18/18 [==============================] - 0s 12ms/step - loss: 0.6224 - accuracy: 0.6488 - val_loss: 0.6022 - val_accuracy: 0.6548\n",
            "Epoch 48/300\n",
            "18/18 [==============================] - 0s 13ms/step - loss: 0.6218 - accuracy: 0.6399 - val_loss: 0.6016 - val_accuracy: 0.6762\n",
            "Epoch 49/300\n",
            "18/18 [==============================] - 0s 10ms/step - loss: 0.6263 - accuracy: 0.6667 - val_loss: 0.6022 - val_accuracy: 0.6904\n",
            "Epoch 50/300\n",
            "18/18 [==============================] - 0s 13ms/step - loss: 0.6189 - accuracy: 0.6560 - val_loss: 0.6010 - val_accuracy: 0.6619\n",
            "Epoch 51/300\n",
            "18/18 [==============================] - 0s 13ms/step - loss: 0.6215 - accuracy: 0.6649 - val_loss: 0.6011 - val_accuracy: 0.6904\n",
            "Epoch 52/300\n",
            "18/18 [==============================] - 0s 10ms/step - loss: 0.6147 - accuracy: 0.6578 - val_loss: 0.6000 - val_accuracy: 0.6833\n",
            "Epoch 53/300\n",
            "18/18 [==============================] - 0s 10ms/step - loss: 0.6218 - accuracy: 0.6631 - val_loss: 0.6002 - val_accuracy: 0.6868\n",
            "Epoch 54/300\n",
            "18/18 [==============================] - 0s 9ms/step - loss: 0.6181 - accuracy: 0.6684 - val_loss: 0.6013 - val_accuracy: 0.6762\n",
            "Epoch 55/300\n",
            "18/18 [==============================] - 0s 10ms/step - loss: 0.6228 - accuracy: 0.6417 - val_loss: 0.5996 - val_accuracy: 0.6868\n",
            "Epoch 56/300\n",
            "18/18 [==============================] - 0s 9ms/step - loss: 0.6209 - accuracy: 0.6631 - val_loss: 0.5994 - val_accuracy: 0.6904\n",
            "Epoch 57/300\n",
            "18/18 [==============================] - 0s 9ms/step - loss: 0.6215 - accuracy: 0.6649 - val_loss: 0.5995 - val_accuracy: 0.6868\n",
            "Epoch 58/300\n",
            "18/18 [==============================] - 0s 9ms/step - loss: 0.6238 - accuracy: 0.6845 - val_loss: 0.5993 - val_accuracy: 0.6868\n",
            "Epoch 59/300\n",
            "18/18 [==============================] - 0s 10ms/step - loss: 0.6116 - accuracy: 0.6881 - val_loss: 0.5993 - val_accuracy: 0.6904\n",
            "Epoch 60/300\n",
            "18/18 [==============================] - 0s 9ms/step - loss: 0.6146 - accuracy: 0.6595 - val_loss: 0.5994 - val_accuracy: 0.6868\n",
            "Epoch 61/300\n",
            "18/18 [==============================] - 0s 10ms/step - loss: 0.6221 - accuracy: 0.6756 - val_loss: 0.6016 - val_accuracy: 0.6762\n",
            "Epoch 62/300\n",
            "18/18 [==============================] - 0s 9ms/step - loss: 0.6144 - accuracy: 0.6667 - val_loss: 0.5990 - val_accuracy: 0.6797\n",
            "Epoch 63/300\n",
            "18/18 [==============================] - 0s 10ms/step - loss: 0.6205 - accuracy: 0.6667 - val_loss: 0.5982 - val_accuracy: 0.6868\n",
            "Epoch 64/300\n",
            "18/18 [==============================] - 0s 13ms/step - loss: 0.6198 - accuracy: 0.6613 - val_loss: 0.5995 - val_accuracy: 0.6833\n",
            "Epoch 65/300\n",
            "18/18 [==============================] - 0s 12ms/step - loss: 0.6130 - accuracy: 0.6684 - val_loss: 0.5988 - val_accuracy: 0.6762\n",
            "Epoch 66/300\n",
            "18/18 [==============================] - 0s 10ms/step - loss: 0.6164 - accuracy: 0.6756 - val_loss: 0.5991 - val_accuracy: 0.6762\n",
            "Epoch 67/300\n",
            "18/18 [==============================] - 0s 10ms/step - loss: 0.6220 - accuracy: 0.6595 - val_loss: 0.5985 - val_accuracy: 0.6904\n",
            "Epoch 68/300\n",
            "18/18 [==============================] - 0s 10ms/step - loss: 0.6099 - accuracy: 0.6595 - val_loss: 0.5978 - val_accuracy: 0.6797\n",
            "Epoch 69/300\n",
            "18/18 [==============================] - 0s 10ms/step - loss: 0.6153 - accuracy: 0.6667 - val_loss: 0.5977 - val_accuracy: 0.6904\n",
            "Epoch 70/300\n",
            "18/18 [==============================] - 0s 9ms/step - loss: 0.6144 - accuracy: 0.6774 - val_loss: 0.5991 - val_accuracy: 0.6833\n",
            "Epoch 71/300\n",
            "18/18 [==============================] - 0s 9ms/step - loss: 0.6121 - accuracy: 0.6720 - val_loss: 0.5977 - val_accuracy: 0.6797\n",
            "Epoch 72/300\n",
            "18/18 [==============================] - 0s 9ms/step - loss: 0.6125 - accuracy: 0.6827 - val_loss: 0.5987 - val_accuracy: 0.6904\n",
            "Epoch 73/300\n",
            "18/18 [==============================] - 0s 12ms/step - loss: 0.6030 - accuracy: 0.6916 - val_loss: 0.5967 - val_accuracy: 0.6868\n",
            "Epoch 74/300\n",
            "18/18 [==============================] - 0s 9ms/step - loss: 0.6144 - accuracy: 0.6702 - val_loss: 0.5973 - val_accuracy: 0.6762\n",
            "Epoch 75/300\n",
            "18/18 [==============================] - 0s 10ms/step - loss: 0.6138 - accuracy: 0.6774 - val_loss: 0.5965 - val_accuracy: 0.6833\n",
            "Epoch 76/300\n",
            "18/18 [==============================] - 0s 9ms/step - loss: 0.6161 - accuracy: 0.6560 - val_loss: 0.5964 - val_accuracy: 0.6726\n",
            "Epoch 77/300\n",
            "18/18 [==============================] - 0s 9ms/step - loss: 0.6207 - accuracy: 0.6578 - val_loss: 0.5961 - val_accuracy: 0.6762\n",
            "Epoch 78/300\n",
            "18/18 [==============================] - 0s 12ms/step - loss: 0.6064 - accuracy: 0.6756 - val_loss: 0.5957 - val_accuracy: 0.6762\n",
            "Epoch 79/300\n",
            "18/18 [==============================] - 0s 10ms/step - loss: 0.6148 - accuracy: 0.6613 - val_loss: 0.5944 - val_accuracy: 0.6833\n",
            "Epoch 80/300\n",
            "18/18 [==============================] - 0s 12ms/step - loss: 0.6101 - accuracy: 0.6667 - val_loss: 0.5942 - val_accuracy: 0.6762\n",
            "Epoch 81/300\n",
            "18/18 [==============================] - 0s 10ms/step - loss: 0.6048 - accuracy: 0.6667 - val_loss: 0.5943 - val_accuracy: 0.6833\n",
            "Epoch 82/300\n",
            "18/18 [==============================] - 0s 10ms/step - loss: 0.6129 - accuracy: 0.6595 - val_loss: 0.5928 - val_accuracy: 0.6762\n",
            "Epoch 83/300\n",
            "18/18 [==============================] - 0s 10ms/step - loss: 0.6078 - accuracy: 0.6934 - val_loss: 0.5924 - val_accuracy: 0.6726\n",
            "Epoch 84/300\n",
            "18/18 [==============================] - 0s 9ms/step - loss: 0.6138 - accuracy: 0.6738 - val_loss: 0.5918 - val_accuracy: 0.6797\n",
            "Epoch 85/300\n",
            "18/18 [==============================] - 0s 9ms/step - loss: 0.6065 - accuracy: 0.6898 - val_loss: 0.5912 - val_accuracy: 0.6904\n",
            "Epoch 86/300\n",
            "18/18 [==============================] - 0s 10ms/step - loss: 0.6100 - accuracy: 0.6809 - val_loss: 0.5890 - val_accuracy: 0.6762\n",
            "Epoch 87/300\n",
            "18/18 [==============================] - 0s 9ms/step - loss: 0.6075 - accuracy: 0.6881 - val_loss: 0.5892 - val_accuracy: 0.6975\n",
            "Epoch 88/300\n",
            "18/18 [==============================] - 0s 9ms/step - loss: 0.6010 - accuracy: 0.6898 - val_loss: 0.5860 - val_accuracy: 0.6868\n",
            "Epoch 89/300\n",
            "18/18 [==============================] - 0s 9ms/step - loss: 0.5923 - accuracy: 0.6988 - val_loss: 0.5888 - val_accuracy: 0.7046\n",
            "Epoch 90/300\n",
            "18/18 [==============================] - 0s 12ms/step - loss: 0.5997 - accuracy: 0.6738 - val_loss: 0.5819 - val_accuracy: 0.6833\n",
            "Epoch 91/300\n",
            "18/18 [==============================] - 0s 12ms/step - loss: 0.5954 - accuracy: 0.7023 - val_loss: 0.5810 - val_accuracy: 0.7117\n",
            "Epoch 92/300\n",
            "18/18 [==============================] - 0s 10ms/step - loss: 0.5933 - accuracy: 0.6845 - val_loss: 0.5772 - val_accuracy: 0.6975\n",
            "Epoch 93/300\n",
            "18/18 [==============================] - 0s 9ms/step - loss: 0.5888 - accuracy: 0.6916 - val_loss: 0.5748 - val_accuracy: 0.7117\n",
            "Epoch 94/300\n",
            "18/18 [==============================] - 0s 9ms/step - loss: 0.5883 - accuracy: 0.7130 - val_loss: 0.5717 - val_accuracy: 0.7117\n",
            "Epoch 95/300\n",
            "18/18 [==============================] - 0s 9ms/step - loss: 0.5797 - accuracy: 0.6916 - val_loss: 0.5675 - val_accuracy: 0.7011\n",
            "Epoch 96/300\n",
            "18/18 [==============================] - 0s 8ms/step - loss: 0.5847 - accuracy: 0.6916 - val_loss: 0.5649 - val_accuracy: 0.7189\n",
            "Epoch 97/300\n",
            "18/18 [==============================] - 0s 9ms/step - loss: 0.5714 - accuracy: 0.7184 - val_loss: 0.5610 - val_accuracy: 0.7189\n",
            "Epoch 98/300\n",
            "18/18 [==============================] - 0s 8ms/step - loss: 0.5747 - accuracy: 0.7184 - val_loss: 0.5553 - val_accuracy: 0.7224\n",
            "Epoch 99/300\n",
            "18/18 [==============================] - 0s 8ms/step - loss: 0.5724 - accuracy: 0.7041 - val_loss: 0.5536 - val_accuracy: 0.7331\n",
            "Epoch 100/300\n",
            "18/18 [==============================] - 0s 9ms/step - loss: 0.5686 - accuracy: 0.7219 - val_loss: 0.5450 - val_accuracy: 0.7260\n",
            "Epoch 101/300\n",
            "18/18 [==============================] - 0s 8ms/step - loss: 0.5583 - accuracy: 0.7273 - val_loss: 0.5415 - val_accuracy: 0.7509\n",
            "Epoch 102/300\n",
            "18/18 [==============================] - 0s 10ms/step - loss: 0.5494 - accuracy: 0.7362 - val_loss: 0.5329 - val_accuracy: 0.7402\n",
            "Epoch 103/300\n",
            "18/18 [==============================] - 0s 10ms/step - loss: 0.5437 - accuracy: 0.7522 - val_loss: 0.5252 - val_accuracy: 0.7651\n",
            "Epoch 104/300\n",
            "18/18 [==============================] - 0s 10ms/step - loss: 0.5497 - accuracy: 0.7308 - val_loss: 0.5174 - val_accuracy: 0.7722\n",
            "Epoch 105/300\n",
            "18/18 [==============================] - 0s 9ms/step - loss: 0.5397 - accuracy: 0.7398 - val_loss: 0.5121 - val_accuracy: 0.7865\n",
            "Epoch 106/300\n",
            "18/18 [==============================] - 0s 9ms/step - loss: 0.5186 - accuracy: 0.7522 - val_loss: 0.5023 - val_accuracy: 0.7829\n",
            "Epoch 107/300\n",
            "18/18 [==============================] - 0s 9ms/step - loss: 0.5262 - accuracy: 0.7772 - val_loss: 0.4948 - val_accuracy: 0.8043\n",
            "Epoch 108/300\n",
            "18/18 [==============================] - 0s 11ms/step - loss: 0.5045 - accuracy: 0.7843 - val_loss: 0.4871 - val_accuracy: 0.8114\n",
            "Epoch 109/300\n",
            "18/18 [==============================] - 0s 10ms/step - loss: 0.5141 - accuracy: 0.7754 - val_loss: 0.4802 - val_accuracy: 0.8221\n",
            "Epoch 110/300\n",
            "18/18 [==============================] - 0s 9ms/step - loss: 0.4940 - accuracy: 0.7807 - val_loss: 0.4709 - val_accuracy: 0.8327\n",
            "Epoch 111/300\n",
            "18/18 [==============================] - 0s 9ms/step - loss: 0.4921 - accuracy: 0.7718 - val_loss: 0.4632 - val_accuracy: 0.8221\n",
            "Epoch 112/300\n",
            "18/18 [==============================] - 0s 9ms/step - loss: 0.4742 - accuracy: 0.7968 - val_loss: 0.4563 - val_accuracy: 0.8292\n",
            "Epoch 113/300\n",
            "18/18 [==============================] - 0s 10ms/step - loss: 0.4799 - accuracy: 0.8057 - val_loss: 0.4476 - val_accuracy: 0.8292\n",
            "Epoch 114/300\n",
            "18/18 [==============================] - 0s 9ms/step - loss: 0.4785 - accuracy: 0.7843 - val_loss: 0.4423 - val_accuracy: 0.8434\n",
            "Epoch 115/300\n",
            "18/18 [==============================] - 0s 12ms/step - loss: 0.4641 - accuracy: 0.7968 - val_loss: 0.4372 - val_accuracy: 0.8470\n",
            "Epoch 116/300\n",
            "18/18 [==============================] - 0s 12ms/step - loss: 0.4810 - accuracy: 0.8021 - val_loss: 0.4306 - val_accuracy: 0.8399\n",
            "Epoch 117/300\n",
            "18/18 [==============================] - 0s 10ms/step - loss: 0.4423 - accuracy: 0.8217 - val_loss: 0.4275 - val_accuracy: 0.8505\n",
            "Epoch 118/300\n",
            "18/18 [==============================] - 0s 9ms/step - loss: 0.4467 - accuracy: 0.8128 - val_loss: 0.4203 - val_accuracy: 0.8399\n",
            "Epoch 119/300\n",
            "18/18 [==============================] - 0s 9ms/step - loss: 0.4436 - accuracy: 0.8217 - val_loss: 0.4157 - val_accuracy: 0.8363\n",
            "Epoch 120/300\n",
            "18/18 [==============================] - 0s 10ms/step - loss: 0.4529 - accuracy: 0.8128 - val_loss: 0.4131 - val_accuracy: 0.8505\n",
            "Epoch 121/300\n",
            "18/18 [==============================] - 0s 10ms/step - loss: 0.4345 - accuracy: 0.8182 - val_loss: 0.4102 - val_accuracy: 0.8470\n",
            "Epoch 122/300\n",
            "18/18 [==============================] - 0s 9ms/step - loss: 0.4452 - accuracy: 0.8039 - val_loss: 0.4076 - val_accuracy: 0.8470\n",
            "Epoch 123/300\n",
            "18/18 [==============================] - 0s 9ms/step - loss: 0.4194 - accuracy: 0.8467 - val_loss: 0.4049 - val_accuracy: 0.8541\n",
            "Epoch 124/300\n",
            "18/18 [==============================] - 0s 9ms/step - loss: 0.4399 - accuracy: 0.8235 - val_loss: 0.4027 - val_accuracy: 0.8541\n",
            "Epoch 125/300\n",
            "18/18 [==============================] - 0s 8ms/step - loss: 0.4256 - accuracy: 0.8342 - val_loss: 0.4025 - val_accuracy: 0.8221\n",
            "Epoch 126/300\n",
            "18/18 [==============================] - 0s 10ms/step - loss: 0.4200 - accuracy: 0.8164 - val_loss: 0.4107 - val_accuracy: 0.8754\n",
            "Epoch 127/300\n",
            "18/18 [==============================] - 0s 12ms/step - loss: 0.4395 - accuracy: 0.7950 - val_loss: 0.3961 - val_accuracy: 0.8577\n",
            "Epoch 128/300\n",
            "18/18 [==============================] - 0s 11ms/step - loss: 0.4198 - accuracy: 0.8289 - val_loss: 0.3948 - val_accuracy: 0.8612\n",
            "Epoch 129/300\n",
            "18/18 [==============================] - 0s 10ms/step - loss: 0.4167 - accuracy: 0.8342 - val_loss: 0.3940 - val_accuracy: 0.8648\n",
            "Epoch 130/300\n",
            "18/18 [==============================] - 0s 12ms/step - loss: 0.4105 - accuracy: 0.8414 - val_loss: 0.3916 - val_accuracy: 0.8612\n",
            "Epoch 131/300\n",
            "18/18 [==============================] - 0s 11ms/step - loss: 0.4066 - accuracy: 0.8378 - val_loss: 0.3895 - val_accuracy: 0.8577\n",
            "Epoch 132/300\n",
            "18/18 [==============================] - 0s 10ms/step - loss: 0.4228 - accuracy: 0.8182 - val_loss: 0.3895 - val_accuracy: 0.8683\n",
            "Epoch 133/300\n",
            "18/18 [==============================] - 0s 9ms/step - loss: 0.3950 - accuracy: 0.8307 - val_loss: 0.3886 - val_accuracy: 0.8505\n",
            "Epoch 134/300\n",
            "18/18 [==============================] - 0s 10ms/step - loss: 0.4236 - accuracy: 0.8075 - val_loss: 0.3875 - val_accuracy: 0.8541\n",
            "Epoch 135/300\n",
            "18/18 [==============================] - 0s 9ms/step - loss: 0.3933 - accuracy: 0.8431 - val_loss: 0.3878 - val_accuracy: 0.8719\n",
            "Epoch 136/300\n",
            "18/18 [==============================] - 0s 9ms/step - loss: 0.4141 - accuracy: 0.8271 - val_loss: 0.3851 - val_accuracy: 0.8754\n",
            "Epoch 137/300\n",
            "18/18 [==============================] - 0s 10ms/step - loss: 0.4133 - accuracy: 0.8253 - val_loss: 0.3842 - val_accuracy: 0.8719\n",
            "Epoch 138/300\n",
            "18/18 [==============================] - 0s 9ms/step - loss: 0.4113 - accuracy: 0.8289 - val_loss: 0.3833 - val_accuracy: 0.8683\n",
            "Epoch 139/300\n",
            "18/18 [==============================] - 0s 9ms/step - loss: 0.4118 - accuracy: 0.8111 - val_loss: 0.3828 - val_accuracy: 0.8683\n",
            "Epoch 140/300\n",
            "18/18 [==============================] - 0s 9ms/step - loss: 0.3969 - accuracy: 0.8396 - val_loss: 0.3832 - val_accuracy: 0.8719\n",
            "Epoch 141/300\n",
            "18/18 [==============================] - 0s 9ms/step - loss: 0.4047 - accuracy: 0.8324 - val_loss: 0.3835 - val_accuracy: 0.8719\n",
            "Epoch 142/300\n",
            "18/18 [==============================] - 0s 9ms/step - loss: 0.4012 - accuracy: 0.8324 - val_loss: 0.3808 - val_accuracy: 0.8719\n",
            "Epoch 143/300\n",
            "18/18 [==============================] - 0s 10ms/step - loss: 0.4016 - accuracy: 0.8449 - val_loss: 0.3808 - val_accuracy: 0.8719\n",
            "Epoch 144/300\n",
            "18/18 [==============================] - 0s 9ms/step - loss: 0.4052 - accuracy: 0.8414 - val_loss: 0.3808 - val_accuracy: 0.8754\n",
            "Epoch 145/300\n",
            "18/18 [==============================] - 0s 9ms/step - loss: 0.4152 - accuracy: 0.8253 - val_loss: 0.3819 - val_accuracy: 0.8683\n",
            "Epoch 146/300\n",
            "18/18 [==============================] - 0s 9ms/step - loss: 0.3892 - accuracy: 0.8360 - val_loss: 0.3813 - val_accuracy: 0.8683\n",
            "Epoch 147/300\n",
            "18/18 [==============================] - 0s 9ms/step - loss: 0.3942 - accuracy: 0.8431 - val_loss: 0.3795 - val_accuracy: 0.8754\n",
            "Epoch 148/300\n",
            "18/18 [==============================] - 0s 10ms/step - loss: 0.4101 - accuracy: 0.8253 - val_loss: 0.3799 - val_accuracy: 0.8754\n",
            "Epoch 149/300\n",
            "18/18 [==============================] - 0s 10ms/step - loss: 0.3939 - accuracy: 0.8467 - val_loss: 0.3786 - val_accuracy: 0.8754\n",
            "Epoch 150/300\n",
            "18/18 [==============================] - 0s 9ms/step - loss: 0.4119 - accuracy: 0.8520 - val_loss: 0.3805 - val_accuracy: 0.8612\n",
            "Epoch 151/300\n",
            "18/18 [==============================] - 0s 9ms/step - loss: 0.4094 - accuracy: 0.8271 - val_loss: 0.3784 - val_accuracy: 0.8754\n",
            "Epoch 152/300\n",
            "18/18 [==============================] - 0s 11ms/step - loss: 0.4052 - accuracy: 0.8378 - val_loss: 0.3783 - val_accuracy: 0.8754\n",
            "Epoch 153/300\n",
            "18/18 [==============================] - 0s 8ms/step - loss: 0.3859 - accuracy: 0.8449 - val_loss: 0.3779 - val_accuracy: 0.8790\n",
            "Epoch 154/300\n",
            "18/18 [==============================] - 0s 12ms/step - loss: 0.3961 - accuracy: 0.8449 - val_loss: 0.3771 - val_accuracy: 0.8790\n",
            "Epoch 155/300\n",
            "18/18 [==============================] - 0s 9ms/step - loss: 0.3968 - accuracy: 0.8342 - val_loss: 0.3779 - val_accuracy: 0.8683\n",
            "Epoch 156/300\n",
            "18/18 [==============================] - 0s 9ms/step - loss: 0.4010 - accuracy: 0.8378 - val_loss: 0.3800 - val_accuracy: 0.8648\n",
            "Epoch 157/300\n",
            "18/18 [==============================] - 0s 9ms/step - loss: 0.3925 - accuracy: 0.8414 - val_loss: 0.3768 - val_accuracy: 0.8648\n",
            "Epoch 158/300\n",
            "18/18 [==============================] - 0s 9ms/step - loss: 0.3818 - accuracy: 0.8520 - val_loss: 0.3768 - val_accuracy: 0.8754\n",
            "Epoch 159/300\n",
            "18/18 [==============================] - 0s 9ms/step - loss: 0.3841 - accuracy: 0.8467 - val_loss: 0.3772 - val_accuracy: 0.8648\n",
            "Epoch 160/300\n",
            "18/18 [==============================] - 0s 10ms/step - loss: 0.3945 - accuracy: 0.8324 - val_loss: 0.3762 - val_accuracy: 0.8719\n",
            "Epoch 161/300\n",
            "18/18 [==============================] - 0s 12ms/step - loss: 0.3906 - accuracy: 0.8396 - val_loss: 0.3759 - val_accuracy: 0.8754\n",
            "Epoch 162/300\n",
            "18/18 [==============================] - 0s 11ms/step - loss: 0.4002 - accuracy: 0.8414 - val_loss: 0.3762 - val_accuracy: 0.8719\n",
            "Epoch 163/300\n",
            "18/18 [==============================] - 0s 13ms/step - loss: 0.4010 - accuracy: 0.8414 - val_loss: 0.3758 - val_accuracy: 0.8719\n",
            "Epoch 164/300\n",
            "18/18 [==============================] - 0s 11ms/step - loss: 0.3912 - accuracy: 0.8414 - val_loss: 0.3758 - val_accuracy: 0.8719\n",
            "Epoch 165/300\n",
            "18/18 [==============================] - 0s 11ms/step - loss: 0.3867 - accuracy: 0.8467 - val_loss: 0.3773 - val_accuracy: 0.8648\n",
            "Epoch 166/300\n",
            "18/18 [==============================] - 0s 10ms/step - loss: 0.3660 - accuracy: 0.8520 - val_loss: 0.3756 - val_accuracy: 0.8719\n",
            "Epoch 167/300\n",
            "18/18 [==============================] - 0s 10ms/step - loss: 0.3934 - accuracy: 0.8449 - val_loss: 0.3749 - val_accuracy: 0.8683\n",
            "Epoch 168/300\n",
            "18/18 [==============================] - 0s 10ms/step - loss: 0.3713 - accuracy: 0.8681 - val_loss: 0.3791 - val_accuracy: 0.8683\n",
            "Epoch 169/300\n",
            "18/18 [==============================] - 0s 10ms/step - loss: 0.3942 - accuracy: 0.8556 - val_loss: 0.3747 - val_accuracy: 0.8683\n",
            "Epoch 170/300\n",
            "18/18 [==============================] - 0s 12ms/step - loss: 0.3720 - accuracy: 0.8627 - val_loss: 0.3747 - val_accuracy: 0.8683\n",
            "Epoch 171/300\n",
            "18/18 [==============================] - 0s 13ms/step - loss: 0.3874 - accuracy: 0.8592 - val_loss: 0.3760 - val_accuracy: 0.8648\n",
            "Epoch 172/300\n",
            "18/18 [==============================] - 0s 12ms/step - loss: 0.3772 - accuracy: 0.8503 - val_loss: 0.3757 - val_accuracy: 0.8648\n",
            "Epoch 173/300\n",
            "18/18 [==============================] - 0s 13ms/step - loss: 0.3872 - accuracy: 0.8396 - val_loss: 0.3755 - val_accuracy: 0.8719\n",
            "Epoch 174/300\n",
            "18/18 [==============================] - 0s 10ms/step - loss: 0.3821 - accuracy: 0.8592 - val_loss: 0.3740 - val_accuracy: 0.8719\n",
            "Epoch 175/300\n",
            "18/18 [==============================] - 0s 11ms/step - loss: 0.3642 - accuracy: 0.8645 - val_loss: 0.3738 - val_accuracy: 0.8683\n",
            "Epoch 176/300\n",
            "18/18 [==============================] - 0s 10ms/step - loss: 0.3886 - accuracy: 0.8360 - val_loss: 0.3769 - val_accuracy: 0.8683\n",
            "Epoch 177/300\n",
            "18/18 [==============================] - 0s 9ms/step - loss: 0.3883 - accuracy: 0.8378 - val_loss: 0.3752 - val_accuracy: 0.8612\n",
            "Epoch 178/300\n",
            "18/18 [==============================] - 0s 9ms/step - loss: 0.3787 - accuracy: 0.8520 - val_loss: 0.3748 - val_accuracy: 0.8719\n",
            "Epoch 179/300\n",
            "18/18 [==============================] - 0s 9ms/step - loss: 0.3766 - accuracy: 0.8485 - val_loss: 0.3747 - val_accuracy: 0.8683\n",
            "Epoch 180/300\n",
            "18/18 [==============================] - 0s 9ms/step - loss: 0.3768 - accuracy: 0.8538 - val_loss: 0.3744 - val_accuracy: 0.8683\n",
            "Epoch 181/300\n",
            "18/18 [==============================] - 0s 10ms/step - loss: 0.3829 - accuracy: 0.8520 - val_loss: 0.3762 - val_accuracy: 0.8683\n",
            "Epoch 182/300\n",
            "18/18 [==============================] - 0s 9ms/step - loss: 0.3877 - accuracy: 0.8449 - val_loss: 0.3755 - val_accuracy: 0.8683\n",
            "Epoch 183/300\n",
            "18/18 [==============================] - 0s 10ms/step - loss: 0.3915 - accuracy: 0.8503 - val_loss: 0.3765 - val_accuracy: 0.8683\n",
            "Epoch 184/300\n",
            "18/18 [==============================] - 0s 10ms/step - loss: 0.3874 - accuracy: 0.8467 - val_loss: 0.3745 - val_accuracy: 0.8648\n",
            "Epoch 185/300\n",
            "18/18 [==============================] - 0s 9ms/step - loss: 0.3793 - accuracy: 0.8574 - val_loss: 0.3744 - val_accuracy: 0.8648\n"
          ]
        }
      ]
    },
    {
      "cell_type": "code",
      "metadata": {
        "colab": {
          "base_uri": "https://localhost:8080/",
          "height": 295
        },
        "id": "EEyWpuNlnky7",
        "outputId": "3f5f382a-e40d-4894-dea7-fc1c0a78929f"
      },
      "source": [
        "import matplotlib.pyplot as plt\n",
        "\n",
        "plt.title('Loss during training')\n",
        "plt.plot(range(len(history.history['loss'])), history.history['loss'], label='loss', ls='-', linewidth=.8, color='green')\n",
        "plt.plot(range(len(history.history['loss'])), history.history['val_loss'], label='validation loss', ls='-', linewidth=.8, color='red')\n",
        "plt.grid(color='grey', linewidth=.4)\n",
        "\n",
        "plt.legend(loc=\"upper right\")\n",
        "plt.xlabel(\"epochs\")\n",
        "plt.ylabel(\"loss\")\n",
        "plt.xlim(0, len(history.history['loss'])+1)\n",
        "plt.savefig('loss.png')\n",
        "plt.show()"
      ],
      "execution_count": 10,
      "outputs": [
        {
          "output_type": "display_data",
          "data": {
            "text/plain": [
              "<Figure size 432x288 with 1 Axes>"
            ],
            "image/png": "[encoded data removed]"
          },
          "metadata": {
            "needs_background": "light"
          }
        }
      ]
    },
    {
      "cell_type": "code",
      "source": [
        "plt.title('Accuracy during training')\n",
        "plt.plot(range(len(history.history['loss'])), history.history['accuracy'], label='accuracy', ls='-', linewidth=.8, color='green')\n",
        "plt.plot(range(len(history.history['loss'])), history.history['val_accuracy'], label='val_accuracy loss', ls='-', linewidth=.8, color='red')\n",
        "plt.grid(color='grey', linewidth=.4)\n",
        "\n",
        "plt.legend(loc=\"lower right\")\n",
        "plt.xlabel(\"Accuracy\")\n",
        "plt.ylabel(\"loss\")\n",
        "plt.xlim(0, len(history.history['loss'])+1)\n",
        "plt.savefig('acc.png')\n",
        "plt.show()"
      ],
      "metadata": {
        "colab": {
          "base_uri": "https://localhost:8080/",
          "height": 295
        },
        "id": "38mS16NIprbj",
        "outputId": "a95c9dd3-09fb-453d-cc7b-ae658af043d4"
      },
      "execution_count": 11,
      "outputs": [
        {
          "output_type": "display_data",
          "data": {
            "text/plain": [
              "<Figure size 432x288 with 1 Axes>"
            ],
            "image/png": "[encoded data removed]"
          },
          "metadata": {
            "needs_background": "light"
          }
        }
      ]
    },
    {
      "cell_type": "code",
      "metadata": {
        "colab": {
          "base_uri": "https://localhost:8080/"
        },
        "id": "IpqqtTmAHADP",
        "outputId": "f3d99dac-9d0b-41b3-9af7-34ebe5e3680d"
      },
      "source": [
        "print(\"Test accuracy: \" + str(espaan_model.get_model().evaluate(\n",
        "    x=fit_in_nn(x_test),\n",
        "    y=y_test   \n",
        "    )[1]))"
      ],
      "execution_count": 12,
      "outputs": [
        {
          "output_type": "stream",
          "name": "stdout",
          "text": [
            "9/9 [==============================] - 0s 3ms/step - loss: 0.3579 - accuracy: 0.8648\n",
            "Test accuracy: 0.8647686839103699\n"
          ]
        }
      ]
    },
    {
      "cell_type": "code",
      "metadata": {
        "id": "5iXzG_qLaJdl"
      },
      "source": [
        "espaan_model.get_model().save('model.h5')"
      ],
      "execution_count": 13,
      "outputs": []
    }
  ]
}